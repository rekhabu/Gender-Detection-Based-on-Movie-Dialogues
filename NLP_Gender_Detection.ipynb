{
  "nbformat": 4,
  "nbformat_minor": 0,
  "metadata": {
    "colab": {
      "name": "NLP_Gender Detection",
      "provenance": [],
      "collapsed_sections": []
    },
    "kernelspec": {
      "name": "python3",
      "display_name": "Python 3"
    },
    "language_info": {
      "name": "python"
    }
  },
  "cells": [
    {
      "cell_type": "markdown",
      "metadata": {
        "id": "FVaIdQFqtg1F"
      },
      "source": [
        "##**Lesson: Classification of Character Gender Based on Movie Dialogues**"
      ]
    },
    {
      "cell_type": "markdown",
      "metadata": {
        "id": "ZdAYJrKRt_5e"
      },
      "source": [
        "##**Dataset Description**\n",
        "In this lesson we wiill build a classification model to classify the gender of a Hollywood movie character based on their dialogues in the movie.\n",
        "\n",
        "This dataset is a rich collection of fictional conversations extracted from raw movie scripts. The dataset has:\n",
        "\n",
        "*   2,20,579 conversational exchanges between 10,292 pairs of movie characters\n",
        "*   Involves 9,035 characters from 617 movies\n",
        "*   In total 3,04,713 utterances\n",
        "\n",
        "**Link to movie characters metadata file:** https://raw.githubusercontent.com/rekhabu/movie_dialog/main/movie_characters_metadata.tsv \n",
        "\n",
        "The movie characters metadata file has following fields about each movie character:\n",
        "* characterID\n",
        "* character name\n",
        "* movieID\n",
        "* movie title\n",
        "* gender with \"?\" for unlabeled cases\n",
        "* position in credits with \"?\" for unlabeled cases\n",
        "\n",
        "\n",
        "**Link to movie lines file:** https://raw.githubusercontent.com/rekhabu/movie_dialog/main/movie_lines.tsv\n",
        "\n",
        "The movie lines dataset contains the actual text of each utterance or the dialogues of the characters. The fields included are:\n",
        "* lineID\n",
        "* characterID (who uttered this phrase)\n",
        "* movieID\n",
        "* character name\n",
        "* text of the utterance\n",
        "\n"
      ]
    },
    {
      "cell_type": "markdown",
      "metadata": {
        "id": "r6bm6JPxxHIy"
      },
      "source": [
        "**Note:** The files have an extension .tsv which stands for tab seperated value. This means the columns in the dataset are seperated by tab ('\\t') character"
      ]
    },
    {
      "cell_type": "markdown",
      "metadata": {
        "id": "b52ot5t6EPAw"
      },
      "source": [
        "##Activity 1: Load the datasets"
      ]
    },
    {
      "cell_type": "code",
      "metadata": {
        "id": "VtT7w3lPwvko"
      },
      "source": [
        "# Import the required python libraries\n",
        "import pandas as pd\n",
        "import string\n",
        "import warnings\n",
        "warnings.filterwarnings(action = 'ignore')"
      ],
      "execution_count": null,
      "outputs": []
    },
    {
      "cell_type": "markdown",
      "metadata": {
        "id": "U6YMQ31l6Ov_"
      },
      "source": [
        "In the above cell we have imported the required python modules using `import` keyword. "
      ]
    },
    {
      "cell_type": "code",
      "metadata": {
        "colab": {
          "base_uri": "https://localhost:8080/",
          "height": 205
        },
        "id": "lhJ3dVI7y-z5",
        "outputId": "f5d0be17-3aee-4542-8901-3a24393cc3fa"
      },
      "source": [
        "# Create a pandas dataframe\n",
        "movie_char_df = pd.read_csv(\"https://raw.githubusercontent.com/rekhabu/movie_dialog/main/movie_characters_metadata.tsv\")\n",
        "\n",
        "# Display the first 5 rows \n",
        "movie_char_df.head()"
      ],
      "execution_count": null,
      "outputs": [
        {
          "output_type": "execute_result",
          "data": {
            "text/html": [
              "<div>\n",
              "<style scoped>\n",
              "    .dataframe tbody tr th:only-of-type {\n",
              "        vertical-align: middle;\n",
              "    }\n",
              "\n",
              "    .dataframe tbody tr th {\n",
              "        vertical-align: top;\n",
              "    }\n",
              "\n",
              "    .dataframe thead th {\n",
              "        text-align: right;\n",
              "    }\n",
              "</style>\n",
              "<table border=\"1\" class=\"dataframe\">\n",
              "  <thead>\n",
              "    <tr style=\"text-align: right;\">\n",
              "      <th></th>\n",
              "      <th>u0\\tBIANCA\\tm0\\t10 things i hate about you\\tf\\t4</th>\n",
              "    </tr>\n",
              "  </thead>\n",
              "  <tbody>\n",
              "    <tr>\n",
              "      <th>0</th>\n",
              "      <td>u1\\tBRUCE\\tm0\\t10 things i hate about you\\t?\\t?</td>\n",
              "    </tr>\n",
              "    <tr>\n",
              "      <th>1</th>\n",
              "      <td>u2\\tCAMERON\\tm0\\t10 things i hate about you\\tm\\t3</td>\n",
              "    </tr>\n",
              "    <tr>\n",
              "      <th>2</th>\n",
              "      <td>u3\\tCHASTITY\\tm0\\t10 things i hate about you\\t...</td>\n",
              "    </tr>\n",
              "    <tr>\n",
              "      <th>3</th>\n",
              "      <td>u4\\tJOEY\\tm0\\t10 things i hate about you\\tm\\t6</td>\n",
              "    </tr>\n",
              "    <tr>\n",
              "      <th>4</th>\n",
              "      <td>u5\\tKAT\\tm0\\t10 things i hate about you\\tf\\t2</td>\n",
              "    </tr>\n",
              "  </tbody>\n",
              "</table>\n",
              "</div>"
            ],
            "text/plain": [
              "    u0\\tBIANCA\\tm0\\t10 things i hate about you\\tf\\t4\n",
              "0    u1\\tBRUCE\\tm0\\t10 things i hate about you\\t?\\t?\n",
              "1  u2\\tCAMERON\\tm0\\t10 things i hate about you\\tm\\t3\n",
              "2  u3\\tCHASTITY\\tm0\\t10 things i hate about you\\t...\n",
              "3     u4\\tJOEY\\tm0\\t10 things i hate about you\\tm\\t6\n",
              "4      u5\\tKAT\\tm0\\t10 things i hate about you\\tf\\t2"
            ]
          },
          "metadata": {
            "tags": []
          },
          "execution_count": 2
        }
      ]
    },
    {
      "cell_type": "markdown",
      "metadata": {
        "id": "9J9Q9teIxg_p"
      },
      "source": [
        "We can see that the column name is inferred from the first row from the dataset. \n",
        "\n",
        "To avoid first line acting as the column header pass `header = None` in `read_csv()`"
      ]
    },
    {
      "cell_type": "code",
      "metadata": {
        "id": "8UUQoNOez9Wb",
        "colab": {
          "base_uri": "https://localhost:8080/",
          "height": 205
        },
        "outputId": "d79e9ebb-3ce7-469d-c28c-83fec784104e"
      },
      "source": [
        "# Pass header in read_csv()\n",
        "movie_char_df = pd.read_csv(\"https://raw.githubusercontent.com/rekhabu/movie_dialog/main/movie_characters_metadata.tsv\", header = None)\n",
        "\n",
        "# Display the first 5 rows \n",
        "movie_char_df.head()"
      ],
      "execution_count": null,
      "outputs": [
        {
          "output_type": "execute_result",
          "data": {
            "text/html": [
              "<div>\n",
              "<style scoped>\n",
              "    .dataframe tbody tr th:only-of-type {\n",
              "        vertical-align: middle;\n",
              "    }\n",
              "\n",
              "    .dataframe tbody tr th {\n",
              "        vertical-align: top;\n",
              "    }\n",
              "\n",
              "    .dataframe thead th {\n",
              "        text-align: right;\n",
              "    }\n",
              "</style>\n",
              "<table border=\"1\" class=\"dataframe\">\n",
              "  <thead>\n",
              "    <tr style=\"text-align: right;\">\n",
              "      <th></th>\n",
              "      <th>0</th>\n",
              "    </tr>\n",
              "  </thead>\n",
              "  <tbody>\n",
              "    <tr>\n",
              "      <th>0</th>\n",
              "      <td>u0\\tBIANCA\\tm0\\t10 things i hate about you\\tf\\t4</td>\n",
              "    </tr>\n",
              "    <tr>\n",
              "      <th>1</th>\n",
              "      <td>u1\\tBRUCE\\tm0\\t10 things i hate about you\\t?\\t?</td>\n",
              "    </tr>\n",
              "    <tr>\n",
              "      <th>2</th>\n",
              "      <td>u2\\tCAMERON\\tm0\\t10 things i hate about you\\tm\\t3</td>\n",
              "    </tr>\n",
              "    <tr>\n",
              "      <th>3</th>\n",
              "      <td>u3\\tCHASTITY\\tm0\\t10 things i hate about you\\t...</td>\n",
              "    </tr>\n",
              "    <tr>\n",
              "      <th>4</th>\n",
              "      <td>u4\\tJOEY\\tm0\\t10 things i hate about you\\tm\\t6</td>\n",
              "    </tr>\n",
              "  </tbody>\n",
              "</table>\n",
              "</div>"
            ],
            "text/plain": [
              "                                                   0\n",
              "0   u0\\tBIANCA\\tm0\\t10 things i hate about you\\tf\\t4\n",
              "1    u1\\tBRUCE\\tm0\\t10 things i hate about you\\t?\\t?\n",
              "2  u2\\tCAMERON\\tm0\\t10 things i hate about you\\tm\\t3\n",
              "3  u3\\tCHASTITY\\tm0\\t10 things i hate about you\\t...\n",
              "4     u4\\tJOEY\\tm0\\t10 things i hate about you\\tm\\t6"
            ]
          },
          "metadata": {
            "tags": []
          },
          "execution_count": 3
        }
      ]
    },
    {
      "cell_type": "markdown",
      "metadata": {
        "id": "RdbhDzjoyMz1"
      },
      "source": [
        "Now set the delimeter as `sep = '\\t'` in `read_csv()` to seperate the columns at `'\\t'` character."
      ]
    },
    {
      "cell_type": "code",
      "metadata": {
        "id": "ZUr0dPn_DDPD"
      },
      "source": [
        "# Pass sep in read_csv(). This code will give us an error.\n",
        "# movie_char_df = pd.read_csv(\"https://raw.githubusercontent.com/rekhabu/movie_dialog/main/movie_characters_metadata.tsv\", \n",
        "#                               header = None, sep = '\\t')"
      ],
      "execution_count": null,
      "outputs": []
    },
    {
      "cell_type": "markdown",
      "metadata": {
        "id": "Ql1opRp7zHaZ"
      },
      "source": [
        "The above code when run gives an error stating in line 6565 there are 13 tabs agaist 6 tabs in each row. Let us display rows 6563 to 6566 to understand what this means."
      ]
    },
    {
      "cell_type": "code",
      "metadata": {
        "id": "rJRS1hDs1otk",
        "colab": {
          "base_uri": "https://localhost:8080/",
          "height": 143
        },
        "outputId": "5ee7ed7c-096b-4bcc-e23d-4bf13bfc3fd7"
      },
      "source": [
        "# Display rows from 6563 to 6566\n",
        "movie_char_df.iloc[6563:6566,:]"
      ],
      "execution_count": null,
      "outputs": [
        {
          "output_type": "execute_result",
          "data": {
            "text/html": [
              "<div>\n",
              "<style scoped>\n",
              "    .dataframe tbody tr th:only-of-type {\n",
              "        vertical-align: middle;\n",
              "    }\n",
              "\n",
              "    .dataframe tbody tr th {\n",
              "        vertical-align: top;\n",
              "    }\n",
              "\n",
              "    .dataframe thead th {\n",
              "        text-align: right;\n",
              "    }\n",
              "</style>\n",
              "<table border=\"1\" class=\"dataframe\">\n",
              "  <thead>\n",
              "    <tr style=\"text-align: right;\">\n",
              "      <th></th>\n",
              "      <th>0</th>\n",
              "    </tr>\n",
              "  </thead>\n",
              "  <tbody>\n",
              "    <tr>\n",
              "      <th>6563</th>\n",
              "      <td>u6563\\tLEONARD\\tm436\\tmemento\\tm\\t1</td>\n",
              "    </tr>\n",
              "    <tr>\n",
              "      <th>6564</th>\n",
              "      <td>u6564\\tLEONARD\\t\\t\\t\\t\\t\\t\\t  *\\tm436\\tmemento...</td>\n",
              "    </tr>\n",
              "    <tr>\n",
              "      <th>6565</th>\n",
              "      <td>u6565\\tLEONARD'S WIFE\\tm436\\tmemento\\t?\\t?</td>\n",
              "    </tr>\n",
              "  </tbody>\n",
              "</table>\n",
              "</div>"
            ],
            "text/plain": [
              "                                                      0\n",
              "6563                u6563\\tLEONARD\\tm436\\tmemento\\tm\\t1\n",
              "6564  u6564\\tLEONARD\\t\\t\\t\\t\\t\\t\\t  *\\tm436\\tmemento...\n",
              "6565         u6565\\tLEONARD'S WIFE\\tm436\\tmemento\\t?\\t?"
            ]
          },
          "metadata": {
            "tags": []
          },
          "execution_count": 5
        }
      ]
    },
    {
      "cell_type": "markdown",
      "metadata": {
        "id": "W7AE5rYKzial"
      },
      "source": [
        "To resolve this error set `error_bad_lines = False` and `warn_bad_lines= True` in `read_csv()`\n",
        "\n",
        "`error_bad_lines`: Lines with too many fields will cause an exception to be raised, hence `read_csv()` will not return any dataframe. If this parameter is set to False, then all the “bad lines” with too many fields will be dropped from the DataFrame that is returned.\n",
        "\n",
        "`warn_bad_lines`: If error_bad_lines is set to False, and warn_bad_lines is True, a warning for each “bad line” will be output. This indicates which of the bad lines are skipped while loading the file using `read_csv()`.\n"
      ]
    },
    {
      "cell_type": "code",
      "metadata": {
        "id": "8lKng7GS0KZf",
        "colab": {
          "base_uri": "https://localhost:8080/"
        },
        "outputId": "22aec88d-ae37-4f1e-dbb6-6ec244071bf0"
      },
      "source": [
        "# Skip the bad lines with too many fields\n",
        "movie_char_df = pd.read_csv(\"https://raw.githubusercontent.com/rekhabu/movie_dialog/main/movie_characters_metadata.tsv\", \n",
        "                              header = None, sep = '\\t', error_bad_lines = False, warn_bad_lines= True)"
      ],
      "execution_count": null,
      "outputs": [
        {
          "output_type": "stream",
          "text": [
            "b'Skipping line 6565: expected 6 fields, saw 13\\n'\n"
          ],
          "name": "stderr"
        }
      ]
    },
    {
      "cell_type": "markdown",
      "metadata": {
        "id": "fv18R8jd0d4x"
      },
      "source": [
        "In the above cell the result of `warn_bad_lines= True` is displyed. It can be seen that line 6565 has 13 fields instead of 6 expected fields. \n",
        "\n",
        "with `error_bad_lines = False` the row with index 6564 which is the 6565th row will be skipped in dataframe returned."
      ]
    },
    {
      "cell_type": "code",
      "metadata": {
        "colab": {
          "base_uri": "https://localhost:8080/",
          "height": 143
        },
        "id": "Nd3P9u6wBe_K",
        "outputId": "f5c0b6e4-b750-4a4c-b1df-c9e527562431"
      },
      "source": [
        "# Display rows from 6563 to 6566\n",
        "movie_char_df.iloc[6563:6566,:]"
      ],
      "execution_count": null,
      "outputs": [
        {
          "output_type": "execute_result",
          "data": {
            "text/html": [
              "<div>\n",
              "<style scoped>\n",
              "    .dataframe tbody tr th:only-of-type {\n",
              "        vertical-align: middle;\n",
              "    }\n",
              "\n",
              "    .dataframe tbody tr th {\n",
              "        vertical-align: top;\n",
              "    }\n",
              "\n",
              "    .dataframe thead th {\n",
              "        text-align: right;\n",
              "    }\n",
              "</style>\n",
              "<table border=\"1\" class=\"dataframe\">\n",
              "  <thead>\n",
              "    <tr style=\"text-align: right;\">\n",
              "      <th></th>\n",
              "      <th>0</th>\n",
              "      <th>1</th>\n",
              "      <th>2</th>\n",
              "      <th>3</th>\n",
              "      <th>4</th>\n",
              "      <th>5</th>\n",
              "    </tr>\n",
              "  </thead>\n",
              "  <tbody>\n",
              "    <tr>\n",
              "      <th>6563</th>\n",
              "      <td>u6563</td>\n",
              "      <td>LEONARD</td>\n",
              "      <td>m436</td>\n",
              "      <td>memento</td>\n",
              "      <td>m</td>\n",
              "      <td>1</td>\n",
              "    </tr>\n",
              "    <tr>\n",
              "      <th>6564</th>\n",
              "      <td>u6565</td>\n",
              "      <td>LEONARD'S WIFE</td>\n",
              "      <td>m436</td>\n",
              "      <td>memento</td>\n",
              "      <td>?</td>\n",
              "      <td>?</td>\n",
              "    </tr>\n",
              "    <tr>\n",
              "      <th>6565</th>\n",
              "      <td>u6566</td>\n",
              "      <td>MRS. JANKIS</td>\n",
              "      <td>m436</td>\n",
              "      <td>memento</td>\n",
              "      <td>?</td>\n",
              "      <td>?</td>\n",
              "    </tr>\n",
              "  </tbody>\n",
              "</table>\n",
              "</div>"
            ],
            "text/plain": [
              "          0               1     2        3  4  5\n",
              "6563  u6563         LEONARD  m436  memento  m  1\n",
              "6564  u6565  LEONARD'S WIFE  m436  memento  ?  ?\n",
              "6565  u6566     MRS. JANKIS  m436  memento  ?  ?"
            ]
          },
          "metadata": {
            "tags": []
          },
          "execution_count": 7
        }
      ]
    },
    {
      "cell_type": "code",
      "metadata": {
        "id": "bfbN84Z-22fW",
        "colab": {
          "base_uri": "https://localhost:8080/",
          "height": 205
        },
        "outputId": "8ffffed9-08e7-466f-c655-f271bdea929c"
      },
      "source": [
        "# Diplay the first 5 rows in movie_char_df\n",
        "movie_char_df.head()"
      ],
      "execution_count": null,
      "outputs": [
        {
          "output_type": "execute_result",
          "data": {
            "text/html": [
              "<div>\n",
              "<style scoped>\n",
              "    .dataframe tbody tr th:only-of-type {\n",
              "        vertical-align: middle;\n",
              "    }\n",
              "\n",
              "    .dataframe tbody tr th {\n",
              "        vertical-align: top;\n",
              "    }\n",
              "\n",
              "    .dataframe thead th {\n",
              "        text-align: right;\n",
              "    }\n",
              "</style>\n",
              "<table border=\"1\" class=\"dataframe\">\n",
              "  <thead>\n",
              "    <tr style=\"text-align: right;\">\n",
              "      <th></th>\n",
              "      <th>0</th>\n",
              "      <th>1</th>\n",
              "      <th>2</th>\n",
              "      <th>3</th>\n",
              "      <th>4</th>\n",
              "      <th>5</th>\n",
              "    </tr>\n",
              "  </thead>\n",
              "  <tbody>\n",
              "    <tr>\n",
              "      <th>0</th>\n",
              "      <td>u0</td>\n",
              "      <td>BIANCA</td>\n",
              "      <td>m0</td>\n",
              "      <td>10 things i hate about you</td>\n",
              "      <td>f</td>\n",
              "      <td>4</td>\n",
              "    </tr>\n",
              "    <tr>\n",
              "      <th>1</th>\n",
              "      <td>u1</td>\n",
              "      <td>BRUCE</td>\n",
              "      <td>m0</td>\n",
              "      <td>10 things i hate about you</td>\n",
              "      <td>?</td>\n",
              "      <td>?</td>\n",
              "    </tr>\n",
              "    <tr>\n",
              "      <th>2</th>\n",
              "      <td>u2</td>\n",
              "      <td>CAMERON</td>\n",
              "      <td>m0</td>\n",
              "      <td>10 things i hate about you</td>\n",
              "      <td>m</td>\n",
              "      <td>3</td>\n",
              "    </tr>\n",
              "    <tr>\n",
              "      <th>3</th>\n",
              "      <td>u3</td>\n",
              "      <td>CHASTITY</td>\n",
              "      <td>m0</td>\n",
              "      <td>10 things i hate about you</td>\n",
              "      <td>?</td>\n",
              "      <td>?</td>\n",
              "    </tr>\n",
              "    <tr>\n",
              "      <th>4</th>\n",
              "      <td>u4</td>\n",
              "      <td>JOEY</td>\n",
              "      <td>m0</td>\n",
              "      <td>10 things i hate about you</td>\n",
              "      <td>m</td>\n",
              "      <td>6</td>\n",
              "    </tr>\n",
              "  </tbody>\n",
              "</table>\n",
              "</div>"
            ],
            "text/plain": [
              "    0         1   2                           3  4  5\n",
              "0  u0    BIANCA  m0  10 things i hate about you  f  4\n",
              "1  u1     BRUCE  m0  10 things i hate about you  ?  ?\n",
              "2  u2   CAMERON  m0  10 things i hate about you  m  3\n",
              "3  u3  CHASTITY  m0  10 things i hate about you  ?  ?\n",
              "4  u4      JOEY  m0  10 things i hate about you  m  6"
            ]
          },
          "metadata": {
            "tags": []
          },
          "execution_count": 8
        }
      ]
    },
    {
      "cell_type": "markdown",
      "metadata": {
        "id": "_qBJZlLy10qk"
      },
      "source": [
        "Next create a new dataframe for the movie conversations."
      ]
    },
    {
      "cell_type": "code",
      "metadata": {
        "colab": {
          "base_uri": "https://localhost:8080/",
          "height": 205
        },
        "id": "_a-5Qan5_yxy",
        "outputId": "213a1c86-bdf5-4344-a825-ab9b5622e29f"
      },
      "source": [
        "# Create a pandas dataframe\n",
        "movie_lines_df = pd.read_csv(\"https://raw.githubusercontent.com/rekhabu/movie_dialog/main/movie_lines.tsv\", header = None, \n",
        "                             sep = '\\t', error_bad_lines = False, warn_bad_lines = False)\n",
        "# Display the first 5 rows \n",
        "movie_lines_df.head()"
      ],
      "execution_count": null,
      "outputs": [
        {
          "output_type": "execute_result",
          "data": {
            "text/html": [
              "<div>\n",
              "<style scoped>\n",
              "    .dataframe tbody tr th:only-of-type {\n",
              "        vertical-align: middle;\n",
              "    }\n",
              "\n",
              "    .dataframe tbody tr th {\n",
              "        vertical-align: top;\n",
              "    }\n",
              "\n",
              "    .dataframe thead th {\n",
              "        text-align: right;\n",
              "    }\n",
              "</style>\n",
              "<table border=\"1\" class=\"dataframe\">\n",
              "  <thead>\n",
              "    <tr style=\"text-align: right;\">\n",
              "      <th></th>\n",
              "      <th>0</th>\n",
              "      <th>1</th>\n",
              "      <th>2</th>\n",
              "      <th>3</th>\n",
              "      <th>4</th>\n",
              "    </tr>\n",
              "  </thead>\n",
              "  <tbody>\n",
              "    <tr>\n",
              "      <th>0</th>\n",
              "      <td>L1045</td>\n",
              "      <td>u0</td>\n",
              "      <td>m0</td>\n",
              "      <td>BIANCA</td>\n",
              "      <td>They do not!</td>\n",
              "    </tr>\n",
              "    <tr>\n",
              "      <th>1</th>\n",
              "      <td>L1044</td>\n",
              "      <td>u2</td>\n",
              "      <td>m0</td>\n",
              "      <td>CAMERON</td>\n",
              "      <td>They do to!</td>\n",
              "    </tr>\n",
              "    <tr>\n",
              "      <th>2</th>\n",
              "      <td>L985</td>\n",
              "      <td>u0</td>\n",
              "      <td>m0</td>\n",
              "      <td>BIANCA</td>\n",
              "      <td>I hope so.</td>\n",
              "    </tr>\n",
              "    <tr>\n",
              "      <th>3</th>\n",
              "      <td>L984</td>\n",
              "      <td>u2</td>\n",
              "      <td>m0</td>\n",
              "      <td>CAMERON</td>\n",
              "      <td>She okay?</td>\n",
              "    </tr>\n",
              "    <tr>\n",
              "      <th>4</th>\n",
              "      <td>L925</td>\n",
              "      <td>u0</td>\n",
              "      <td>m0</td>\n",
              "      <td>BIANCA</td>\n",
              "      <td>Let's go.</td>\n",
              "    </tr>\n",
              "  </tbody>\n",
              "</table>\n",
              "</div>"
            ],
            "text/plain": [
              "       0   1   2        3             4\n",
              "0  L1045  u0  m0   BIANCA  They do not!\n",
              "1  L1044  u2  m0  CAMERON   They do to!\n",
              "2   L985  u0  m0   BIANCA    I hope so.\n",
              "3   L984  u2  m0  CAMERON     She okay?\n",
              "4   L925  u0  m0   BIANCA     Let's go."
            ]
          },
          "metadata": {
            "tags": []
          },
          "execution_count": 9
        }
      ]
    },
    {
      "cell_type": "markdown",
      "metadata": {
        "id": "Aarr8J3NEyRj"
      },
      "source": [
        "##Activity 2: Data Exploration - Rename the columns\n",
        "Before we go ahead let us rename the columns for both the dataframes with appropiate field names provided in description.\n",
        "\n",
        "**Syntax:** `dataframe.rename(columns = {old_col_name_1:new_col_name_1, old_col_name_2: new_col_name_2}, inplace = True)`  \n",
        "\n",
        "*   To columns we are assigning a dictionary with old column name as keys and new column name as values. \n",
        "*   With `inplace = True`, the same dataframe on which `rename()` is applied will be updated with new column names. If `inplace = False`, then we will have to reassign the dataframe to a variable after renaming.\n",
        "\n"
      ]
    },
    {
      "cell_type": "code",
      "metadata": {
        "colab": {
          "base_uri": "https://localhost:8080/",
          "height": 205
        },
        "id": "wNtJ16TO3Ucn",
        "outputId": "ad16af8a-f905-4ec8-8307-9963e693c2f2"
      },
      "source": [
        "# To rename Movie Characters dataframe columns\n",
        "# Create a dictionary with old and new column names as key-value pairs\n",
        "col_names = {0:'CharacterID', 1:'CharacterName', 2:'MovieID', 3:'MovieTitle', 4: 'Gender', 5: 'PositionInCredits'}\n",
        "\n",
        "# Rename the column headers\n",
        "movie_char_df.rename(columns = col_names, inplace = True)\n",
        "\n",
        "# Display the first 5 rows \n",
        "movie_char_df.head()"
      ],
      "execution_count": null,
      "outputs": [
        {
          "output_type": "execute_result",
          "data": {
            "text/html": [
              "<div>\n",
              "<style scoped>\n",
              "    .dataframe tbody tr th:only-of-type {\n",
              "        vertical-align: middle;\n",
              "    }\n",
              "\n",
              "    .dataframe tbody tr th {\n",
              "        vertical-align: top;\n",
              "    }\n",
              "\n",
              "    .dataframe thead th {\n",
              "        text-align: right;\n",
              "    }\n",
              "</style>\n",
              "<table border=\"1\" class=\"dataframe\">\n",
              "  <thead>\n",
              "    <tr style=\"text-align: right;\">\n",
              "      <th></th>\n",
              "      <th>CharacterID</th>\n",
              "      <th>CharacterName</th>\n",
              "      <th>MovieID</th>\n",
              "      <th>MovieTitle</th>\n",
              "      <th>Gender</th>\n",
              "      <th>PositionInCredits</th>\n",
              "    </tr>\n",
              "  </thead>\n",
              "  <tbody>\n",
              "    <tr>\n",
              "      <th>0</th>\n",
              "      <td>u0</td>\n",
              "      <td>BIANCA</td>\n",
              "      <td>m0</td>\n",
              "      <td>10 things i hate about you</td>\n",
              "      <td>f</td>\n",
              "      <td>4</td>\n",
              "    </tr>\n",
              "    <tr>\n",
              "      <th>1</th>\n",
              "      <td>u1</td>\n",
              "      <td>BRUCE</td>\n",
              "      <td>m0</td>\n",
              "      <td>10 things i hate about you</td>\n",
              "      <td>?</td>\n",
              "      <td>?</td>\n",
              "    </tr>\n",
              "    <tr>\n",
              "      <th>2</th>\n",
              "      <td>u2</td>\n",
              "      <td>CAMERON</td>\n",
              "      <td>m0</td>\n",
              "      <td>10 things i hate about you</td>\n",
              "      <td>m</td>\n",
              "      <td>3</td>\n",
              "    </tr>\n",
              "    <tr>\n",
              "      <th>3</th>\n",
              "      <td>u3</td>\n",
              "      <td>CHASTITY</td>\n",
              "      <td>m0</td>\n",
              "      <td>10 things i hate about you</td>\n",
              "      <td>?</td>\n",
              "      <td>?</td>\n",
              "    </tr>\n",
              "    <tr>\n",
              "      <th>4</th>\n",
              "      <td>u4</td>\n",
              "      <td>JOEY</td>\n",
              "      <td>m0</td>\n",
              "      <td>10 things i hate about you</td>\n",
              "      <td>m</td>\n",
              "      <td>6</td>\n",
              "    </tr>\n",
              "  </tbody>\n",
              "</table>\n",
              "</div>"
            ],
            "text/plain": [
              "  CharacterID CharacterName  ... Gender PositionInCredits\n",
              "0          u0        BIANCA  ...      f                 4\n",
              "1          u1         BRUCE  ...      ?                 ?\n",
              "2          u2       CAMERON  ...      m                 3\n",
              "3          u3      CHASTITY  ...      ?                 ?\n",
              "4          u4          JOEY  ...      m                 6\n",
              "\n",
              "[5 rows x 6 columns]"
            ]
          },
          "metadata": {
            "tags": []
          },
          "execution_count": 10
        }
      ]
    },
    {
      "cell_type": "markdown",
      "metadata": {
        "id": "FhgvYTp3-BAj"
      },
      "source": [
        "In the above cell:\n",
        "1. We first created a dictionary with old and new column names as key - value pairs for `movie_char_df` dataframe.\n",
        "2. Then we applied the `rename()` on `movie_char_df` to rename the columns headers.\n",
        "3. Next we have displayed the first five rows to verify that the column names are updated with new names."
      ]
    },
    {
      "cell_type": "code",
      "metadata": {
        "colab": {
          "base_uri": "https://localhost:8080/"
        },
        "id": "KowOUMhb_CHU",
        "outputId": "6e4e5f96-cbbf-424b-8088-1ad34350aecc"
      },
      "source": [
        "# Display the information \n",
        "movie_char_df.info()"
      ],
      "execution_count": null,
      "outputs": [
        {
          "output_type": "stream",
          "text": [
            "<class 'pandas.core.frame.DataFrame'>\n",
            "RangeIndex: 9034 entries, 0 to 9033\n",
            "Data columns (total 6 columns):\n",
            " #   Column             Non-Null Count  Dtype \n",
            "---  ------             --------------  ----- \n",
            " 0   CharacterID        9034 non-null   object\n",
            " 1   CharacterName      9015 non-null   object\n",
            " 2   MovieID            9017 non-null   object\n",
            " 3   MovieTitle         9017 non-null   object\n",
            " 4   Gender             9017 non-null   object\n",
            " 5   PositionInCredits  9017 non-null   object\n",
            "dtypes: object(6)\n",
            "memory usage: 423.6+ KB\n"
          ],
          "name": "stdout"
        }
      ]
    },
    {
      "cell_type": "markdown",
      "metadata": {
        "id": "4zDdQK-E_ZjY"
      },
      "source": [
        "`info()` provides a brief summary of the dataframe. This method prints information about a dataframe including the number of rows and columns, range of row indices, count of non-null values in each column, column data types and memory usage. \n",
        "\n",
        "The movie characters datframe has 9034 rows and 6 columns. All the columns are of string datatype. "
      ]
    },
    {
      "cell_type": "markdown",
      "metadata": {
        "id": "G7GApHkoAs6w"
      },
      "source": [
        "Let us now rename the movie lines dataframe. "
      ]
    },
    {
      "cell_type": "code",
      "metadata": {
        "colab": {
          "base_uri": "https://localhost:8080/",
          "height": 205
        },
        "id": "CcCWwEyoOW3J",
        "outputId": "77edcb36-fff0-41a3-acd7-8589c47dd147"
      },
      "source": [
        "# To rename Movie Lines dataframe columns\n",
        "# Create a dictionary with old and new column names as key-value pairs\n",
        "col_names = {0:'LineID', 1:'CharacterID', 2:'MovieID', 3:'CharacterName', 4: 'Speech'}\n",
        "\n",
        "# Rename the columns\n",
        "movie_lines_df.rename(columns = col_names, inplace = True)\n",
        "\n",
        "# Display the first 5 rows\n",
        "movie_lines_df.head()"
      ],
      "execution_count": null,
      "outputs": [
        {
          "output_type": "execute_result",
          "data": {
            "text/html": [
              "<div>\n",
              "<style scoped>\n",
              "    .dataframe tbody tr th:only-of-type {\n",
              "        vertical-align: middle;\n",
              "    }\n",
              "\n",
              "    .dataframe tbody tr th {\n",
              "        vertical-align: top;\n",
              "    }\n",
              "\n",
              "    .dataframe thead th {\n",
              "        text-align: right;\n",
              "    }\n",
              "</style>\n",
              "<table border=\"1\" class=\"dataframe\">\n",
              "  <thead>\n",
              "    <tr style=\"text-align: right;\">\n",
              "      <th></th>\n",
              "      <th>LineID</th>\n",
              "      <th>CharacterID</th>\n",
              "      <th>MovieID</th>\n",
              "      <th>CharacterName</th>\n",
              "      <th>Speech</th>\n",
              "    </tr>\n",
              "  </thead>\n",
              "  <tbody>\n",
              "    <tr>\n",
              "      <th>0</th>\n",
              "      <td>L1045</td>\n",
              "      <td>u0</td>\n",
              "      <td>m0</td>\n",
              "      <td>BIANCA</td>\n",
              "      <td>They do not!</td>\n",
              "    </tr>\n",
              "    <tr>\n",
              "      <th>1</th>\n",
              "      <td>L1044</td>\n",
              "      <td>u2</td>\n",
              "      <td>m0</td>\n",
              "      <td>CAMERON</td>\n",
              "      <td>They do to!</td>\n",
              "    </tr>\n",
              "    <tr>\n",
              "      <th>2</th>\n",
              "      <td>L985</td>\n",
              "      <td>u0</td>\n",
              "      <td>m0</td>\n",
              "      <td>BIANCA</td>\n",
              "      <td>I hope so.</td>\n",
              "    </tr>\n",
              "    <tr>\n",
              "      <th>3</th>\n",
              "      <td>L984</td>\n",
              "      <td>u2</td>\n",
              "      <td>m0</td>\n",
              "      <td>CAMERON</td>\n",
              "      <td>She okay?</td>\n",
              "    </tr>\n",
              "    <tr>\n",
              "      <th>4</th>\n",
              "      <td>L925</td>\n",
              "      <td>u0</td>\n",
              "      <td>m0</td>\n",
              "      <td>BIANCA</td>\n",
              "      <td>Let's go.</td>\n",
              "    </tr>\n",
              "  </tbody>\n",
              "</table>\n",
              "</div>"
            ],
            "text/plain": [
              "  LineID CharacterID MovieID CharacterName        Speech\n",
              "0  L1045          u0      m0        BIANCA  They do not!\n",
              "1  L1044          u2      m0       CAMERON   They do to!\n",
              "2   L985          u0      m0        BIANCA    I hope so.\n",
              "3   L984          u2      m0       CAMERON     She okay?\n",
              "4   L925          u0      m0        BIANCA     Let's go."
            ]
          },
          "metadata": {
            "tags": []
          },
          "execution_count": 12
        }
      ]
    },
    {
      "cell_type": "code",
      "metadata": {
        "colab": {
          "base_uri": "https://localhost:8080/"
        },
        "id": "igUb365QO48R",
        "outputId": "8fc6ef5d-9371-494e-8e13-51f3fd888078"
      },
      "source": [
        "# Display the information\n",
        "movie_lines_df.info()"
      ],
      "execution_count": null,
      "outputs": [
        {
          "output_type": "stream",
          "text": [
            "<class 'pandas.core.frame.DataFrame'>\n",
            "RangeIndex: 293202 entries, 0 to 293201\n",
            "Data columns (total 5 columns):\n",
            " #   Column         Non-Null Count   Dtype \n",
            "---  ------         --------------   ----- \n",
            " 0   LineID         293202 non-null  object\n",
            " 1   CharacterID    288917 non-null  object\n",
            " 2   MovieID        288917 non-null  object\n",
            " 3   CharacterName  288874 non-null  object\n",
            " 4   Speech         288663 non-null  object\n",
            "dtypes: object(5)\n",
            "memory usage: 11.2+ MB\n"
          ],
          "name": "stdout"
        }
      ]
    },
    {
      "cell_type": "markdown",
      "metadata": {
        "id": "Tm8LOIlgIyH4"
      },
      "source": [
        "##Activity 3: Data Cleaning - Treating the Missing values\n",
        "\n",
        "We will now check if the dataframes have any missing values. For this we use `isnull()`. The fuction returns True if a value is missing in a given column else it returns a False. The missing values are usually represented as `NaN` or `NA`"
      ]
    },
    {
      "cell_type": "code",
      "metadata": {
        "colab": {
          "base_uri": "https://localhost:8080/",
          "height": 422
        },
        "id": "GEf1sSoN4sqx",
        "outputId": "2fa3437a-8df8-437e-8e9a-4d2a6317ccce"
      },
      "source": [
        "# Check whether movie_char_df dataframe has missing values or not\n",
        "movie_char_df.isnull()"
      ],
      "execution_count": null,
      "outputs": [
        {
          "output_type": "execute_result",
          "data": {
            "text/html": [
              "<div>\n",
              "<style scoped>\n",
              "    .dataframe tbody tr th:only-of-type {\n",
              "        vertical-align: middle;\n",
              "    }\n",
              "\n",
              "    .dataframe tbody tr th {\n",
              "        vertical-align: top;\n",
              "    }\n",
              "\n",
              "    .dataframe thead th {\n",
              "        text-align: right;\n",
              "    }\n",
              "</style>\n",
              "<table border=\"1\" class=\"dataframe\">\n",
              "  <thead>\n",
              "    <tr style=\"text-align: right;\">\n",
              "      <th></th>\n",
              "      <th>CharacterID</th>\n",
              "      <th>CharacterName</th>\n",
              "      <th>MovieID</th>\n",
              "      <th>MovieTitle</th>\n",
              "      <th>Gender</th>\n",
              "      <th>PositionInCredits</th>\n",
              "    </tr>\n",
              "  </thead>\n",
              "  <tbody>\n",
              "    <tr>\n",
              "      <th>0</th>\n",
              "      <td>False</td>\n",
              "      <td>False</td>\n",
              "      <td>False</td>\n",
              "      <td>False</td>\n",
              "      <td>False</td>\n",
              "      <td>False</td>\n",
              "    </tr>\n",
              "    <tr>\n",
              "      <th>1</th>\n",
              "      <td>False</td>\n",
              "      <td>False</td>\n",
              "      <td>False</td>\n",
              "      <td>False</td>\n",
              "      <td>False</td>\n",
              "      <td>False</td>\n",
              "    </tr>\n",
              "    <tr>\n",
              "      <th>2</th>\n",
              "      <td>False</td>\n",
              "      <td>False</td>\n",
              "      <td>False</td>\n",
              "      <td>False</td>\n",
              "      <td>False</td>\n",
              "      <td>False</td>\n",
              "    </tr>\n",
              "    <tr>\n",
              "      <th>3</th>\n",
              "      <td>False</td>\n",
              "      <td>False</td>\n",
              "      <td>False</td>\n",
              "      <td>False</td>\n",
              "      <td>False</td>\n",
              "      <td>False</td>\n",
              "    </tr>\n",
              "    <tr>\n",
              "      <th>4</th>\n",
              "      <td>False</td>\n",
              "      <td>False</td>\n",
              "      <td>False</td>\n",
              "      <td>False</td>\n",
              "      <td>False</td>\n",
              "      <td>False</td>\n",
              "    </tr>\n",
              "    <tr>\n",
              "      <th>...</th>\n",
              "      <td>...</td>\n",
              "      <td>...</td>\n",
              "      <td>...</td>\n",
              "      <td>...</td>\n",
              "      <td>...</td>\n",
              "      <td>...</td>\n",
              "    </tr>\n",
              "    <tr>\n",
              "      <th>9029</th>\n",
              "      <td>False</td>\n",
              "      <td>False</td>\n",
              "      <td>False</td>\n",
              "      <td>False</td>\n",
              "      <td>False</td>\n",
              "      <td>False</td>\n",
              "    </tr>\n",
              "    <tr>\n",
              "      <th>9030</th>\n",
              "      <td>False</td>\n",
              "      <td>False</td>\n",
              "      <td>False</td>\n",
              "      <td>False</td>\n",
              "      <td>False</td>\n",
              "      <td>False</td>\n",
              "    </tr>\n",
              "    <tr>\n",
              "      <th>9031</th>\n",
              "      <td>False</td>\n",
              "      <td>False</td>\n",
              "      <td>False</td>\n",
              "      <td>False</td>\n",
              "      <td>False</td>\n",
              "      <td>False</td>\n",
              "    </tr>\n",
              "    <tr>\n",
              "      <th>9032</th>\n",
              "      <td>False</td>\n",
              "      <td>False</td>\n",
              "      <td>False</td>\n",
              "      <td>False</td>\n",
              "      <td>False</td>\n",
              "      <td>False</td>\n",
              "    </tr>\n",
              "    <tr>\n",
              "      <th>9033</th>\n",
              "      <td>False</td>\n",
              "      <td>False</td>\n",
              "      <td>False</td>\n",
              "      <td>False</td>\n",
              "      <td>False</td>\n",
              "      <td>False</td>\n",
              "    </tr>\n",
              "  </tbody>\n",
              "</table>\n",
              "<p>9034 rows × 6 columns</p>\n",
              "</div>"
            ],
            "text/plain": [
              "      CharacterID  CharacterName  ...  Gender  PositionInCredits\n",
              "0           False          False  ...   False              False\n",
              "1           False          False  ...   False              False\n",
              "2           False          False  ...   False              False\n",
              "3           False          False  ...   False              False\n",
              "4           False          False  ...   False              False\n",
              "...           ...            ...  ...     ...                ...\n",
              "9029        False          False  ...   False              False\n",
              "9030        False          False  ...   False              False\n",
              "9031        False          False  ...   False              False\n",
              "9032        False          False  ...   False              False\n",
              "9033        False          False  ...   False              False\n",
              "\n",
              "[9034 rows x 6 columns]"
            ]
          },
          "metadata": {
            "tags": []
          },
          "execution_count": 14
        }
      ]
    },
    {
      "cell_type": "markdown",
      "metadata": {
        "id": "MvR85fRyDTbL"
      },
      "source": [
        "To find the total number of missing values in each column apply `sum()` on `isnull()`."
      ]
    },
    {
      "cell_type": "code",
      "metadata": {
        "colab": {
          "base_uri": "https://localhost:8080/"
        },
        "id": "G4uHoo-2DBnx",
        "outputId": "765c6e2d-2333-4092-ec09-b33121b177fa"
      },
      "source": [
        "# Find the number of missing values in each and column using sum() \n",
        "print(movie_char_df.isnull().sum())\n",
        "\n",
        "# Leave an empty line\n",
        "print()\n",
        "\n",
        "# Find the percentage of missing values in each column\n",
        "print((movie_char_df.isnull().sum()/movie_char_df.shape[0])*100)"
      ],
      "execution_count": null,
      "outputs": [
        {
          "output_type": "stream",
          "text": [
            "CharacterID           0\n",
            "CharacterName        19\n",
            "MovieID              17\n",
            "MovieTitle           17\n",
            "Gender               17\n",
            "PositionInCredits    17\n",
            "dtype: int64\n",
            "\n",
            "CharacterID          0.000000\n",
            "CharacterName        0.210317\n",
            "MovieID              0.188178\n",
            "MovieTitle           0.188178\n",
            "Gender               0.188178\n",
            "PositionInCredits    0.188178\n",
            "dtype: float64\n"
          ],
          "name": "stdout"
        }
      ]
    },
    {
      "cell_type": "markdown",
      "metadata": {
        "id": "iz1YQedLDtKJ"
      },
      "source": [
        "We can see, approximately only 0.2% of the total 9034 values are missing. These rows can be dropped without having any effect on the dataset."
      ]
    },
    {
      "cell_type": "code",
      "metadata": {
        "colab": {
          "base_uri": "https://localhost:8080/",
          "height": 643
        },
        "id": "RMHGaMPPIxW2",
        "outputId": "acad991a-c8a1-4772-8917-c1d36cd31f4b"
      },
      "source": [
        "# Identify the rows where CharacterName is mssing\n",
        "missing_rows_char_name = movie_char_df[movie_char_df['CharacterName'].isnull() == True]\n",
        "missing_rows_char_name"
      ],
      "execution_count": null,
      "outputs": [
        {
          "output_type": "execute_result",
          "data": {
            "text/html": [
              "<div>\n",
              "<style scoped>\n",
              "    .dataframe tbody tr th:only-of-type {\n",
              "        vertical-align: middle;\n",
              "    }\n",
              "\n",
              "    .dataframe tbody tr th {\n",
              "        vertical-align: top;\n",
              "    }\n",
              "\n",
              "    .dataframe thead th {\n",
              "        text-align: right;\n",
              "    }\n",
              "</style>\n",
              "<table border=\"1\" class=\"dataframe\">\n",
              "  <thead>\n",
              "    <tr style=\"text-align: right;\">\n",
              "      <th></th>\n",
              "      <th>CharacterID</th>\n",
              "      <th>CharacterName</th>\n",
              "      <th>MovieID</th>\n",
              "      <th>MovieTitle</th>\n",
              "      <th>Gender</th>\n",
              "      <th>PositionInCredits</th>\n",
              "    </tr>\n",
              "  </thead>\n",
              "  <tbody>\n",
              "    <tr>\n",
              "      <th>1602</th>\n",
              "      <td>u1602\\t\"DOCTOR\"\\tm106\\tjacob's ladder\\t?\\t?</td>\n",
              "      <td>NaN</td>\n",
              "      <td>NaN</td>\n",
              "      <td>NaN</td>\n",
              "      <td>NaN</td>\n",
              "      <td>NaN</td>\n",
              "    </tr>\n",
              "    <tr>\n",
              "      <th>1866</th>\n",
              "      <td>u1866\\t\"V\"\\tm123\\tlost highway\\t?\\t?</td>\n",
              "      <td>NaN</td>\n",
              "      <td>NaN</td>\n",
              "      <td>NaN</td>\n",
              "      <td>NaN</td>\n",
              "      <td>NaN</td>\n",
              "    </tr>\n",
              "    <tr>\n",
              "      <th>3764</th>\n",
              "      <td>u3764</td>\n",
              "      <td>NaN</td>\n",
              "      <td>m248</td>\n",
              "      <td>arctic blue</td>\n",
              "      <td>?</td>\n",
              "      <td>?</td>\n",
              "    </tr>\n",
              "    <tr>\n",
              "      <th>4660</th>\n",
              "      <td>u4660\\tJOEY \"TWO TONS\"\\tm309\\tcrime spree\\t?\\t?</td>\n",
              "      <td>NaN</td>\n",
              "      <td>NaN</td>\n",
              "      <td>NaN</td>\n",
              "      <td>NaN</td>\n",
              "      <td>NaN</td>\n",
              "    </tr>\n",
              "    <tr>\n",
              "      <th>4664</th>\n",
              "      <td>u4664\\tNICKY \"THE RAKE\"\\tm309\\tcrime spree\\t?\\t?</td>\n",
              "      <td>NaN</td>\n",
              "      <td>NaN</td>\n",
              "      <td>NaN</td>\n",
              "      <td>NaN</td>\n",
              "      <td>NaN</td>\n",
              "    </tr>\n",
              "    <tr>\n",
              "      <th>5011</th>\n",
              "      <td>u5011\\t\"BRILL\"\\tm333\\tenemy of the state\\t?\\t?</td>\n",
              "      <td>NaN</td>\n",
              "      <td>NaN</td>\n",
              "      <td>NaN</td>\n",
              "      <td>NaN</td>\n",
              "      <td>NaN</td>\n",
              "    </tr>\n",
              "    <tr>\n",
              "      <th>6558</th>\n",
              "      <td>u6558</td>\n",
              "      <td>NaN</td>\n",
              "      <td>m436</td>\n",
              "      <td>memento</td>\n",
              "      <td>?</td>\n",
              "      <td>?</td>\n",
              "    </tr>\n",
              "    <tr>\n",
              "      <th>6735</th>\n",
              "      <td>u6736\\tANNOUNCER\\tm449\\t\"murderland\"\\t?\\t?</td>\n",
              "      <td>NaN</td>\n",
              "      <td>NaN</td>\n",
              "      <td>NaN</td>\n",
              "      <td>NaN</td>\n",
              "      <td>NaN</td>\n",
              "    </tr>\n",
              "    <tr>\n",
              "      <th>6736</th>\n",
              "      <td>u6737\\tBRUCE\\tm449\\t\"murderland\"\\tM\\t?</td>\n",
              "      <td>NaN</td>\n",
              "      <td>NaN</td>\n",
              "      <td>NaN</td>\n",
              "      <td>NaN</td>\n",
              "      <td>NaN</td>\n",
              "    </tr>\n",
              "    <tr>\n",
              "      <th>6737</th>\n",
              "      <td>u6738\\tFRED THOMISON\\tm449\\t\"murderland\"\\t?\\t?</td>\n",
              "      <td>NaN</td>\n",
              "      <td>NaN</td>\n",
              "      <td>NaN</td>\n",
              "      <td>NaN</td>\n",
              "      <td>NaN</td>\n",
              "    </tr>\n",
              "    <tr>\n",
              "      <th>6738</th>\n",
              "      <td>u6739\\tJOHN C. MCCAY\\tm449\\t\"murderland\"\\tM\\t?</td>\n",
              "      <td>NaN</td>\n",
              "      <td>NaN</td>\n",
              "      <td>NaN</td>\n",
              "      <td>NaN</td>\n",
              "      <td>NaN</td>\n",
              "    </tr>\n",
              "    <tr>\n",
              "      <th>6739</th>\n",
              "      <td>u6740\\tJOHNNY\\tm449\\t\"murderland\"\\tM\\t?</td>\n",
              "      <td>NaN</td>\n",
              "      <td>NaN</td>\n",
              "      <td>NaN</td>\n",
              "      <td>NaN</td>\n",
              "      <td>NaN</td>\n",
              "    </tr>\n",
              "    <tr>\n",
              "      <th>6740</th>\n",
              "      <td>u6741\\tMATTHEW\\tm449\\t\"murderland\"\\tM\\t?</td>\n",
              "      <td>NaN</td>\n",
              "      <td>NaN</td>\n",
              "      <td>NaN</td>\n",
              "      <td>NaN</td>\n",
              "      <td>NaN</td>\n",
              "    </tr>\n",
              "    <tr>\n",
              "      <th>6741</th>\n",
              "      <td>u6742\\tSAUNDRA\\tm449\\t\"murderland\"\\tF\\t?</td>\n",
              "      <td>NaN</td>\n",
              "      <td>NaN</td>\n",
              "      <td>NaN</td>\n",
              "      <td>NaN</td>\n",
              "      <td>NaN</td>\n",
              "    </tr>\n",
              "    <tr>\n",
              "      <th>6742</th>\n",
              "      <td>u6743\\tZACH\\tm449\\t\"murderland\"\\tM\\t?</td>\n",
              "      <td>NaN</td>\n",
              "      <td>NaN</td>\n",
              "      <td>NaN</td>\n",
              "      <td>NaN</td>\n",
              "      <td>NaN</td>\n",
              "    </tr>\n",
              "    <tr>\n",
              "      <th>7229</th>\n",
              "      <td>u7230\\t\"SCHOOL-MARM\"\\tm488\\tred white black &amp; ...</td>\n",
              "      <td>NaN</td>\n",
              "      <td>NaN</td>\n",
              "      <td>NaN</td>\n",
              "      <td>NaN</td>\n",
              "      <td>NaN</td>\n",
              "    </tr>\n",
              "    <tr>\n",
              "      <th>7844</th>\n",
              "      <td>u7845\\t\"ILIA\"\\tm531\\tstar trek: the motion pic...</td>\n",
              "      <td>NaN</td>\n",
              "      <td>NaN</td>\n",
              "      <td>NaN</td>\n",
              "      <td>NaN</td>\n",
              "      <td>NaN</td>\n",
              "    </tr>\n",
              "    <tr>\n",
              "      <th>7913</th>\n",
              "      <td>u7914\\tCOLONEL \"BAT\" GUANO\\tm536\\tdr. strangel...</td>\n",
              "      <td>NaN</td>\n",
              "      <td>NaN</td>\n",
              "      <td>NaN</td>\n",
              "      <td>NaN</td>\n",
              "      <td>NaN</td>\n",
              "    </tr>\n",
              "    <tr>\n",
              "      <th>7916</th>\n",
              "      <td>u7917\\tGENERAL \"BUCK\" SCHMUCK\\tm536\\tdr. stran...</td>\n",
              "      <td>NaN</td>\n",
              "      <td>NaN</td>\n",
              "      <td>NaN</td>\n",
              "      <td>NaN</td>\n",
              "      <td>NaN</td>\n",
              "    </tr>\n",
              "  </tbody>\n",
              "</table>\n",
              "</div>"
            ],
            "text/plain": [
              "                                            CharacterID  ... PositionInCredits\n",
              "1602        u1602\\t\"DOCTOR\"\\tm106\\tjacob's ladder\\t?\\t?  ...               NaN\n",
              "1866               u1866\\t\"V\"\\tm123\\tlost highway\\t?\\t?  ...               NaN\n",
              "3764                                              u3764  ...                 ?\n",
              "4660    u4660\\tJOEY \"TWO TONS\"\\tm309\\tcrime spree\\t?\\t?  ...               NaN\n",
              "4664   u4664\\tNICKY \"THE RAKE\"\\tm309\\tcrime spree\\t?\\t?  ...               NaN\n",
              "5011     u5011\\t\"BRILL\"\\tm333\\tenemy of the state\\t?\\t?  ...               NaN\n",
              "6558                                              u6558  ...                 ?\n",
              "6735         u6736\\tANNOUNCER\\tm449\\t\"murderland\"\\t?\\t?  ...               NaN\n",
              "6736             u6737\\tBRUCE\\tm449\\t\"murderland\"\\tM\\t?  ...               NaN\n",
              "6737     u6738\\tFRED THOMISON\\tm449\\t\"murderland\"\\t?\\t?  ...               NaN\n",
              "6738     u6739\\tJOHN C. MCCAY\\tm449\\t\"murderland\"\\tM\\t?  ...               NaN\n",
              "6739            u6740\\tJOHNNY\\tm449\\t\"murderland\"\\tM\\t?  ...               NaN\n",
              "6740           u6741\\tMATTHEW\\tm449\\t\"murderland\"\\tM\\t?  ...               NaN\n",
              "6741           u6742\\tSAUNDRA\\tm449\\t\"murderland\"\\tF\\t?  ...               NaN\n",
              "6742              u6743\\tZACH\\tm449\\t\"murderland\"\\tM\\t?  ...               NaN\n",
              "7229  u7230\\t\"SCHOOL-MARM\"\\tm488\\tred white black & ...  ...               NaN\n",
              "7844  u7845\\t\"ILIA\"\\tm531\\tstar trek: the motion pic...  ...               NaN\n",
              "7913  u7914\\tCOLONEL \"BAT\" GUANO\\tm536\\tdr. strangel...  ...               NaN\n",
              "7916  u7917\\tGENERAL \"BUCK\" SCHMUCK\\tm536\\tdr. stran...  ...               NaN\n",
              "\n",
              "[19 rows x 6 columns]"
            ]
          },
          "metadata": {
            "tags": []
          },
          "execution_count": 16
        }
      ]
    },
    {
      "cell_type": "markdown",
      "metadata": {
        "id": "tRKmKR6BEW4z"
      },
      "source": [
        "We may notice in the above dataframe, in all the rows where CharacterName is NaN, MovieID, MovieTitle, \tGender and PositionInCredits are also not available. Hence dropping all the rows with missing CharacterName will eliminate even the other column rows which have missing values. \n",
        "\n",
        "**Syntax:** To drop the rows.\n",
        "```\n",
        "dataframe.drop(labels = row_indexes_to_drop, axis = 0, inplace = True)\n",
        "or\n",
        "dataframe.drop(index = row_indexes_to_drop, inplace = True)\n",
        "```\n",
        "\n"
      ]
    },
    {
      "cell_type": "code",
      "metadata": {
        "colab": {
          "base_uri": "https://localhost:8080/"
        },
        "id": "2zs8tIYXKGwA",
        "outputId": "b8d33f9f-2c23-479d-ae40-8b391d362c30"
      },
      "source": [
        "# Drop the rows where CharacterName is not available\n",
        "movie_char_df.drop(labels = missing_rows_char_name.index, axis = 0, inplace = True)\n",
        "\n",
        "# Find the new shape after dropping\n",
        "print(movie_char_df.shape)"
      ],
      "execution_count": null,
      "outputs": [
        {
          "output_type": "stream",
          "text": [
            "(9015, 6)\n"
          ],
          "name": "stdout"
        }
      ]
    },
    {
      "cell_type": "markdown",
      "metadata": {
        "id": "DHWkCSr1GSAG"
      },
      "source": [
        "In the above cell, `missing_rows_char_name.index` will return a list of row indices which we dropped for the `missing_rows_char_name` dataframe."
      ]
    },
    {
      "cell_type": "code",
      "metadata": {
        "colab": {
          "base_uri": "https://localhost:8080/"
        },
        "id": "IuE-YenhKPzv",
        "outputId": "57e7adaa-3598-4683-a3d0-7023bd657efe"
      },
      "source": [
        "# Check if movie_char_df datafrmae has any other missing values.\n",
        "movie_char_df.isnull().sum()"
      ],
      "execution_count": null,
      "outputs": [
        {
          "output_type": "execute_result",
          "data": {
            "text/plain": [
              "CharacterID          0\n",
              "CharacterName        0\n",
              "MovieID              0\n",
              "MovieTitle           0\n",
              "Gender               0\n",
              "PositionInCredits    0\n",
              "dtype: int64"
            ]
          },
          "metadata": {
            "tags": []
          },
          "execution_count": 18
        }
      ]
    },
    {
      "cell_type": "code",
      "metadata": {
        "colab": {
          "base_uri": "https://localhost:8080/"
        },
        "id": "WqMQrlYp-5In",
        "outputId": "ffdcf727-0bbb-4754-cc02-258acaebe6b1"
      },
      "source": [
        "# Find the counts of male and female in Gender column of movie_char_df\n",
        "movie_char_df['Gender'].value_counts()"
      ],
      "execution_count": null,
      "outputs": [
        {
          "output_type": "execute_result",
          "data": {
            "text/plain": [
              "?    6006\n",
              "m    1899\n",
              "f     921\n",
              "M     145\n",
              "F      44\n",
              "Name: Gender, dtype: int64"
            ]
          },
          "metadata": {
            "tags": []
          },
          "execution_count": 19
        }
      ]
    },
    {
      "cell_type": "markdown",
      "metadata": {
        "id": "2j1ZaDHlIL-q"
      },
      "source": [
        "As we can see, there are 6006 rows out of 9015 with unlabelled gender denoted by `'?'`. These do not contribute in classification. As they are more than 65% of values it is not wise to replace them as well. Hence all these rows can be dropped.\n",
        "\n",
        "Next find all the rows where `Gender` column has `'?'` value."
      ]
    },
    {
      "cell_type": "code",
      "metadata": {
        "id": "khY6nQIoG2A0"
      },
      "source": [
        "# Create a dataframe with `Gender` column having '?'\n",
        "missing_rows_gender = movie_char_df[movie_char_df['Gender'] == '?']\n",
        "\n",
        "# Print the indices of the above dataframe\n",
        "missing_rows_gender_list = missing_rows_gender.index"
      ],
      "execution_count": null,
      "outputs": []
    },
    {
      "cell_type": "code",
      "metadata": {
        "colab": {
          "base_uri": "https://localhost:8080/"
        },
        "id": "7c-CMU0JHB3h",
        "outputId": "e1534eab-a2f7-4609-cc89-f44ce6509698"
      },
      "source": [
        "# Use drop() to drop all the rows with indices in missing_rows_gender_list \n",
        "movie_char_df.drop(labels = missing_rows_gender_list, axis = 0, inplace = True)\n",
        "\n",
        "# Check the shape of dataframe after dropping\n",
        "print(movie_char_df.shape,'\\n')\n",
        "\n",
        "# Find the count of male and female\n",
        "movie_char_df['Gender'].value_counts()"
      ],
      "execution_count": null,
      "outputs": [
        {
          "output_type": "stream",
          "text": [
            "(3009, 6) \n",
            "\n"
          ],
          "name": "stdout"
        },
        {
          "output_type": "execute_result",
          "data": {
            "text/plain": [
              "m    1899\n",
              "f     921\n",
              "M     145\n",
              "F      44\n",
              "Name: Gender, dtype: int64"
            ]
          },
          "metadata": {
            "tags": []
          },
          "execution_count": 21
        }
      ]
    },
    {
      "cell_type": "code",
      "metadata": {
        "colab": {
          "base_uri": "https://localhost:8080/"
        },
        "id": "RddmdE-HMQiB",
        "outputId": "ee6b0400-cac1-4fcd-c641-020124b332d9"
      },
      "source": [
        "# Find the total number of male and female characters\n",
        "print(\"Total male characters =\", 1899 + 145)\n",
        "print(\"Total female characters =\", 921 + 44)"
      ],
      "execution_count": null,
      "outputs": [
        {
          "output_type": "stream",
          "text": [
            "Total male characters = 2044\n",
            "Total female characters = 965\n"
          ],
          "name": "stdout"
        }
      ]
    },
    {
      "cell_type": "markdown",
      "metadata": {
        "id": "-C0qTROuzzXH"
      },
      "source": [
        "The `Gender is the target for the classification model. Currently male is represented by characters 'm' and 'M' and female by 'f' and 'F'.\n",
        "\n",
        "The targets must be numerical values or of numerical datatype. So, let us now encode the gender male as 1 and female as 0."
      ]
    },
    {
      "cell_type": "code",
      "metadata": {
        "colab": {
          "base_uri": "https://localhost:8080/",
          "height": 422
        },
        "id": "m9SF0lkhKZ66",
        "outputId": "0e73294f-34e4-4f04-c4ad-ef4a211f7178"
      },
      "source": [
        "# Replace Male with 1 and Female with 0\n",
        "gender_list = []\n",
        "for item in movie_char_df['Gender']:\n",
        "  if (item == 'm') or (item == 'M'):\n",
        "    gender_list.append(1)\n",
        "  elif (item == 'f') or (item == 'F'):\n",
        "    gender_list.append(0)\n",
        "\n",
        "# Drop gender column from movie_char_df\n",
        "movie_char_df.drop(columns = 'Gender', inplace = True)\n",
        "gender_ser = pd.Series(data = gender_list, index = movie_char_df.index)\n",
        "\n",
        "# Insert the new gender column with Male encoded as 1 and Female encoded as 0 into movie_char_df\n",
        "movie_char_df.insert(loc = 4, column = 'Gender', value = gender_ser) \n",
        "movie_char_df"
      ],
      "execution_count": null,
      "outputs": [
        {
          "output_type": "execute_result",
          "data": {
            "text/html": [
              "<div>\n",
              "<style scoped>\n",
              "    .dataframe tbody tr th:only-of-type {\n",
              "        vertical-align: middle;\n",
              "    }\n",
              "\n",
              "    .dataframe tbody tr th {\n",
              "        vertical-align: top;\n",
              "    }\n",
              "\n",
              "    .dataframe thead th {\n",
              "        text-align: right;\n",
              "    }\n",
              "</style>\n",
              "<table border=\"1\" class=\"dataframe\">\n",
              "  <thead>\n",
              "    <tr style=\"text-align: right;\">\n",
              "      <th></th>\n",
              "      <th>CharacterID</th>\n",
              "      <th>CharacterName</th>\n",
              "      <th>MovieID</th>\n",
              "      <th>MovieTitle</th>\n",
              "      <th>Gender</th>\n",
              "      <th>PositionInCredits</th>\n",
              "    </tr>\n",
              "  </thead>\n",
              "  <tbody>\n",
              "    <tr>\n",
              "      <th>0</th>\n",
              "      <td>u0</td>\n",
              "      <td>BIANCA</td>\n",
              "      <td>m0</td>\n",
              "      <td>10 things i hate about you</td>\n",
              "      <td>0</td>\n",
              "      <td>4</td>\n",
              "    </tr>\n",
              "    <tr>\n",
              "      <th>2</th>\n",
              "      <td>u2</td>\n",
              "      <td>CAMERON</td>\n",
              "      <td>m0</td>\n",
              "      <td>10 things i hate about you</td>\n",
              "      <td>1</td>\n",
              "      <td>3</td>\n",
              "    </tr>\n",
              "    <tr>\n",
              "      <th>4</th>\n",
              "      <td>u4</td>\n",
              "      <td>JOEY</td>\n",
              "      <td>m0</td>\n",
              "      <td>10 things i hate about you</td>\n",
              "      <td>1</td>\n",
              "      <td>6</td>\n",
              "    </tr>\n",
              "    <tr>\n",
              "      <th>5</th>\n",
              "      <td>u5</td>\n",
              "      <td>KAT</td>\n",
              "      <td>m0</td>\n",
              "      <td>10 things i hate about you</td>\n",
              "      <td>0</td>\n",
              "      <td>2</td>\n",
              "    </tr>\n",
              "    <tr>\n",
              "      <th>6</th>\n",
              "      <td>u6</td>\n",
              "      <td>MANDELLA</td>\n",
              "      <td>m0</td>\n",
              "      <td>10 things i hate about you</td>\n",
              "      <td>0</td>\n",
              "      <td>7</td>\n",
              "    </tr>\n",
              "    <tr>\n",
              "      <th>...</th>\n",
              "      <td>...</td>\n",
              "      <td>...</td>\n",
              "      <td>...</td>\n",
              "      <td>...</td>\n",
              "      <td>...</td>\n",
              "      <td>...</td>\n",
              "    </tr>\n",
              "    <tr>\n",
              "      <th>9014</th>\n",
              "      <td>u9015</td>\n",
              "      <td>ELIZABETH</td>\n",
              "      <td>m615</td>\n",
              "      <td>young frankenstein</td>\n",
              "      <td>0</td>\n",
              "      <td>25</td>\n",
              "    </tr>\n",
              "    <tr>\n",
              "      <th>9016</th>\n",
              "      <td>u9017</td>\n",
              "      <td>FREDDY</td>\n",
              "      <td>m615</td>\n",
              "      <td>young frankenstein</td>\n",
              "      <td>1</td>\n",
              "      <td>?</td>\n",
              "    </tr>\n",
              "    <tr>\n",
              "      <th>9018</th>\n",
              "      <td>u9019</td>\n",
              "      <td>IGOR</td>\n",
              "      <td>m615</td>\n",
              "      <td>young frankenstein</td>\n",
              "      <td>1</td>\n",
              "      <td>3</td>\n",
              "    </tr>\n",
              "    <tr>\n",
              "      <th>9019</th>\n",
              "      <td>u9020</td>\n",
              "      <td>INGA</td>\n",
              "      <td>m615</td>\n",
              "      <td>young frankenstein</td>\n",
              "      <td>0</td>\n",
              "      <td>5</td>\n",
              "    </tr>\n",
              "    <tr>\n",
              "      <th>9021</th>\n",
              "      <td>u9022</td>\n",
              "      <td>MEDICAL STUDENT</td>\n",
              "      <td>m615</td>\n",
              "      <td>young frankenstein</td>\n",
              "      <td>1</td>\n",
              "      <td>9</td>\n",
              "    </tr>\n",
              "  </tbody>\n",
              "</table>\n",
              "<p>3009 rows × 6 columns</p>\n",
              "</div>"
            ],
            "text/plain": [
              "     CharacterID    CharacterName  ... Gender PositionInCredits\n",
              "0             u0           BIANCA  ...      0                 4\n",
              "2             u2          CAMERON  ...      1                 3\n",
              "4             u4             JOEY  ...      1                 6\n",
              "5             u5              KAT  ...      0                 2\n",
              "6             u6         MANDELLA  ...      0                 7\n",
              "...          ...              ...  ...    ...               ...\n",
              "9014       u9015        ELIZABETH  ...      0                25\n",
              "9016       u9017           FREDDY  ...      1                 ?\n",
              "9018       u9019             IGOR  ...      1                 3\n",
              "9019       u9020             INGA  ...      0                 5\n",
              "9021       u9022  MEDICAL STUDENT  ...      1                 9\n",
              "\n",
              "[3009 rows x 6 columns]"
            ]
          },
          "metadata": {
            "tags": []
          },
          "execution_count": 23
        }
      ]
    },
    {
      "cell_type": "markdown",
      "metadata": {
        "id": "qmU83RbK0gtS"
      },
      "source": [
        "In the above cell we perform the following actions.\n",
        "1. Create an empty list to store the encoded gender values. \n",
        "2. Encode all male ('m' and 'M') and female ('f' and 'F') gender values as 1 and 0 respectively.\n",
        "3. Drop the original existing gender feature from movie_char_df dataframe using drop()\n",
        "4. Insert the encoded Gender column consisting of 1s and 0s into movie_char_df dataframe."
      ]
    },
    {
      "cell_type": "code",
      "metadata": {
        "colab": {
          "base_uri": "https://localhost:8080/"
        },
        "id": "_KWFY64zMJMu",
        "outputId": "dfdc10c6-1dfe-42d2-84f4-2c2d97d317b3"
      },
      "source": [
        "# Check the count of Male and Female after encoding\n",
        "movie_char_df['Gender'].value_counts()"
      ],
      "execution_count": null,
      "outputs": [
        {
          "output_type": "execute_result",
          "data": {
            "text/plain": [
              "1    2044\n",
              "0     965\n",
              "Name: Gender, dtype: int64"
            ]
          },
          "metadata": {
            "tags": []
          },
          "execution_count": 24
        }
      ]
    },
    {
      "cell_type": "markdown",
      "metadata": {
        "id": "HKIBbhlB1jy8"
      },
      "source": [
        "The count is maintaineda as above."
      ]
    },
    {
      "cell_type": "code",
      "metadata": {
        "colab": {
          "base_uri": "https://localhost:8080/"
        },
        "id": "KNDS5F2PGwJs",
        "outputId": "023051be-b482-4443-e2c7-ffc998a607b2"
      },
      "source": [
        "# Display the information of movie_char_df dataframe\n",
        "movie_char_df.info()\n",
        "# The gender column is now in int datatype"
      ],
      "execution_count": null,
      "outputs": [
        {
          "output_type": "stream",
          "text": [
            "<class 'pandas.core.frame.DataFrame'>\n",
            "Int64Index: 3009 entries, 0 to 9021\n",
            "Data columns (total 6 columns):\n",
            " #   Column             Non-Null Count  Dtype \n",
            "---  ------             --------------  ----- \n",
            " 0   CharacterID        3009 non-null   object\n",
            " 1   CharacterName      3009 non-null   object\n",
            " 2   MovieID            3009 non-null   object\n",
            " 3   MovieTitle         3009 non-null   object\n",
            " 4   Gender             3009 non-null   int64 \n",
            " 5   PositionInCredits  3009 non-null   object\n",
            "dtypes: int64(1), object(5)\n",
            "memory usage: 164.6+ KB\n"
          ],
          "name": "stdout"
        }
      ]
    },
    {
      "cell_type": "markdown",
      "metadata": {
        "id": "TJdK2sWx1wXk"
      },
      "source": [
        "We are now about to explore `CharacterID, CharacterName, MovieID, and PositionInCredits` features, to understand how well they can help in classification."
      ]
    },
    {
      "cell_type": "code",
      "metadata": {
        "colab": {
          "base_uri": "https://localhost:8080/"
        },
        "id": "XsxOs0WuMcs8",
        "outputId": "2f59a4e1-d2a3-4c45-f00e-7cdc8bf782d3"
      },
      "source": [
        "# Find the unique items and thier count in CharacterID\n",
        "print(f\"Unique characterIDs =\\n{movie_char_df['CharacterID'].unique()}\")\n",
        "print(f\"\\nNumber of unique characterIDs = {len(movie_char_df['CharacterID'].unique())}\")"
      ],
      "execution_count": null,
      "outputs": [
        {
          "output_type": "stream",
          "text": [
            "Unique characterIDs =\n",
            "['u0' 'u2' 'u4' ... 'u9019' 'u9020' 'u9022']\n",
            "\n",
            "Number of unique characterIDs = 3009\n"
          ],
          "name": "stdout"
        }
      ]
    },
    {
      "cell_type": "code",
      "metadata": {
        "colab": {
          "base_uri": "https://localhost:8080/"
        },
        "id": "N8Cua3SwMkv6",
        "outputId": "21f35ffd-3578-4018-e328-33d2d91285d2"
      },
      "source": [
        "# Find the unique items and thier count in CharacterName\n",
        "print(f\"Unique character names =\\n{movie_char_df['CharacterName'].unique()}\")\n",
        "print(f\"\\nNumber of unique character names = {len(movie_char_df['CharacterName'].unique())}\")"
      ],
      "execution_count": null,
      "outputs": [
        {
          "output_type": "stream",
          "text": [
            "Unique character names =\n",
            "['BIANCA' 'CAMERON' 'JOEY' ... 'IGOR' 'INGA' 'MEDICAL STUDENT']\n",
            "\n",
            "Number of unique character names = 1949\n"
          ],
          "name": "stdout"
        }
      ]
    },
    {
      "cell_type": "code",
      "metadata": {
        "colab": {
          "base_uri": "https://localhost:8080/"
        },
        "id": "5IVDoPbIMqic",
        "outputId": "0e2755c2-99eb-405d-e50d-06c940936301"
      },
      "source": [
        "# Find the unique items and thier count in MovieID\n",
        "print(f\"Unique movieIDs =\\n{movie_char_df['MovieID'].unique()}\")\n",
        "print(f\"\\nNumber of unique movieIDs = {len(movie_char_df['MovieID'].unique())}\")"
      ],
      "execution_count": null,
      "outputs": [
        {
          "output_type": "stream",
          "text": [
            "Unique movieIDs =\n",
            "['m0' 'm1' 'm2' 'm3' 'm4' 'm5' 'm6' 'm7' 'm8' 'm9' 'm10' 'm11' 'm12' 'm13'\n",
            " 'm14' 'm15' 'm16' 'm17' 'm18' 'm19' 'm20' 'm21' 'm22' 'm23' 'm24' 'm25'\n",
            " 'm26' 'm27' 'm28' 'm29' 'm30' 'm31' 'm32' 'm33' 'm34' 'm35' 'm36' 'm37'\n",
            " 'm38' 'm39' 'm40' 'm41' 'm42' 'm43' 'm44' 'm45' 'm46' 'm47' 'm48' 'm49'\n",
            " 'm50' 'm51' 'm52' 'm53' 'm54' 'm55' 'm56' 'm57' 'm58' 'm59' 'm60' 'm61'\n",
            " 'm62' 'm63' 'm64' 'm65' 'm66' 'm67' 'm68' 'm69' 'm70' 'm71' 'm72' 'm73'\n",
            " 'm74' 'm75' 'm76' 'm77' 'm78' 'm79' 'm80' 'm81' 'm82' 'm83' 'm84' 'm85'\n",
            " 'm86' 'm87' 'm88' 'm89' 'm90' 'm91' 'm92' 'm93' 'm94' 'm95' 'm96' 'm97'\n",
            " 'm98' 'm99' 'm100' 'm101' 'm102' 'm103' 'm104' 'm105' 'm106' 'm107'\n",
            " 'm108' 'm109' 'm110' 'm111' 'm112' 'm113' 'm114' 'm115' 'm116' 'm117'\n",
            " 'm118' 'm119' 'm120' 'm121' 'm122' 'm123' 'm124' 'm125' 'm126' 'm127'\n",
            " 'm128' 'm129' 'm130' 'm131' 'm132' 'm133' 'm134' 'm136' 'm137' 'm138'\n",
            " 'm139' 'm140' 'm141' 'm142' 'm143' 'm144' 'm145' 'm146' 'm147' 'm148'\n",
            " 'm149' 'm150' 'm151' 'm152' 'm153' 'm154' 'm155' 'm156' 'm157' 'm158'\n",
            " 'm159' 'm160' 'm161' 'm162' 'm163' 'm164' 'm165' 'm166' 'm167' 'm168'\n",
            " 'm169' 'm170' 'm171' 'm172' 'm173' 'm174' 'm175' 'm176' 'm177' 'm178'\n",
            " 'm179' 'm180' 'm181' 'm182' 'm183' 'm184' 'm185' 'm186' 'm187' 'm188'\n",
            " 'm189' 'm190' 'm191' 'm192' 'm193' 'm194' 'm195' 'm196' 'm197' 'm198'\n",
            " 'm199' 'm200' 'm201' 'm202' 'm203' 'm204' 'm205' 'm206' 'm207' 'm208'\n",
            " 'm209' 'm210' 'm211' 'm212' 'm213' 'm214' 'm215' 'm216' 'm217' 'm218'\n",
            " 'm219' 'm220' 'm221' 'm222' 'm223' 'm224' 'm225' 'm226' 'm227' 'm228'\n",
            " 'm229' 'm230' 'm231' 'm232' 'm233' 'm234' 'm235' 'm236' 'm238' 'm239'\n",
            " 'm240' 'm241' 'm242' 'm243' 'm244' 'm245' 'm246' 'm247' 'm248' 'm249'\n",
            " 'm250' 'm251' 'm252' 'm253' 'm254' 'm255' 'm256' 'm257' 'm258' 'm259'\n",
            " 'm260' 'm261' 'm262' 'm263' 'm264' 'm265' 'm266' 'm267' 'm268' 'm269'\n",
            " 'm271' 'm272' 'm273' 'm274' 'm275' 'm276' 'm277' 'm278' 'm279' 'm280'\n",
            " 'm281' 'm282' 'm283' 'm284' 'm285' 'm286' 'm287' 'm288' 'm289' 'm290'\n",
            " 'm291' 'm292' 'm293' 'm294' 'm295' 'm296' 'm297' 'm298' 'm299' 'm300'\n",
            " 'm301' 'm302' 'm303' 'm304' 'm305' 'm306' 'm307' 'm308' 'm309' 'm310'\n",
            " 'm311' 'm312' 'm313' 'm314' 'm315' 'm316' 'm317' 'm318' 'm319' 'm320'\n",
            " 'm322' 'm323' 'm324' 'm325' 'm326' 'm327' 'm328' 'm329' 'm330' 'm331'\n",
            " 'm332' 'm333' 'm334' 'm335' 'm336' 'm337' 'm339' 'm340' 'm341' 'm342'\n",
            " 'm343' 'm344' 'm345' 'm346' 'm347' 'm348' 'm349' 'm350' 'm351' 'm352'\n",
            " 'm353' 'm354' 'm355' 'm356' 'm357' 'm358' 'm359' 'm360' 'm361' 'm362'\n",
            " 'm363' 'm365' 'm366' 'm367' 'm368' 'm369' 'm370' 'm371' 'm372' 'm373'\n",
            " 'm374' 'm375' 'm376' 'm377' 'm378' 'm379' 'm380' 'm381' 'm382' 'm383'\n",
            " 'm384' 'm385' 'm386' 'm387' 'm388' 'm389' 'm390' 'm391' 'm392' 'm393'\n",
            " 'm394' 'm395' 'm396' 'm397' 'm398' 'm399' 'm400' 'm401' 'm402' 'm403'\n",
            " 'm404' 'm405' 'm407' 'm408' 'm409' 'm410' 'm411' 'm413' 'm414' 'm415'\n",
            " 'm416' 'm417' 'm418' 'm419' 'm420' 'm421' 'm422' 'm423' 'm424' 'm425'\n",
            " 'm426' 'm427' 'm428' 'm429' 'm430' 'm431' 'm432' 'm433' 'm434' 'm435'\n",
            " 'm436' 'm437' 'm438' 'm439' 'm440' 'm441' 'm442' 'm443' 'm444' 'm445'\n",
            " 'm446' 'm447' 'm448' 'm450' 'm451' 'm452' 'm453' 'm454' 'm455' 'm457'\n",
            " 'm458' 'm459' 'm460' 'm461' 'm462' 'm463' 'm464' 'm465' 'm466' 'm467'\n",
            " 'm468' 'm469' 'm470' 'm471' 'm472' 'm473' 'm474' 'm475' 'm476' 'm477'\n",
            " 'm478' 'm479' 'm480' 'm481' 'm482' 'm485' 'm486' 'm487' 'm488' 'm489'\n",
            " 'm490' 'm491' 'm492' 'm493' 'm494' 'm495' 'm496' 'm497' 'm498' 'm499'\n",
            " 'm500' 'm501' 'm502' 'm503' 'm504' 'm505' 'm506' 'm507' 'm508' 'm509'\n",
            " 'm510' 'm511' 'm512' 'm513' 'm514' 'm515' 'm516' 'm517' 'm518' 'm519'\n",
            " 'm520' 'm522' 'm523' 'm524' 'm525' 'm526' 'm527' 'm528' 'm529' 'm530'\n",
            " 'm531' 'm532' 'm533' 'm534' 'm536' 'm537' 'm538' 'm539' 'm540' 'm541'\n",
            " 'm542' 'm543' 'm544' 'm545' 'm546' 'm547' 'm548' 'm549' 'm550' 'm551'\n",
            " 'm552' 'm553' 'm554' 'm555' 'm556' 'm557' 'm558' 'm559' 'm560' 'm561'\n",
            " 'm562' 'm563' 'm564' 'm565' 'm566' 'm567' 'm568' 'm569' 'm570' 'm571'\n",
            " 'm572' 'm573' 'm574' 'm575' 'm576' 'm577' 'm578' 'm579' 'm580' 'm581'\n",
            " 'm582' 'm583' 'm584' 'm585' 'm586' 'm587' 'm588' 'm589' 'm590' 'm591'\n",
            " 'm592' 'm593' 'm594' 'm595' 'm596' 'm597' 'm598' 'm599' 'm601' 'm603'\n",
            " 'm604' 'm605' 'm606' 'm607' 'm608' 'm609' 'm610' 'm611' 'm612' 'm613'\n",
            " 'm615']\n",
            "\n",
            "Number of unique movieIDs = 599\n"
          ],
          "name": "stdout"
        }
      ]
    },
    {
      "cell_type": "code",
      "metadata": {
        "colab": {
          "base_uri": "https://localhost:8080/"
        },
        "id": "1UPbsvR9_r8n",
        "outputId": "cc89c658-0db8-4b79-87d9-0c642b29feed"
      },
      "source": [
        "# Find the unique items and thier count in PositionInCredits\n",
        "print(f\"Unique position in credits =\\n{movie_char_df['PositionInCredits'].unique()}\")\n",
        "print(f\"\\nNumber of unique position in credits = {len(movie_char_df['PositionInCredits'].unique())}\")"
      ],
      "execution_count": null,
      "outputs": [
        {
          "output_type": "stream",
          "text": [
            "Unique position in credits =\n",
            "['4' '3' '6' '2' '7' '5' '1' '9' '?' '8' '11' '21' '13' '22' '16' '1000'\n",
            " '12' '10' '14' '39' '24' '15' '17' '19' '18' '28' '38' '31' '25' '45'\n",
            " '29' '42' '63' '59' '33' '43' '36' '27' '26' '20' '44' '49' '34' '23'\n",
            " '32' '37' '30' '50' '82' '51' '46' '62' '47' '35' '41' '71' '70']\n",
            "\n",
            "Number of unique position in credits = 57\n"
          ],
          "name": "stdout"
        }
      ]
    },
    {
      "cell_type": "markdown",
      "metadata": {
        "id": "qfXrBoCqNjQS"
      },
      "source": [
        "From the above results it is clear that only `Character IDs` are unique to each sample. i.e. for each of the 3009 entries in `movie_char_df` dataframe there are 3009 unique character IDs. "
      ]
    },
    {
      "cell_type": "markdown",
      "metadata": {
        "id": "Vco2UzXe3b6C"
      },
      "source": [
        "Next is to explore movie lines dataframe."
      ]
    },
    {
      "cell_type": "code",
      "metadata": {
        "colab": {
          "base_uri": "https://localhost:8080/",
          "height": 224
        },
        "id": "VSSoCqzVNRVk",
        "outputId": "33fc14be-042a-4a39-d54a-f7d7916973d3"
      },
      "source": [
        "# Display the shape and first 5 rows of movie_lines_df dataframe\n",
        "print(movie_lines_df.shape)\n",
        "movie_lines_df.head()"
      ],
      "execution_count": null,
      "outputs": [
        {
          "output_type": "stream",
          "text": [
            "(293202, 5)\n"
          ],
          "name": "stdout"
        },
        {
          "output_type": "execute_result",
          "data": {
            "text/html": [
              "<div>\n",
              "<style scoped>\n",
              "    .dataframe tbody tr th:only-of-type {\n",
              "        vertical-align: middle;\n",
              "    }\n",
              "\n",
              "    .dataframe tbody tr th {\n",
              "        vertical-align: top;\n",
              "    }\n",
              "\n",
              "    .dataframe thead th {\n",
              "        text-align: right;\n",
              "    }\n",
              "</style>\n",
              "<table border=\"1\" class=\"dataframe\">\n",
              "  <thead>\n",
              "    <tr style=\"text-align: right;\">\n",
              "      <th></th>\n",
              "      <th>LineID</th>\n",
              "      <th>CharacterID</th>\n",
              "      <th>MovieID</th>\n",
              "      <th>CharacterName</th>\n",
              "      <th>Speech</th>\n",
              "    </tr>\n",
              "  </thead>\n",
              "  <tbody>\n",
              "    <tr>\n",
              "      <th>0</th>\n",
              "      <td>L1045</td>\n",
              "      <td>u0</td>\n",
              "      <td>m0</td>\n",
              "      <td>BIANCA</td>\n",
              "      <td>They do not!</td>\n",
              "    </tr>\n",
              "    <tr>\n",
              "      <th>1</th>\n",
              "      <td>L1044</td>\n",
              "      <td>u2</td>\n",
              "      <td>m0</td>\n",
              "      <td>CAMERON</td>\n",
              "      <td>They do to!</td>\n",
              "    </tr>\n",
              "    <tr>\n",
              "      <th>2</th>\n",
              "      <td>L985</td>\n",
              "      <td>u0</td>\n",
              "      <td>m0</td>\n",
              "      <td>BIANCA</td>\n",
              "      <td>I hope so.</td>\n",
              "    </tr>\n",
              "    <tr>\n",
              "      <th>3</th>\n",
              "      <td>L984</td>\n",
              "      <td>u2</td>\n",
              "      <td>m0</td>\n",
              "      <td>CAMERON</td>\n",
              "      <td>She okay?</td>\n",
              "    </tr>\n",
              "    <tr>\n",
              "      <th>4</th>\n",
              "      <td>L925</td>\n",
              "      <td>u0</td>\n",
              "      <td>m0</td>\n",
              "      <td>BIANCA</td>\n",
              "      <td>Let's go.</td>\n",
              "    </tr>\n",
              "  </tbody>\n",
              "</table>\n",
              "</div>"
            ],
            "text/plain": [
              "  LineID CharacterID MovieID CharacterName        Speech\n",
              "0  L1045          u0      m0        BIANCA  They do not!\n",
              "1  L1044          u2      m0       CAMERON   They do to!\n",
              "2   L985          u0      m0        BIANCA    I hope so.\n",
              "3   L984          u2      m0       CAMERON     She okay?\n",
              "4   L925          u0      m0        BIANCA     Let's go."
            ]
          },
          "metadata": {
            "tags": []
          },
          "execution_count": 30
        }
      ]
    },
    {
      "cell_type": "code",
      "metadata": {
        "colab": {
          "base_uri": "https://localhost:8080/"
        },
        "id": "CrY00JY0ONOo",
        "outputId": "942c1ae6-a8f8-475d-8284-291ae368207b"
      },
      "source": [
        "# Check for the percentage of missing values in movie_lines_df\n",
        "print(movie_lines_df.isnull().sum())\n",
        "print()\n",
        "print((movie_lines_df.isnull().sum()/movie_lines_df.shape[0])*100)"
      ],
      "execution_count": null,
      "outputs": [
        {
          "output_type": "stream",
          "text": [
            "LineID              0\n",
            "CharacterID      4285\n",
            "MovieID          4285\n",
            "CharacterName    4328\n",
            "Speech           4539\n",
            "dtype: int64\n",
            "\n",
            "LineID           0.000000\n",
            "CharacterID      1.461450\n",
            "MovieID          1.461450\n",
            "CharacterName    1.476115\n",
            "Speech           1.548079\n",
            "dtype: float64\n"
          ],
          "name": "stdout"
        }
      ]
    },
    {
      "cell_type": "markdown",
      "metadata": {
        "id": "iP44pmn-32Mw"
      },
      "source": [
        "The Speech column has highest missing values. It could be possible that in all the rows where `Speech` is unavailable, C`haracterID, MovieID, and CharacterName` also could be missing."
      ]
    },
    {
      "cell_type": "code",
      "metadata": {
        "colab": {
          "base_uri": "https://localhost:8080/"
        },
        "id": "1xvzKut6UbqG",
        "outputId": "7ef598ce-5f42-42c5-bf76-df5eb85eeee3"
      },
      "source": [
        "# Check if 'CharacterID', 'MovieID', and 'CharacterName' are also missing in all those rows where 'Speech' is also missing\n",
        "for col in ['CharacterID', 'MovieID', 'CharacterName']:\n",
        "  print(movie_lines_df[(movie_lines_df['Speech'].isnull() == True) & (movie_lines_df[col].isnull() == True)].shape)"
      ],
      "execution_count": null,
      "outputs": [
        {
          "output_type": "stream",
          "text": [
            "(4285, 5)\n",
            "(4285, 5)\n",
            "(4285, 5)\n"
          ],
          "name": "stdout"
        }
      ]
    },
    {
      "cell_type": "markdown",
      "metadata": {
        "id": "Fp_JJM8wVJPH"
      },
      "source": [
        "It can be seen that in all the rows where `'Speech'` is missing `'CharacterID', 'MovieID', 'CharacterName'` are also not found. Hence these 4285 which are less than 2% of total samples can be dropped along with other rows where `'Speech'` alone is unspecified."
      ]
    },
    {
      "cell_type": "code",
      "metadata": {
        "colab": {
          "base_uri": "https://localhost:8080/",
          "height": 205
        },
        "id": "FDpEhiPxS9f0",
        "outputId": "1a8264d8-8866-4879-fa67-53b9a7b647c8"
      },
      "source": [
        "# Identify the rows where 'Speech' is null.\n",
        "missing_rows_dialogue = movie_lines_df[movie_lines_df['Speech'].isnull() == True]\n",
        "\n",
        "# Display the first 5 rows\n",
        "missing_rows_dialogue.head()"
      ],
      "execution_count": null,
      "outputs": [
        {
          "output_type": "execute_result",
          "data": {
            "text/html": [
              "<div>\n",
              "<style scoped>\n",
              "    .dataframe tbody tr th:only-of-type {\n",
              "        vertical-align: middle;\n",
              "    }\n",
              "\n",
              "    .dataframe tbody tr th {\n",
              "        vertical-align: top;\n",
              "    }\n",
              "\n",
              "    .dataframe thead th {\n",
              "        text-align: right;\n",
              "    }\n",
              "</style>\n",
              "<table border=\"1\" class=\"dataframe\">\n",
              "  <thead>\n",
              "    <tr style=\"text-align: right;\">\n",
              "      <th></th>\n",
              "      <th>LineID</th>\n",
              "      <th>CharacterID</th>\n",
              "      <th>MovieID</th>\n",
              "      <th>CharacterName</th>\n",
              "      <th>Speech</th>\n",
              "    </tr>\n",
              "  </thead>\n",
              "  <tbody>\n",
              "    <tr>\n",
              "      <th>8</th>\n",
              "      <td>L870\\tu0\\tm0\\tBIANCA\\tI'm kidding.  You know h...</td>\n",
              "      <td>NaN</td>\n",
              "      <td>NaN</td>\n",
              "      <td>NaN</td>\n",
              "      <td>NaN</td>\n",
              "    </tr>\n",
              "    <tr>\n",
              "      <th>10</th>\n",
              "      <td>L868\\tu2\\tm0\\tCAMERON\\tThe \"real you\".</td>\n",
              "      <td>NaN</td>\n",
              "      <td>NaN</td>\n",
              "      <td>NaN</td>\n",
              "      <td>NaN</td>\n",
              "    </tr>\n",
              "    <tr>\n",
              "      <th>18</th>\n",
              "      <td>L860\\tu0\\tm0\\tBIANCA\\tThen Guillermo says \"If ...</td>\n",
              "      <td>NaN</td>\n",
              "      <td>NaN</td>\n",
              "      <td>NaN</td>\n",
              "      <td>NaN</td>\n",
              "    </tr>\n",
              "    <tr>\n",
              "      <th>25</th>\n",
              "      <td>L693\\tu2\\tm0\\tCAMERON\\tI looked for you back a...</td>\n",
              "      <td>NaN</td>\n",
              "      <td>NaN</td>\n",
              "      <td>NaN</td>\n",
              "      <td>NaN</td>\n",
              "    </tr>\n",
              "    <tr>\n",
              "      <th>96</th>\n",
              "      <td>L589\\tu4\\tm0\\tJOEY\\tSo yeah I've got the Sears...</td>\n",
              "      <td>NaN</td>\n",
              "      <td>NaN</td>\n",
              "      <td>NaN</td>\n",
              "      <td>NaN</td>\n",
              "    </tr>\n",
              "  </tbody>\n",
              "</table>\n",
              "</div>"
            ],
            "text/plain": [
              "                                               LineID  ... Speech\n",
              "8   L870\\tu0\\tm0\\tBIANCA\\tI'm kidding.  You know h...  ...    NaN\n",
              "10             L868\\tu2\\tm0\\tCAMERON\\tThe \"real you\".  ...    NaN\n",
              "18  L860\\tu0\\tm0\\tBIANCA\\tThen Guillermo says \"If ...  ...    NaN\n",
              "25  L693\\tu2\\tm0\\tCAMERON\\tI looked for you back a...  ...    NaN\n",
              "96  L589\\tu4\\tm0\\tJOEY\\tSo yeah I've got the Sears...  ...    NaN\n",
              "\n",
              "[5 rows x 5 columns]"
            ]
          },
          "metadata": {
            "tags": []
          },
          "execution_count": 33
        }
      ]
    },
    {
      "cell_type": "code",
      "metadata": {
        "colab": {
          "base_uri": "https://localhost:8080/"
        },
        "id": "D188UFo5TR0V",
        "outputId": "3a406ce4-4111-480b-9ae4-b09ae2138af2"
      },
      "source": [
        "# Drop all the rows from movie_lines_df dataframe with Speech missing\n",
        "movie_lines_df.drop(labels = missing_rows_dialogue.index, axis = 0, inplace = True)\n",
        "\n",
        "# Check for null values again\n",
        "print(movie_lines_df.isnull().sum())"
      ],
      "execution_count": null,
      "outputs": [
        {
          "output_type": "stream",
          "text": [
            "LineID            0\n",
            "CharacterID       0\n",
            "MovieID           0\n",
            "CharacterName    43\n",
            "Speech            0\n",
            "dtype: int64\n"
          ],
          "name": "stdout"
        }
      ]
    },
    {
      "cell_type": "markdown",
      "metadata": {
        "id": "EZxLAEKT5PKn"
      },
      "source": [
        "Still there are 43 rows with character names unknown. These rows can as well be dropped."
      ]
    },
    {
      "cell_type": "code",
      "metadata": {
        "colab": {
          "base_uri": "https://localhost:8080/",
          "height": 1000
        },
        "id": "r4apnGlvTtWa",
        "outputId": "62ac0763-ad1a-4dcd-f291-ef052f6b32d3"
      },
      "source": [
        "# Find the rows in movie_lines_df dataframe where caharcter name is null\n",
        "missing_rows_char_names = movie_lines_df[movie_lines_df['CharacterName'].isnull() == True]\n",
        "missing_rows_char_names"
      ],
      "execution_count": null,
      "outputs": [
        {
          "output_type": "execute_result",
          "data": {
            "text/html": [
              "<div>\n",
              "<style scoped>\n",
              "    .dataframe tbody tr th:only-of-type {\n",
              "        vertical-align: middle;\n",
              "    }\n",
              "\n",
              "    .dataframe tbody tr th {\n",
              "        vertical-align: top;\n",
              "    }\n",
              "\n",
              "    .dataframe thead th {\n",
              "        text-align: right;\n",
              "    }\n",
              "</style>\n",
              "<table border=\"1\" class=\"dataframe\">\n",
              "  <thead>\n",
              "    <tr style=\"text-align: right;\">\n",
              "      <th></th>\n",
              "      <th>LineID</th>\n",
              "      <th>CharacterID</th>\n",
              "      <th>MovieID</th>\n",
              "      <th>CharacterName</th>\n",
              "      <th>Speech</th>\n",
              "    </tr>\n",
              "  </thead>\n",
              "  <tbody>\n",
              "    <tr>\n",
              "      <th>124580</th>\n",
              "      <td>L50228</td>\n",
              "      <td>u3764</td>\n",
              "      <td>m248</td>\n",
              "      <td>NaN</td>\n",
              "      <td>215  CONTINUED:</td>\n",
              "    </tr>\n",
              "    <tr>\n",
              "      <th>124581</th>\n",
              "      <td>L50147</td>\n",
              "      <td>u3764</td>\n",
              "      <td>m248</td>\n",
              "      <td>NaN</td>\n",
              "      <td>175  CONTINUED:</td>\n",
              "    </tr>\n",
              "    <tr>\n",
              "      <th>124583</th>\n",
              "      <td>L50054</td>\n",
              "      <td>u3764</td>\n",
              "      <td>m248</td>\n",
              "      <td>NaN</td>\n",
              "      <td>150  CONTINUED:</td>\n",
              "    </tr>\n",
              "    <tr>\n",
              "      <th>124585</th>\n",
              "      <td>L50011</td>\n",
              "      <td>u3764</td>\n",
              "      <td>m248</td>\n",
              "      <td>NaN</td>\n",
              "      <td>139  CONTINUED:</td>\n",
              "    </tr>\n",
              "    <tr>\n",
              "      <th>124587</th>\n",
              "      <td>L50007</td>\n",
              "      <td>u3764</td>\n",
              "      <td>m248</td>\n",
              "      <td>NaN</td>\n",
              "      <td>134  CONTINUED:</td>\n",
              "    </tr>\n",
              "    <tr>\n",
              "      <th>124590</th>\n",
              "      <td>L49991</td>\n",
              "      <td>u3764</td>\n",
              "      <td>m248</td>\n",
              "      <td>NaN</td>\n",
              "      <td>134  CONTINUED:</td>\n",
              "    </tr>\n",
              "    <tr>\n",
              "      <th>124592</th>\n",
              "      <td>L49950</td>\n",
              "      <td>u3764</td>\n",
              "      <td>m248</td>\n",
              "      <td>NaN</td>\n",
              "      <td>117  CONTINUED:</td>\n",
              "    </tr>\n",
              "    <tr>\n",
              "      <th>124593</th>\n",
              "      <td>L49895</td>\n",
              "      <td>u3764</td>\n",
              "      <td>m248</td>\n",
              "      <td>NaN</td>\n",
              "      <td>107  CONTINUED:</td>\n",
              "    </tr>\n",
              "    <tr>\n",
              "      <th>124596</th>\n",
              "      <td>L49864</td>\n",
              "      <td>u3764</td>\n",
              "      <td>m248</td>\n",
              "      <td>NaN</td>\n",
              "      <td>102  CONTINUED:</td>\n",
              "    </tr>\n",
              "    <tr>\n",
              "      <th>124597</th>\n",
              "      <td>L49826</td>\n",
              "      <td>u3764</td>\n",
              "      <td>m248</td>\n",
              "      <td>NaN</td>\n",
              "      <td>89   CONTINUED:</td>\n",
              "    </tr>\n",
              "    <tr>\n",
              "      <th>124600</th>\n",
              "      <td>L49690</td>\n",
              "      <td>u3764</td>\n",
              "      <td>m248</td>\n",
              "      <td>NaN</td>\n",
              "      <td>34   CONTINUED:</td>\n",
              "    </tr>\n",
              "    <tr>\n",
              "      <th>124602</th>\n",
              "      <td>L49667</td>\n",
              "      <td>u3764</td>\n",
              "      <td>m248</td>\n",
              "      <td>NaN</td>\n",
              "      <td>30   CONTINUED:</td>\n",
              "    </tr>\n",
              "    <tr>\n",
              "      <th>124603</th>\n",
              "      <td>L49609</td>\n",
              "      <td>u3764</td>\n",
              "      <td>m248</td>\n",
              "      <td>NaN</td>\n",
              "      <td>23   CONTINUED:</td>\n",
              "    </tr>\n",
              "    <tr>\n",
              "      <th>124606</th>\n",
              "      <td>L49599</td>\n",
              "      <td>u3764</td>\n",
              "      <td>m248</td>\n",
              "      <td>NaN</td>\n",
              "      <td>23   CONTINUED:</td>\n",
              "    </tr>\n",
              "    <tr>\n",
              "      <th>124608</th>\n",
              "      <td>L49590</td>\n",
              "      <td>u3764</td>\n",
              "      <td>m248</td>\n",
              "      <td>NaN</td>\n",
              "      <td>20   CONTINUED:</td>\n",
              "    </tr>\n",
              "    <tr>\n",
              "      <th>124610</th>\n",
              "      <td>L50215</td>\n",
              "      <td>u3764</td>\n",
              "      <td>m248</td>\n",
              "      <td>NaN</td>\n",
              "      <td>212  CONTINUED:</td>\n",
              "    </tr>\n",
              "    <tr>\n",
              "      <th>124612</th>\n",
              "      <td>L50160</td>\n",
              "      <td>u3764</td>\n",
              "      <td>m248</td>\n",
              "      <td>NaN</td>\n",
              "      <td>184  CONTINUED:</td>\n",
              "    </tr>\n",
              "    <tr>\n",
              "      <th>124613</th>\n",
              "      <td>L50132</td>\n",
              "      <td>u3764</td>\n",
              "      <td>m248</td>\n",
              "      <td>NaN</td>\n",
              "      <td>168  CONTINUED:</td>\n",
              "    </tr>\n",
              "    <tr>\n",
              "      <th>124616</th>\n",
              "      <td>L50115</td>\n",
              "      <td>u3764</td>\n",
              "      <td>m248</td>\n",
              "      <td>NaN</td>\n",
              "      <td>165  CONTINUED:</td>\n",
              "    </tr>\n",
              "    <tr>\n",
              "      <th>124618</th>\n",
              "      <td>L50106</td>\n",
              "      <td>u3764</td>\n",
              "      <td>m248</td>\n",
              "      <td>NaN</td>\n",
              "      <td>165  CONTINUED:</td>\n",
              "    </tr>\n",
              "    <tr>\n",
              "      <th>124619</th>\n",
              "      <td>L50073</td>\n",
              "      <td>u3764</td>\n",
              "      <td>m248</td>\n",
              "      <td>NaN</td>\n",
              "      <td>157  CONTINUED:</td>\n",
              "    </tr>\n",
              "    <tr>\n",
              "      <th>124622</th>\n",
              "      <td>L49968</td>\n",
              "      <td>u3764</td>\n",
              "      <td>m248</td>\n",
              "      <td>NaN</td>\n",
              "      <td>119  CONTINUED:</td>\n",
              "    </tr>\n",
              "    <tr>\n",
              "      <th>124624</th>\n",
              "      <td>L49921</td>\n",
              "      <td>u3764</td>\n",
              "      <td>m248</td>\n",
              "      <td>NaN</td>\n",
              "      <td>113  CONTINUED:</td>\n",
              "    </tr>\n",
              "    <tr>\n",
              "      <th>124626</th>\n",
              "      <td>L49847</td>\n",
              "      <td>u3764</td>\n",
              "      <td>m248</td>\n",
              "      <td>NaN</td>\n",
              "      <td>95   CONTINUED:</td>\n",
              "    </tr>\n",
              "    <tr>\n",
              "      <th>124627</th>\n",
              "      <td>L49841</td>\n",
              "      <td>u3764</td>\n",
              "      <td>m248</td>\n",
              "      <td>NaN</td>\n",
              "      <td>94   CONTINUED:</td>\n",
              "    </tr>\n",
              "    <tr>\n",
              "      <th>124630</th>\n",
              "      <td>L49755</td>\n",
              "      <td>u3764</td>\n",
              "      <td>m248</td>\n",
              "      <td>NaN</td>\n",
              "      <td>48   CONTINUED:</td>\n",
              "    </tr>\n",
              "    <tr>\n",
              "      <th>124631</th>\n",
              "      <td>L49734</td>\n",
              "      <td>u3764</td>\n",
              "      <td>m248</td>\n",
              "      <td>NaN</td>\n",
              "      <td>43   CONTINUED:</td>\n",
              "    </tr>\n",
              "    <tr>\n",
              "      <th>124634</th>\n",
              "      <td>L49722</td>\n",
              "      <td>u3764</td>\n",
              "      <td>m248</td>\n",
              "      <td>NaN</td>\n",
              "      <td>39   CONTINUED:</td>\n",
              "    </tr>\n",
              "    <tr>\n",
              "      <th>124635</th>\n",
              "      <td>L49651</td>\n",
              "      <td>u3764</td>\n",
              "      <td>m248</td>\n",
              "      <td>NaN</td>\n",
              "      <td>28   CONTINUED:</td>\n",
              "    </tr>\n",
              "    <tr>\n",
              "      <th>124638</th>\n",
              "      <td>L49645</td>\n",
              "      <td>u3764</td>\n",
              "      <td>m248</td>\n",
              "      <td>NaN</td>\n",
              "      <td>27   CONTINUED:</td>\n",
              "    </tr>\n",
              "    <tr>\n",
              "      <th>124639</th>\n",
              "      <td>L49638</td>\n",
              "      <td>u3764</td>\n",
              "      <td>m248</td>\n",
              "      <td>NaN</td>\n",
              "      <td>26   CONTINUED:</td>\n",
              "    </tr>\n",
              "    <tr>\n",
              "      <th>124642</th>\n",
              "      <td>L49626</td>\n",
              "      <td>u3764</td>\n",
              "      <td>m248</td>\n",
              "      <td>NaN</td>\n",
              "      <td>26   CONTINUED:</td>\n",
              "    </tr>\n",
              "    <tr>\n",
              "      <th>212407</th>\n",
              "      <td>L377398</td>\n",
              "      <td>u6558</td>\n",
              "      <td>m436</td>\n",
              "      <td>NaN</td>\n",
              "      <td>MEMENTO Pink Revisions - 9/7/99 85.</td>\n",
              "    </tr>\n",
              "    <tr>\n",
              "      <th>212409</th>\n",
              "      <td>L377366</td>\n",
              "      <td>u6558</td>\n",
              "      <td>m436</td>\n",
              "      <td>NaN</td>\n",
              "      <td>79.</td>\n",
              "    </tr>\n",
              "    <tr>\n",
              "      <th>212411</th>\n",
              "      <td>L377351</td>\n",
              "      <td>u6558</td>\n",
              "      <td>m436</td>\n",
              "      <td>NaN</td>\n",
              "      <td>78.</td>\n",
              "    </tr>\n",
              "    <tr>\n",
              "      <th>212413</th>\n",
              "      <td>L377110</td>\n",
              "      <td>u6558</td>\n",
              "      <td>m436</td>\n",
              "      <td>NaN</td>\n",
              "      <td>39.</td>\n",
              "    </tr>\n",
              "    <tr>\n",
              "      <th>212415</th>\n",
              "      <td>L377101</td>\n",
              "      <td>u6558</td>\n",
              "      <td>m436</td>\n",
              "      <td>NaN</td>\n",
              "      <td>38.</td>\n",
              "    </tr>\n",
              "    <tr>\n",
              "      <th>212417</th>\n",
              "      <td>L376979</td>\n",
              "      <td>u6558</td>\n",
              "      <td>m436</td>\n",
              "      <td>NaN</td>\n",
              "      <td>21.</td>\n",
              "    </tr>\n",
              "    <tr>\n",
              "      <th>212419</th>\n",
              "      <td>L377284</td>\n",
              "      <td>u6558</td>\n",
              "      <td>m436</td>\n",
              "      <td>NaN</td>\n",
              "      <td>69.</td>\n",
              "    </tr>\n",
              "    <tr>\n",
              "      <th>212421</th>\n",
              "      <td>L377254</td>\n",
              "      <td>u6558</td>\n",
              "      <td>m436</td>\n",
              "      <td>NaN</td>\n",
              "      <td>66.</td>\n",
              "    </tr>\n",
              "    <tr>\n",
              "      <th>212423</th>\n",
              "      <td>L377155</td>\n",
              "      <td>u6558</td>\n",
              "      <td>m436</td>\n",
              "      <td>NaN</td>\n",
              "      <td>47.</td>\n",
              "    </tr>\n",
              "    <tr>\n",
              "      <th>212425</th>\n",
              "      <td>L377041</td>\n",
              "      <td>u6558</td>\n",
              "      <td>m436</td>\n",
              "      <td>NaN</td>\n",
              "      <td>30.</td>\n",
              "    </tr>\n",
              "    <tr>\n",
              "      <th>212426</th>\n",
              "      <td>L376872</td>\n",
              "      <td>u6558</td>\n",
              "      <td>m436</td>\n",
              "      <td>NaN</td>\n",
              "      <td>MEMENTO Pink Revisions - 9/7/99</td>\n",
              "    </tr>\n",
              "  </tbody>\n",
              "</table>\n",
              "</div>"
            ],
            "text/plain": [
              "         LineID CharacterID  ... CharacterName                               Speech\n",
              "124580   L50228       u3764  ...           NaN                      215  CONTINUED:\n",
              "124581   L50147       u3764  ...           NaN                      175  CONTINUED:\n",
              "124583   L50054       u3764  ...           NaN                      150  CONTINUED:\n",
              "124585   L50011       u3764  ...           NaN                      139  CONTINUED:\n",
              "124587   L50007       u3764  ...           NaN                    134  CONTINUED:  \n",
              "124590   L49991       u3764  ...           NaN                      134  CONTINUED:\n",
              "124592   L49950       u3764  ...           NaN                    117  CONTINUED:  \n",
              "124593   L49895       u3764  ...           NaN                      107  CONTINUED:\n",
              "124596   L49864       u3764  ...           NaN                      102  CONTINUED:\n",
              "124597   L49826       u3764  ...           NaN                      89   CONTINUED:\n",
              "124600   L49690       u3764  ...           NaN                      34   CONTINUED:\n",
              "124602   L49667       u3764  ...           NaN                      30   CONTINUED:\n",
              "124603   L49609       u3764  ...           NaN                    23   CONTINUED:  \n",
              "124606   L49599       u3764  ...           NaN                      23   CONTINUED:\n",
              "124608   L49590       u3764  ...           NaN                    20   CONTINUED:  \n",
              "124610   L50215       u3764  ...           NaN                      212  CONTINUED:\n",
              "124612   L50160       u3764  ...           NaN                      184  CONTINUED:\n",
              "124613   L50132       u3764  ...           NaN                      168  CONTINUED:\n",
              "124616   L50115       u3764  ...           NaN                    165  CONTINUED:  \n",
              "124618   L50106       u3764  ...           NaN                    165  CONTINUED:  \n",
              "124619   L50073       u3764  ...           NaN                      157  CONTINUED:\n",
              "124622   L49968       u3764  ...           NaN                    119  CONTINUED:  \n",
              "124624   L49921       u3764  ...           NaN                      113  CONTINUED:\n",
              "124626   L49847       u3764  ...           NaN                      95   CONTINUED:\n",
              "124627   L49841       u3764  ...           NaN                    94   CONTINUED:  \n",
              "124630   L49755       u3764  ...           NaN                      48   CONTINUED:\n",
              "124631   L49734       u3764  ...           NaN                      43   CONTINUED:\n",
              "124634   L49722       u3764  ...           NaN                      39   CONTINUED:\n",
              "124635   L49651       u3764  ...           NaN                      28   CONTINUED:\n",
              "124638   L49645       u3764  ...           NaN                      27   CONTINUED:\n",
              "124639   L49638       u3764  ...           NaN                    26   CONTINUED:  \n",
              "124642   L49626       u3764  ...           NaN                      26   CONTINUED:\n",
              "212407  L377398       u6558  ...           NaN  MEMENTO Pink Revisions - 9/7/99 85.\n",
              "212409  L377366       u6558  ...           NaN                                  79.\n",
              "212411  L377351       u6558  ...           NaN                                  78.\n",
              "212413  L377110       u6558  ...           NaN                                  39.\n",
              "212415  L377101       u6558  ...           NaN                                  38.\n",
              "212417  L376979       u6558  ...           NaN                                  21.\n",
              "212419  L377284       u6558  ...           NaN                                  69.\n",
              "212421  L377254       u6558  ...           NaN                                  66.\n",
              "212423  L377155       u6558  ...           NaN                                  47.\n",
              "212425  L377041       u6558  ...           NaN                                  30.\n",
              "212426  L376872       u6558  ...           NaN      MEMENTO Pink Revisions - 9/7/99\n",
              "\n",
              "[43 rows x 5 columns]"
            ]
          },
          "metadata": {
            "tags": []
          },
          "execution_count": 35
        }
      ]
    },
    {
      "cell_type": "code",
      "metadata": {
        "colab": {
          "base_uri": "https://localhost:8080/"
        },
        "id": "hq6gTcarW9VS",
        "outputId": "8b220cbc-a006-4e86-b93b-cdd3bc2a2ae1"
      },
      "source": [
        "# Drop all the row with CharacterName missing\n",
        "movie_lines_df.drop(labels = missing_rows_char_names.index, axis = 0, inplace = True)\n",
        "\n",
        "# Check for null values again\n",
        "print(movie_lines_df.isnull().sum())"
      ],
      "execution_count": null,
      "outputs": [
        {
          "output_type": "stream",
          "text": [
            "LineID           0\n",
            "CharacterID      0\n",
            "MovieID          0\n",
            "CharacterName    0\n",
            "Speech           0\n",
            "dtype: int64\n"
          ],
          "name": "stdout"
        }
      ]
    },
    {
      "cell_type": "markdown",
      "metadata": {
        "id": "xV1WDJ8V5l89"
      },
      "source": [
        "We have now checked for missing values in `movie_char_df` and `movie_lines_df` dataframes and treated them. Both the dataframes no longer have missing information."
      ]
    },
    {
      "cell_type": "code",
      "metadata": {
        "colab": {
          "base_uri": "https://localhost:8080/"
        },
        "id": "C_c7jlIU6EYn",
        "outputId": "f30a764c-e6c3-4fff-8243-8123d074a651"
      },
      "source": [
        "# Display the information of movie_lines_df\n",
        "movie_lines_df.info()"
      ],
      "execution_count": null,
      "outputs": [
        {
          "output_type": "stream",
          "text": [
            "<class 'pandas.core.frame.DataFrame'>\n",
            "Int64Index: 288620 entries, 0 to 293201\n",
            "Data columns (total 5 columns):\n",
            " #   Column         Non-Null Count   Dtype \n",
            "---  ------         --------------   ----- \n",
            " 0   LineID         288620 non-null  object\n",
            " 1   CharacterID    288620 non-null  object\n",
            " 2   MovieID        288620 non-null  object\n",
            " 3   CharacterName  288620 non-null  object\n",
            " 4   Speech         288620 non-null  object\n",
            "dtypes: object(5)\n",
            "memory usage: 13.2+ MB\n"
          ],
          "name": "stdout"
        }
      ]
    },
    {
      "cell_type": "markdown",
      "metadata": {
        "id": "YBxoV40i6PSw"
      },
      "source": [
        "`movie_lines_df` has 288620 rows and 5 columns"
      ]
    },
    {
      "cell_type": "code",
      "metadata": {
        "colab": {
          "base_uri": "https://localhost:8080/"
        },
        "id": "MkfhuodxYMA_",
        "outputId": "b4fd1c62-3c46-4ec5-f52f-4fb2a280c352"
      },
      "source": [
        "# Find unique number of character Ids in movie_lines_df dataframe\n",
        "len(movie_lines_df['CharacterID'].unique())"
      ],
      "execution_count": null,
      "outputs": [
        {
          "output_type": "execute_result",
          "data": {
            "text/plain": [
              "8754"
            ]
          },
          "metadata": {
            "tags": []
          },
          "execution_count": 38
        }
      ]
    },
    {
      "cell_type": "code",
      "metadata": {
        "colab": {
          "base_uri": "https://localhost:8080/"
        },
        "id": "bhOSZg0oXKq2",
        "outputId": "48139a65-0ca8-445f-9617-2ecd8ba8e444"
      },
      "source": [
        "for col in movie_lines_df.columns:\n",
        "  print(f\"Number of unique {col} = {len(movie_lines_df[col].unique())}\")"
      ],
      "execution_count": null,
      "outputs": [
        {
          "output_type": "stream",
          "text": [
            "Number of unique LineID = 288620\n",
            "Number of unique CharacterID = 8754\n",
            "Number of unique MovieID = 607\n",
            "Number of unique CharacterName = 5213\n",
            "Number of unique Speech = 251264\n"
          ],
          "name": "stdout"
        }
      ]
    },
    {
      "cell_type": "markdown",
      "metadata": {
        "id": "JOEsqHCJXpC-"
      },
      "source": [
        "`'LineID'` are unique in `'movie_lines_df'` dataframe "
      ]
    },
    {
      "cell_type": "markdown",
      "metadata": {
        "id": "MLw1VbrrX4kd"
      },
      "source": [
        "##Activity 4: Merge the Dataframes - pd.merge() function"
      ]
    },
    {
      "cell_type": "markdown",
      "metadata": {
        "id": "_jNAW38q7Wth"
      },
      "source": [
        "The gender of each character is available in `movie_char_df` dataframe and the movie dialogues of the characters are present in `movie_lines_df` dataframe. This calls for merging the two dataframes in order to map the dialogues to corresponding gender, where both of these features will be used for building a classification model.    "
      ]
    },
    {
      "cell_type": "code",
      "metadata": {
        "colab": {
          "base_uri": "https://localhost:8080/"
        },
        "id": "DEPtxbzXaddl",
        "outputId": "ff211e8d-286a-4445-d4d6-06ab51a8cde1"
      },
      "source": [
        "# Print the column names of movie_char_df and movie_lines_df dataframes\n",
        "print(movie_char_df.columns)\n",
        "print(movie_lines_df.columns)"
      ],
      "execution_count": null,
      "outputs": [
        {
          "output_type": "stream",
          "text": [
            "Index(['CharacterID', 'CharacterName', 'MovieID', 'MovieTitle', 'Gender',\n",
            "       'PositionInCredits'],\n",
            "      dtype='object')\n",
            "Index(['LineID', 'CharacterID', 'MovieID', 'CharacterName', 'Speech'], dtype='object')\n"
          ],
          "name": "stdout"
        }
      ]
    },
    {
      "cell_type": "markdown",
      "metadata": {
        "id": "Luau2zdf8d4Q"
      },
      "source": [
        "**Syntax:** `pandas.merge(left, right, how, on)`\n",
        "\n",
        "1. left: First dataframe\n",
        "2. right: Second dataframe to be merged with first/left dataframe\n",
        "3. how: Refers to type of merge to be performed. There are 4 options {'left', 'right', 'outer', 'inner', 'cross'}, default is 'inner'\n",
        "  *   left: use only keys from left dataframe\n",
        "  *   right: use only keys from right dataframe\n",
        "  *   outer: use union of keys from both dataframes\n",
        "  *   inner: use intersection of keys from both dataframes\n",
        "4. on: list of columns or indexes names to join on. These keys must be found in both DataFrames. If on is None and not merging on indexes then this defaults to the intersection of the columns in both DataFrames.\n",
        "\n",
        "The `CharacterID` is common to both the dataframes. Let's do an inner merge on this key."
      ]
    },
    {
      "cell_type": "code",
      "metadata": {
        "colab": {
          "base_uri": "https://localhost:8080/",
          "height": 595
        },
        "id": "ybP6jdfCioTS",
        "outputId": "bdfb1834-74a9-44c9-ad85-f860df58cb20"
      },
      "source": [
        "# Merge the two datframes movie_char_df, movie_lines_df using inner merge technique \n",
        "merge_df = pd.merge(movie_char_df, movie_lines_df, how ='inner')\n",
        "\n",
        "# Display the merged dataframe\n",
        "merge_df"
      ],
      "execution_count": null,
      "outputs": [
        {
          "output_type": "execute_result",
          "data": {
            "text/html": [
              "<div>\n",
              "<style scoped>\n",
              "    .dataframe tbody tr th:only-of-type {\n",
              "        vertical-align: middle;\n",
              "    }\n",
              "\n",
              "    .dataframe tbody tr th {\n",
              "        vertical-align: top;\n",
              "    }\n",
              "\n",
              "    .dataframe thead th {\n",
              "        text-align: right;\n",
              "    }\n",
              "</style>\n",
              "<table border=\"1\" class=\"dataframe\">\n",
              "  <thead>\n",
              "    <tr style=\"text-align: right;\">\n",
              "      <th></th>\n",
              "      <th>CharacterID</th>\n",
              "      <th>CharacterName</th>\n",
              "      <th>MovieID</th>\n",
              "      <th>MovieTitle</th>\n",
              "      <th>Gender</th>\n",
              "      <th>PositionInCredits</th>\n",
              "      <th>LineID</th>\n",
              "      <th>Speech</th>\n",
              "    </tr>\n",
              "  </thead>\n",
              "  <tbody>\n",
              "    <tr>\n",
              "      <th>0</th>\n",
              "      <td>u0</td>\n",
              "      <td>BIANCA</td>\n",
              "      <td>m0</td>\n",
              "      <td>10 things i hate about you</td>\n",
              "      <td>0</td>\n",
              "      <td>4</td>\n",
              "      <td>L1045</td>\n",
              "      <td>They do not!</td>\n",
              "    </tr>\n",
              "    <tr>\n",
              "      <th>1</th>\n",
              "      <td>u0</td>\n",
              "      <td>BIANCA</td>\n",
              "      <td>m0</td>\n",
              "      <td>10 things i hate about you</td>\n",
              "      <td>0</td>\n",
              "      <td>4</td>\n",
              "      <td>L985</td>\n",
              "      <td>I hope so.</td>\n",
              "    </tr>\n",
              "    <tr>\n",
              "      <th>2</th>\n",
              "      <td>u0</td>\n",
              "      <td>BIANCA</td>\n",
              "      <td>m0</td>\n",
              "      <td>10 things i hate about you</td>\n",
              "      <td>0</td>\n",
              "      <td>4</td>\n",
              "      <td>L925</td>\n",
              "      <td>Let's go.</td>\n",
              "    </tr>\n",
              "    <tr>\n",
              "      <th>3</th>\n",
              "      <td>u0</td>\n",
              "      <td>BIANCA</td>\n",
              "      <td>m0</td>\n",
              "      <td>10 things i hate about you</td>\n",
              "      <td>0</td>\n",
              "      <td>4</td>\n",
              "      <td>L872</td>\n",
              "      <td>Okay -- you're gonna need to learn how to lie.</td>\n",
              "    </tr>\n",
              "    <tr>\n",
              "      <th>4</th>\n",
              "      <td>u0</td>\n",
              "      <td>BIANCA</td>\n",
              "      <td>m0</td>\n",
              "      <td>10 things i hate about you</td>\n",
              "      <td>0</td>\n",
              "      <td>4</td>\n",
              "      <td>L869</td>\n",
              "      <td>Like my fear of wearing pastels?</td>\n",
              "    </tr>\n",
              "    <tr>\n",
              "      <th>...</th>\n",
              "      <td>...</td>\n",
              "      <td>...</td>\n",
              "      <td>...</td>\n",
              "      <td>...</td>\n",
              "      <td>...</td>\n",
              "      <td>...</td>\n",
              "      <td>...</td>\n",
              "      <td>...</td>\n",
              "    </tr>\n",
              "    <tr>\n",
              "      <th>229101</th>\n",
              "      <td>u9022</td>\n",
              "      <td>MEDICAL STUDENT</td>\n",
              "      <td>m615</td>\n",
              "      <td>young frankenstein</td>\n",
              "      <td>1</td>\n",
              "      <td>9</td>\n",
              "      <td>L665426</td>\n",
              "      <td>Dr. Fronkonsteen!</td>\n",
              "    </tr>\n",
              "    <tr>\n",
              "      <th>229102</th>\n",
              "      <td>u9022</td>\n",
              "      <td>MEDICAL STUDENT</td>\n",
              "      <td>m615</td>\n",
              "      <td>young frankenstein</td>\n",
              "      <td>1</td>\n",
              "      <td>9</td>\n",
              "      <td>L665393</td>\n",
              "      <td>Well sir... I'm not sure I understand the dist...</td>\n",
              "    </tr>\n",
              "    <tr>\n",
              "      <th>229103</th>\n",
              "      <td>u9022</td>\n",
              "      <td>MEDICAL STUDENT</td>\n",
              "      <td>m615</td>\n",
              "      <td>young frankenstein</td>\n",
              "      <td>1</td>\n",
              "      <td>9</td>\n",
              "      <td>L665390</td>\n",
              "      <td>But aren't you the grandson of the famous Dr. ...</td>\n",
              "    </tr>\n",
              "    <tr>\n",
              "      <th>229104</th>\n",
              "      <td>u9022</td>\n",
              "      <td>MEDICAL STUDENT</td>\n",
              "      <td>m615</td>\n",
              "      <td>young frankenstein</td>\n",
              "      <td>1</td>\n",
              "      <td>9</td>\n",
              "      <td>L665388</td>\n",
              "      <td>Oh!  I thought it was Dr. Frankenstein.</td>\n",
              "    </tr>\n",
              "    <tr>\n",
              "      <th>229105</th>\n",
              "      <td>u9022</td>\n",
              "      <td>MEDICAL STUDENT</td>\n",
              "      <td>m615</td>\n",
              "      <td>young frankenstein</td>\n",
              "      <td>1</td>\n",
              "      <td>9</td>\n",
              "      <td>L665386</td>\n",
              "      <td>I beg your pardon?</td>\n",
              "    </tr>\n",
              "  </tbody>\n",
              "</table>\n",
              "<p>229106 rows × 8 columns</p>\n",
              "</div>"
            ],
            "text/plain": [
              "       CharacterID  ...                                             Speech\n",
              "0               u0  ...                                       They do not!\n",
              "1               u0  ...                                         I hope so.\n",
              "2               u0  ...                                          Let's go.\n",
              "3               u0  ...     Okay -- you're gonna need to learn how to lie.\n",
              "4               u0  ...                   Like my fear of wearing pastels?\n",
              "...            ...  ...                                                ...\n",
              "229101       u9022  ...                                  Dr. Fronkonsteen!\n",
              "229102       u9022  ...  Well sir... I'm not sure I understand the dist...\n",
              "229103       u9022  ...  But aren't you the grandson of the famous Dr. ...\n",
              "229104       u9022  ...            Oh!  I thought it was Dr. Frankenstein.\n",
              "229105       u9022  ...                                 I beg your pardon?\n",
              "\n",
              "[229106 rows x 8 columns]"
            ]
          },
          "metadata": {
            "tags": []
          },
          "execution_count": 41
        }
      ]
    },
    {
      "cell_type": "markdown",
      "metadata": {
        "id": "BdugqAJJ-3l2"
      },
      "source": [
        "Merged dataframe now has 229,106 rows and 8 columns"
      ]
    },
    {
      "cell_type": "code",
      "metadata": {
        "colab": {
          "base_uri": "https://localhost:8080/"
        },
        "id": "YPBaO4ZaqWaO",
        "outputId": "a84da7be-5a39-4518-fcb8-b5651313be55"
      },
      "source": [
        "# Check for null values after merge\n",
        "merge_df.isnull().sum()"
      ],
      "execution_count": null,
      "outputs": [
        {
          "output_type": "execute_result",
          "data": {
            "text/plain": [
              "CharacterID          0\n",
              "CharacterName        0\n",
              "MovieID              0\n",
              "MovieTitle           0\n",
              "Gender               0\n",
              "PositionInCredits    0\n",
              "LineID               0\n",
              "Speech               0\n",
              "dtype: int64"
            ]
          },
          "metadata": {
            "tags": []
          },
          "execution_count": 42
        }
      ]
    },
    {
      "cell_type": "code",
      "metadata": {
        "colab": {
          "base_uri": "https://localhost:8080/"
        },
        "id": "vapNH-WEqdZG",
        "outputId": "3c9b082b-3c52-4693-c66e-ef8ae65503c2"
      },
      "source": [
        "# Display the information\n",
        "merge_df.info()"
      ],
      "execution_count": null,
      "outputs": [
        {
          "output_type": "stream",
          "text": [
            "<class 'pandas.core.frame.DataFrame'>\n",
            "Int64Index: 229106 entries, 0 to 229105\n",
            "Data columns (total 8 columns):\n",
            " #   Column             Non-Null Count   Dtype \n",
            "---  ------             --------------   ----- \n",
            " 0   CharacterID        229106 non-null  object\n",
            " 1   CharacterName      229106 non-null  object\n",
            " 2   MovieID            229106 non-null  object\n",
            " 3   MovieTitle         229106 non-null  object\n",
            " 4   Gender             229106 non-null  int64 \n",
            " 5   PositionInCredits  229106 non-null  object\n",
            " 6   LineID             229106 non-null  object\n",
            " 7   Speech             229106 non-null  object\n",
            "dtypes: int64(1), object(7)\n",
            "memory usage: 15.7+ MB\n"
          ],
          "name": "stdout"
        }
      ]
    },
    {
      "cell_type": "markdown",
      "metadata": {
        "id": "ftefwVz4_SVB"
      },
      "source": [
        "Now that we have merged data with gender and dialogues in frame, we can prepare the data for deploying the model."
      ]
    },
    {
      "cell_type": "markdown",
      "metadata": {
        "id": "n4YhiPHBqm-j"
      },
      "source": [
        "##Activity 5: Preparing the dataset"
      ]
    },
    {
      "cell_type": "markdown",
      "metadata": {
        "id": "EqMqKlDjq5ZP"
      },
      "source": [
        "The goal is to build a classification model to classify the gender of a Hollywood movie character based on their dialogues in the movie. Accordingly let's prepare the features and target variables.\n",
        "\n",
        "First process the Speech column in `merge_df` dataframe. Processing includes cleaning the dialogues to remove any unwanted strings which are usually not a part of dialogue and do not add value to speech."
      ]
    },
    {
      "cell_type": "code",
      "metadata": {
        "colab": {
          "base_uri": "https://localhost:8080/"
        },
        "id": "K2Zb-Rc-spc2",
        "outputId": "1a239ff9-2fc1-4e3c-9290-f186eb995c2b"
      },
      "source": [
        "# Display top 10 values in Speech feature\n",
        "merge_df['Speech'][:10]"
      ],
      "execution_count": null,
      "outputs": [
        {
          "output_type": "execute_result",
          "data": {
            "text/plain": [
              "0                                         They do not!\n",
              "1                                           I hope so.\n",
              "2                                            Let's go.\n",
              "3       Okay -- you're gonna need to learn how to lie.\n",
              "4                     Like my fear of wearing pastels?\n",
              "5                                     What good stuff?\n",
              "6    Me.  This endless ...blonde babble. I'm like b...\n",
              "7                          do you listen to this crap?\n",
              "8                                                  But\n",
              "9                                           Well no...\n",
              "Name: Speech, dtype: object"
            ]
          },
          "metadata": {
            "tags": []
          },
          "execution_count": 44
        }
      ]
    },
    {
      "cell_type": "markdown",
      "metadata": {
        "id": "ZRQGRhBnAYVs"
      },
      "source": [
        "It can be seen, there is no uniformity in alphabet case, i.e. some letters are uppercase and some are lowercase. The dialogues have punctuations which need to be removed.\n"
      ]
    },
    {
      "cell_type": "code",
      "metadata": {
        "id": "I648AVkdyT6E"
      },
      "source": [
        "# Function to remove punctuations, covert the dialogue to lowercase and strip unncessary charcaters if any.\n",
        "def clean_dialogue(speech):\n",
        "  to_remove = string.punctuation\n",
        "  speech = speech.lower().strip('!.-? ') \n",
        "  for ch in speech:\n",
        "    if ch in to_remove:\n",
        "      speech = speech.replace(ch,'')\n",
        "  speech_split_list = speech.split()\n",
        "  return ' '.join(speech_split_list)"
      ],
      "execution_count": null,
      "outputs": []
    },
    {
      "cell_type": "markdown",
      "metadata": {
        "id": "TKd8nP3xBgeV"
      },
      "source": [
        "The above cell has a function to clean the dialogues one at a time.\n",
        "1.  Import `string` module. \n",
        "2.  Extract all the special characters using `string.punctuation` which returns `!\"#$%&\\'()*+,-./:;<=>?@[\\\\]^_`{|}~` characters.\n",
        "3.  Convert each dialogue to lowercase letters.\n",
        "4.  Strip the possible unwanted characters that are present as prefix and/or suffix to each dialogue.\n",
        "5.  Iterate through each character in dialogue string, if any character is present in `string.punctuation` then replace it.\n",
        "6.  Next split the dialogues at `' '` (space) using `split()` function\n",
        "7.  Join the words in split list to get back the dialogue text using `join()` function\n",
        "8.  Return the cleaned texts."
      ]
    },
    {
      "cell_type": "markdown",
      "metadata": {
        "id": "YEVQoTgSD-5N"
      },
      "source": [
        "Call the function `clean_dialogue()` on `Speech` feature in merge_df."
      ]
    },
    {
      "cell_type": "code",
      "metadata": {
        "colab": {
          "base_uri": "https://localhost:8080/",
          "height": 595
        },
        "id": "hoGnk8DYsSHz",
        "outputId": "f33f8568-9390-4d5a-e347-adc573fff943"
      },
      "source": [
        "# Call the function clean_dialogue\n",
        "clean_str = []\n",
        "for line in merge_df['Speech']:\n",
        "  clean_str.append(clean_dialogue(line))\n",
        "\n",
        "# Insert cleaned string into merge_df dataframe\n",
        "merge_df['RawSpeech'] = clean_str\n",
        "\n",
        "# Drop the Speech column\n",
        "merge_df.drop(labels = 'Speech', axis = 1, inplace = True)\n",
        "merge_df"
      ],
      "execution_count": null,
      "outputs": [
        {
          "output_type": "execute_result",
          "data": {
            "text/html": [
              "<div>\n",
              "<style scoped>\n",
              "    .dataframe tbody tr th:only-of-type {\n",
              "        vertical-align: middle;\n",
              "    }\n",
              "\n",
              "    .dataframe tbody tr th {\n",
              "        vertical-align: top;\n",
              "    }\n",
              "\n",
              "    .dataframe thead th {\n",
              "        text-align: right;\n",
              "    }\n",
              "</style>\n",
              "<table border=\"1\" class=\"dataframe\">\n",
              "  <thead>\n",
              "    <tr style=\"text-align: right;\">\n",
              "      <th></th>\n",
              "      <th>CharacterID</th>\n",
              "      <th>CharacterName</th>\n",
              "      <th>MovieID</th>\n",
              "      <th>MovieTitle</th>\n",
              "      <th>Gender</th>\n",
              "      <th>PositionInCredits</th>\n",
              "      <th>LineID</th>\n",
              "      <th>RawSpeech</th>\n",
              "    </tr>\n",
              "  </thead>\n",
              "  <tbody>\n",
              "    <tr>\n",
              "      <th>0</th>\n",
              "      <td>u0</td>\n",
              "      <td>BIANCA</td>\n",
              "      <td>m0</td>\n",
              "      <td>10 things i hate about you</td>\n",
              "      <td>0</td>\n",
              "      <td>4</td>\n",
              "      <td>L1045</td>\n",
              "      <td>they do not</td>\n",
              "    </tr>\n",
              "    <tr>\n",
              "      <th>1</th>\n",
              "      <td>u0</td>\n",
              "      <td>BIANCA</td>\n",
              "      <td>m0</td>\n",
              "      <td>10 things i hate about you</td>\n",
              "      <td>0</td>\n",
              "      <td>4</td>\n",
              "      <td>L985</td>\n",
              "      <td>i hope so</td>\n",
              "    </tr>\n",
              "    <tr>\n",
              "      <th>2</th>\n",
              "      <td>u0</td>\n",
              "      <td>BIANCA</td>\n",
              "      <td>m0</td>\n",
              "      <td>10 things i hate about you</td>\n",
              "      <td>0</td>\n",
              "      <td>4</td>\n",
              "      <td>L925</td>\n",
              "      <td>lets go</td>\n",
              "    </tr>\n",
              "    <tr>\n",
              "      <th>3</th>\n",
              "      <td>u0</td>\n",
              "      <td>BIANCA</td>\n",
              "      <td>m0</td>\n",
              "      <td>10 things i hate about you</td>\n",
              "      <td>0</td>\n",
              "      <td>4</td>\n",
              "      <td>L872</td>\n",
              "      <td>okay youre gonna need to learn how to lie</td>\n",
              "    </tr>\n",
              "    <tr>\n",
              "      <th>4</th>\n",
              "      <td>u0</td>\n",
              "      <td>BIANCA</td>\n",
              "      <td>m0</td>\n",
              "      <td>10 things i hate about you</td>\n",
              "      <td>0</td>\n",
              "      <td>4</td>\n",
              "      <td>L869</td>\n",
              "      <td>like my fear of wearing pastels</td>\n",
              "    </tr>\n",
              "    <tr>\n",
              "      <th>...</th>\n",
              "      <td>...</td>\n",
              "      <td>...</td>\n",
              "      <td>...</td>\n",
              "      <td>...</td>\n",
              "      <td>...</td>\n",
              "      <td>...</td>\n",
              "      <td>...</td>\n",
              "      <td>...</td>\n",
              "    </tr>\n",
              "    <tr>\n",
              "      <th>229101</th>\n",
              "      <td>u9022</td>\n",
              "      <td>MEDICAL STUDENT</td>\n",
              "      <td>m615</td>\n",
              "      <td>young frankenstein</td>\n",
              "      <td>1</td>\n",
              "      <td>9</td>\n",
              "      <td>L665426</td>\n",
              "      <td>dr fronkonsteen</td>\n",
              "    </tr>\n",
              "    <tr>\n",
              "      <th>229102</th>\n",
              "      <td>u9022</td>\n",
              "      <td>MEDICAL STUDENT</td>\n",
              "      <td>m615</td>\n",
              "      <td>young frankenstein</td>\n",
              "      <td>1</td>\n",
              "      <td>9</td>\n",
              "      <td>L665393</td>\n",
              "      <td>well sir im not sure i understand the distinct...</td>\n",
              "    </tr>\n",
              "    <tr>\n",
              "      <th>229103</th>\n",
              "      <td>u9022</td>\n",
              "      <td>MEDICAL STUDENT</td>\n",
              "      <td>m615</td>\n",
              "      <td>young frankenstein</td>\n",
              "      <td>1</td>\n",
              "      <td>9</td>\n",
              "      <td>L665390</td>\n",
              "      <td>but arent you the grandson of the famous dr vi...</td>\n",
              "    </tr>\n",
              "    <tr>\n",
              "      <th>229104</th>\n",
              "      <td>u9022</td>\n",
              "      <td>MEDICAL STUDENT</td>\n",
              "      <td>m615</td>\n",
              "      <td>young frankenstein</td>\n",
              "      <td>1</td>\n",
              "      <td>9</td>\n",
              "      <td>L665388</td>\n",
              "      <td>oh i thought it was dr frankenstein</td>\n",
              "    </tr>\n",
              "    <tr>\n",
              "      <th>229105</th>\n",
              "      <td>u9022</td>\n",
              "      <td>MEDICAL STUDENT</td>\n",
              "      <td>m615</td>\n",
              "      <td>young frankenstein</td>\n",
              "      <td>1</td>\n",
              "      <td>9</td>\n",
              "      <td>L665386</td>\n",
              "      <td>i beg your pardon</td>\n",
              "    </tr>\n",
              "  </tbody>\n",
              "</table>\n",
              "<p>229106 rows × 8 columns</p>\n",
              "</div>"
            ],
            "text/plain": [
              "       CharacterID  ...                                          RawSpeech\n",
              "0               u0  ...                                        they do not\n",
              "1               u0  ...                                          i hope so\n",
              "2               u0  ...                                            lets go\n",
              "3               u0  ...          okay youre gonna need to learn how to lie\n",
              "4               u0  ...                    like my fear of wearing pastels\n",
              "...            ...  ...                                                ...\n",
              "229101       u9022  ...                                    dr fronkonsteen\n",
              "229102       u9022  ...  well sir im not sure i understand the distinct...\n",
              "229103       u9022  ...  but arent you the grandson of the famous dr vi...\n",
              "229104       u9022  ...                oh i thought it was dr frankenstein\n",
              "229105       u9022  ...                                  i beg your pardon\n",
              "\n",
              "[229106 rows x 8 columns]"
            ]
          },
          "metadata": {
            "tags": []
          },
          "execution_count": 46
        }
      ]
    },
    {
      "cell_type": "markdown",
      "metadata": {
        "id": "uzAHzLkcEekf"
      },
      "source": [
        "Once the cleaned speech is added to the `merge_df`, the original `Speech` column can be dropped as mentioned above."
      ]
    },
    {
      "cell_type": "code",
      "metadata": {
        "id": "Y90hFUWd49Ud"
      },
      "source": [
        "# Function to find length of the dialogue and number of words in each dialogue.\n",
        "def length_word_count(dialogue_text):\n",
        "  length = len(dialogue_text)\n",
        "  word_count = len(dialogue_text.split()) \n",
        "  return length, word_count"
      ],
      "execution_count": null,
      "outputs": []
    },
    {
      "cell_type": "markdown",
      "metadata": {
        "id": "uVf51NljE-Pb"
      },
      "source": [
        "In reality, the length of a dialogue is a viable feature for character gender determination. Owing to this idea, a function `clean_dialogue()` is defined above that returns,\n",
        "1. Length of the characters in a given dialogue and\n",
        "2. Number of words in each dialogue.\n",
        "\n",
        "The result of the function are added against each sample in `merge_df` dataframe as two new columns `DialogueLength` and `WordCount` as shown below."
      ]
    },
    {
      "cell_type": "code",
      "metadata": {
        "id": "iKMVHM7XqzVM",
        "colab": {
          "base_uri": "https://localhost:8080/",
          "height": 612
        },
        "outputId": "8e4221ce-88cd-4f54-a3bd-7d1a2ec9dae7"
      },
      "source": [
        "# Find the length of the conversations and the number of word in each conversation and add the column to merge_df.\n",
        "merge_df['DialogueLength'] = [length_word_count(line)[0] for line in merge_df['RawSpeech']]\n",
        "merge_df['WordCount'] = [length_word_count(line)[1] for line in merge_df['RawSpeech']]\n",
        "merge_df"
      ],
      "execution_count": null,
      "outputs": [
        {
          "output_type": "execute_result",
          "data": {
            "text/html": [
              "<div>\n",
              "<style scoped>\n",
              "    .dataframe tbody tr th:only-of-type {\n",
              "        vertical-align: middle;\n",
              "    }\n",
              "\n",
              "    .dataframe tbody tr th {\n",
              "        vertical-align: top;\n",
              "    }\n",
              "\n",
              "    .dataframe thead th {\n",
              "        text-align: right;\n",
              "    }\n",
              "</style>\n",
              "<table border=\"1\" class=\"dataframe\">\n",
              "  <thead>\n",
              "    <tr style=\"text-align: right;\">\n",
              "      <th></th>\n",
              "      <th>CharacterID</th>\n",
              "      <th>CharacterName</th>\n",
              "      <th>MovieID</th>\n",
              "      <th>MovieTitle</th>\n",
              "      <th>Gender</th>\n",
              "      <th>PositionInCredits</th>\n",
              "      <th>LineID</th>\n",
              "      <th>RawSpeech</th>\n",
              "      <th>DialogueLength</th>\n",
              "      <th>WordCount</th>\n",
              "    </tr>\n",
              "  </thead>\n",
              "  <tbody>\n",
              "    <tr>\n",
              "      <th>0</th>\n",
              "      <td>u0</td>\n",
              "      <td>BIANCA</td>\n",
              "      <td>m0</td>\n",
              "      <td>10 things i hate about you</td>\n",
              "      <td>0</td>\n",
              "      <td>4</td>\n",
              "      <td>L1045</td>\n",
              "      <td>they do not</td>\n",
              "      <td>11</td>\n",
              "      <td>3</td>\n",
              "    </tr>\n",
              "    <tr>\n",
              "      <th>1</th>\n",
              "      <td>u0</td>\n",
              "      <td>BIANCA</td>\n",
              "      <td>m0</td>\n",
              "      <td>10 things i hate about you</td>\n",
              "      <td>0</td>\n",
              "      <td>4</td>\n",
              "      <td>L985</td>\n",
              "      <td>i hope so</td>\n",
              "      <td>9</td>\n",
              "      <td>3</td>\n",
              "    </tr>\n",
              "    <tr>\n",
              "      <th>2</th>\n",
              "      <td>u0</td>\n",
              "      <td>BIANCA</td>\n",
              "      <td>m0</td>\n",
              "      <td>10 things i hate about you</td>\n",
              "      <td>0</td>\n",
              "      <td>4</td>\n",
              "      <td>L925</td>\n",
              "      <td>lets go</td>\n",
              "      <td>7</td>\n",
              "      <td>2</td>\n",
              "    </tr>\n",
              "    <tr>\n",
              "      <th>3</th>\n",
              "      <td>u0</td>\n",
              "      <td>BIANCA</td>\n",
              "      <td>m0</td>\n",
              "      <td>10 things i hate about you</td>\n",
              "      <td>0</td>\n",
              "      <td>4</td>\n",
              "      <td>L872</td>\n",
              "      <td>okay youre gonna need to learn how to lie</td>\n",
              "      <td>41</td>\n",
              "      <td>9</td>\n",
              "    </tr>\n",
              "    <tr>\n",
              "      <th>4</th>\n",
              "      <td>u0</td>\n",
              "      <td>BIANCA</td>\n",
              "      <td>m0</td>\n",
              "      <td>10 things i hate about you</td>\n",
              "      <td>0</td>\n",
              "      <td>4</td>\n",
              "      <td>L869</td>\n",
              "      <td>like my fear of wearing pastels</td>\n",
              "      <td>31</td>\n",
              "      <td>6</td>\n",
              "    </tr>\n",
              "    <tr>\n",
              "      <th>...</th>\n",
              "      <td>...</td>\n",
              "      <td>...</td>\n",
              "      <td>...</td>\n",
              "      <td>...</td>\n",
              "      <td>...</td>\n",
              "      <td>...</td>\n",
              "      <td>...</td>\n",
              "      <td>...</td>\n",
              "      <td>...</td>\n",
              "      <td>...</td>\n",
              "    </tr>\n",
              "    <tr>\n",
              "      <th>229101</th>\n",
              "      <td>u9022</td>\n",
              "      <td>MEDICAL STUDENT</td>\n",
              "      <td>m615</td>\n",
              "      <td>young frankenstein</td>\n",
              "      <td>1</td>\n",
              "      <td>9</td>\n",
              "      <td>L665426</td>\n",
              "      <td>dr fronkonsteen</td>\n",
              "      <td>15</td>\n",
              "      <td>2</td>\n",
              "    </tr>\n",
              "    <tr>\n",
              "      <th>229102</th>\n",
              "      <td>u9022</td>\n",
              "      <td>MEDICAL STUDENT</td>\n",
              "      <td>m615</td>\n",
              "      <td>young frankenstein</td>\n",
              "      <td>1</td>\n",
              "      <td>9</td>\n",
              "      <td>L665393</td>\n",
              "      <td>well sir im not sure i understand the distinct...</td>\n",
              "      <td>96</td>\n",
              "      <td>15</td>\n",
              "    </tr>\n",
              "    <tr>\n",
              "      <th>229103</th>\n",
              "      <td>u9022</td>\n",
              "      <td>MEDICAL STUDENT</td>\n",
              "      <td>m615</td>\n",
              "      <td>young frankenstein</td>\n",
              "      <td>1</td>\n",
              "      <td>9</td>\n",
              "      <td>L665390</td>\n",
              "      <td>but arent you the grandson of the famous dr vi...</td>\n",
              "      <td>135</td>\n",
              "      <td>20</td>\n",
              "    </tr>\n",
              "    <tr>\n",
              "      <th>229104</th>\n",
              "      <td>u9022</td>\n",
              "      <td>MEDICAL STUDENT</td>\n",
              "      <td>m615</td>\n",
              "      <td>young frankenstein</td>\n",
              "      <td>1</td>\n",
              "      <td>9</td>\n",
              "      <td>L665388</td>\n",
              "      <td>oh i thought it was dr frankenstein</td>\n",
              "      <td>35</td>\n",
              "      <td>7</td>\n",
              "    </tr>\n",
              "    <tr>\n",
              "      <th>229105</th>\n",
              "      <td>u9022</td>\n",
              "      <td>MEDICAL STUDENT</td>\n",
              "      <td>m615</td>\n",
              "      <td>young frankenstein</td>\n",
              "      <td>1</td>\n",
              "      <td>9</td>\n",
              "      <td>L665386</td>\n",
              "      <td>i beg your pardon</td>\n",
              "      <td>17</td>\n",
              "      <td>4</td>\n",
              "    </tr>\n",
              "  </tbody>\n",
              "</table>\n",
              "<p>229106 rows × 10 columns</p>\n",
              "</div>"
            ],
            "text/plain": [
              "       CharacterID    CharacterName  ... DialogueLength WordCount\n",
              "0               u0           BIANCA  ...             11         3\n",
              "1               u0           BIANCA  ...              9         3\n",
              "2               u0           BIANCA  ...              7         2\n",
              "3               u0           BIANCA  ...             41         9\n",
              "4               u0           BIANCA  ...             31         6\n",
              "...            ...              ...  ...            ...       ...\n",
              "229101       u9022  MEDICAL STUDENT  ...             15         2\n",
              "229102       u9022  MEDICAL STUDENT  ...             96        15\n",
              "229103       u9022  MEDICAL STUDENT  ...            135        20\n",
              "229104       u9022  MEDICAL STUDENT  ...             35         7\n",
              "229105       u9022  MEDICAL STUDENT  ...             17         4\n",
              "\n",
              "[229106 rows x 10 columns]"
            ]
          },
          "metadata": {
            "tags": []
          },
          "execution_count": 48
        }
      ]
    },
    {
      "cell_type": "code",
      "metadata": {
        "colab": {
          "base_uri": "https://localhost:8080/"
        },
        "id": "9MHahwv_ToOM",
        "outputId": "f9e94b08-3551-4a1f-8bac-9b110d752dd1"
      },
      "source": [
        "# Find the unique values in PositionInCredits column\n",
        "print(merge_df['PositionInCredits'].unique())\n",
        "\n",
        "# Slice merge_df to find the number of rows where PositionInCredits has '?' undefined value\n",
        "merge_df[merge_df['PositionInCredits'] == '?'].shape"
      ],
      "execution_count": null,
      "outputs": [
        {
          "output_type": "stream",
          "text": [
            "['4' '3' '6' '2' '7' '5' '1' '9' '?' '8' '11' '21' '13' '22' '16' '1000'\n",
            " '12' '10' '14' '39' '24' '15' '17' '19' '18' '28' '38' '31' '25' '45'\n",
            " '29' '42' '63' '59' '33' '43' '36' '27' '26' '20' '44' '49' '34' '23'\n",
            " '32' '37' '30' '50' '82' '51' '46' '62' '47' '35' '41' '71' '70']\n"
          ],
          "name": "stdout"
        },
        {
          "output_type": "execute_result",
          "data": {
            "text/plain": [
              "(24271, 10)"
            ]
          },
          "metadata": {
            "tags": []
          },
          "execution_count": 49
        }
      ]
    },
    {
      "cell_type": "markdown",
      "metadata": {
        "id": "1SP1dmQ3Gbbs"
      },
      "source": [
        "This resulted in fairly large number of rows i.e. 24271."
      ]
    },
    {
      "cell_type": "markdown",
      "metadata": {
        "id": "Izc9nFgtGvi0"
      },
      "source": [
        "##Activity 6: Finding text features\n",
        "When we handle the text data, there always are concerns about the data features, pre-processing of text samples and deriving new features out of existing ones. To improve our model, it is important to understand the data and find the more interesting features in the data. \n",
        "\n",
        "For this purpose, we have `textfeatures` python module to extract some of the basic text features which helps us understand the data much better.\n",
        "\n",
        "To use `textfeatures` module first install the package using the command \n",
        "\n",
        "1. `!pip install textfeatures`\n",
        "2. Import `textfeatures` as `tf`"
      ]
    },
    {
      "cell_type": "code",
      "metadata": {
        "colab": {
          "base_uri": "https://localhost:8080/"
        },
        "id": "MjgX7b4YmFXs",
        "outputId": "a00d86d5-1ec8-4be4-9211-b513694e86d8"
      },
      "source": [
        "# Install the textfeatures module and then import it as tf\n",
        "!pip install textfeatures\n",
        "import textfeatures as tf"
      ],
      "execution_count": null,
      "outputs": [
        {
          "output_type": "stream",
          "text": [
            "Collecting textfeatures\n",
            "  Downloading textfeatures-0.0.2-py3-none-any.whl (3.4 kB)\n",
            "Requirement already satisfied: nltk in /usr/local/lib/python3.7/dist-packages (from textfeatures) (3.2.5)\n",
            "Requirement already satisfied: six in /usr/local/lib/python3.7/dist-packages (from nltk->textfeatures) (1.15.0)\n",
            "Installing collected packages: textfeatures\n",
            "Successfully installed textfeatures-0.0.2\n",
            "[nltk_data] Downloading package stopwords to /root/nltk_data...\n",
            "[nltk_data]   Unzipping corpora/stopwords.zip.\n"
          ],
          "name": "stdout"
        }
      ]
    },
    {
      "cell_type": "markdown",
      "metadata": {
        "id": "3k32MjrII0T6"
      },
      "source": [
        "To use any function in textfeature:\n",
        "\n",
        "**Syntax:** `function_name(dataframe, 'text_column_name', 'new_column_name')`\n",
        "\n",
        "where,\n",
        "\n",
        "1. dataframe: the name of dataframe on which function is called\n",
        "2. text_column_name: name of the column from which features are to be extracted\n",
        "3. new_column_name: new column derived by feature extraction from text_column_name\n",
        "\n",
        "**stopwords() function:**"
      ]
    },
    {
      "cell_type": "code",
      "metadata": {
        "colab": {
          "base_uri": "https://localhost:8080/",
          "height": 309
        },
        "id": "yWp0vug5X0rS",
        "outputId": "395a2a37-f697-471a-da98-97dff9e5ccfc"
      },
      "source": [
        "# Call the fuction stopwords()\n",
        "tf.stopwords(merge_df,\"RawSpeech\",\"StopWords\")\n",
        "merge_df.head()"
      ],
      "execution_count": null,
      "outputs": [
        {
          "output_type": "execute_result",
          "data": {
            "text/html": [
              "<div>\n",
              "<style scoped>\n",
              "    .dataframe tbody tr th:only-of-type {\n",
              "        vertical-align: middle;\n",
              "    }\n",
              "\n",
              "    .dataframe tbody tr th {\n",
              "        vertical-align: top;\n",
              "    }\n",
              "\n",
              "    .dataframe thead th {\n",
              "        text-align: right;\n",
              "    }\n",
              "</style>\n",
              "<table border=\"1\" class=\"dataframe\">\n",
              "  <thead>\n",
              "    <tr style=\"text-align: right;\">\n",
              "      <th></th>\n",
              "      <th>CharacterID</th>\n",
              "      <th>CharacterName</th>\n",
              "      <th>MovieID</th>\n",
              "      <th>MovieTitle</th>\n",
              "      <th>Gender</th>\n",
              "      <th>PositionInCredits</th>\n",
              "      <th>LineID</th>\n",
              "      <th>RawSpeech</th>\n",
              "      <th>DialogueLength</th>\n",
              "      <th>WordCount</th>\n",
              "      <th>StopWords</th>\n",
              "    </tr>\n",
              "  </thead>\n",
              "  <tbody>\n",
              "    <tr>\n",
              "      <th>0</th>\n",
              "      <td>u0</td>\n",
              "      <td>BIANCA</td>\n",
              "      <td>m0</td>\n",
              "      <td>10 things i hate about you</td>\n",
              "      <td>0</td>\n",
              "      <td>4</td>\n",
              "      <td>L1045</td>\n",
              "      <td>they do not</td>\n",
              "      <td>11</td>\n",
              "      <td>3</td>\n",
              "      <td>[they, do, not]</td>\n",
              "    </tr>\n",
              "    <tr>\n",
              "      <th>1</th>\n",
              "      <td>u0</td>\n",
              "      <td>BIANCA</td>\n",
              "      <td>m0</td>\n",
              "      <td>10 things i hate about you</td>\n",
              "      <td>0</td>\n",
              "      <td>4</td>\n",
              "      <td>L985</td>\n",
              "      <td>i hope so</td>\n",
              "      <td>9</td>\n",
              "      <td>3</td>\n",
              "      <td>[i, so]</td>\n",
              "    </tr>\n",
              "    <tr>\n",
              "      <th>2</th>\n",
              "      <td>u0</td>\n",
              "      <td>BIANCA</td>\n",
              "      <td>m0</td>\n",
              "      <td>10 things i hate about you</td>\n",
              "      <td>0</td>\n",
              "      <td>4</td>\n",
              "      <td>L925</td>\n",
              "      <td>lets go</td>\n",
              "      <td>7</td>\n",
              "      <td>2</td>\n",
              "      <td>[]</td>\n",
              "    </tr>\n",
              "    <tr>\n",
              "      <th>3</th>\n",
              "      <td>u0</td>\n",
              "      <td>BIANCA</td>\n",
              "      <td>m0</td>\n",
              "      <td>10 things i hate about you</td>\n",
              "      <td>0</td>\n",
              "      <td>4</td>\n",
              "      <td>L872</td>\n",
              "      <td>okay youre gonna need to learn how to lie</td>\n",
              "      <td>41</td>\n",
              "      <td>9</td>\n",
              "      <td>[to, how, to]</td>\n",
              "    </tr>\n",
              "    <tr>\n",
              "      <th>4</th>\n",
              "      <td>u0</td>\n",
              "      <td>BIANCA</td>\n",
              "      <td>m0</td>\n",
              "      <td>10 things i hate about you</td>\n",
              "      <td>0</td>\n",
              "      <td>4</td>\n",
              "      <td>L869</td>\n",
              "      <td>like my fear of wearing pastels</td>\n",
              "      <td>31</td>\n",
              "      <td>6</td>\n",
              "      <td>[my, of]</td>\n",
              "    </tr>\n",
              "  </tbody>\n",
              "</table>\n",
              "</div>"
            ],
            "text/plain": [
              "  CharacterID CharacterName MovieID  ... DialogueLength  WordCount        StopWords\n",
              "0          u0        BIANCA      m0  ...             11          3  [they, do, not]\n",
              "1          u0        BIANCA      m0  ...              9          3          [i, so]\n",
              "2          u0        BIANCA      m0  ...              7          2               []\n",
              "3          u0        BIANCA      m0  ...             41          9    [to, how, to]\n",
              "4          u0        BIANCA      m0  ...             31          6         [my, of]\n",
              "\n",
              "[5 rows x 11 columns]"
            ]
          },
          "metadata": {
            "tags": []
          },
          "execution_count": 51
        }
      ]
    },
    {
      "cell_type": "markdown",
      "metadata": {
        "id": "aDPKqCSGJ3Hf"
      },
      "source": [
        "Stop words are the words which are commonly used in any language. They carry very little useful information and hence in text processing it is desirable to eliminate these stop words from the given text and retain only those words which carry useful information.\n",
        "\n",
        "Ex. In a sentence \"The color is green\", 'the' and 'is' are stop words.\n",
        "\n",
        "A list of all the stop words in english which is a result of Natural Language Processing(NLP) research can be found in the below link:\n",
        "\n",
        "https://github.com/igorbrigadir/stopwords/blob/master/en/terrier.txt\n",
        "\n",
        "The function `stopwords()` return a list of stopwords in each text.\n",
        "\n",
        "**stopwords_count() function:**"
      ]
    },
    {
      "cell_type": "code",
      "metadata": {
        "colab": {
          "base_uri": "https://localhost:8080/",
          "height": 450
        },
        "id": "QtrCKQBPZnTu",
        "outputId": "1e26e4b5-78d7-406c-e3cb-817879c7ebba"
      },
      "source": [
        "# Call the fuction stopwords_count()\n",
        "tf.stopwords_count(merge_df,\"RawSpeech\",\"StopWordsCount\")\n",
        "merge_df.head()"
      ],
      "execution_count": null,
      "outputs": [
        {
          "output_type": "execute_result",
          "data": {
            "text/html": [
              "<div>\n",
              "<style scoped>\n",
              "    .dataframe tbody tr th:only-of-type {\n",
              "        vertical-align: middle;\n",
              "    }\n",
              "\n",
              "    .dataframe tbody tr th {\n",
              "        vertical-align: top;\n",
              "    }\n",
              "\n",
              "    .dataframe thead th {\n",
              "        text-align: right;\n",
              "    }\n",
              "</style>\n",
              "<table border=\"1\" class=\"dataframe\">\n",
              "  <thead>\n",
              "    <tr style=\"text-align: right;\">\n",
              "      <th></th>\n",
              "      <th>CharacterID</th>\n",
              "      <th>CharacterName</th>\n",
              "      <th>MovieID</th>\n",
              "      <th>MovieTitle</th>\n",
              "      <th>Gender</th>\n",
              "      <th>PositionInCredits</th>\n",
              "      <th>LineID</th>\n",
              "      <th>RawSpeech</th>\n",
              "      <th>DialogueLength</th>\n",
              "      <th>WordCount</th>\n",
              "      <th>StopWords</th>\n",
              "      <th>StopWordsCount</th>\n",
              "    </tr>\n",
              "  </thead>\n",
              "  <tbody>\n",
              "    <tr>\n",
              "      <th>0</th>\n",
              "      <td>u0</td>\n",
              "      <td>BIANCA</td>\n",
              "      <td>m0</td>\n",
              "      <td>10 things i hate about you</td>\n",
              "      <td>0</td>\n",
              "      <td>4</td>\n",
              "      <td>L1045</td>\n",
              "      <td>they do not</td>\n",
              "      <td>11</td>\n",
              "      <td>3</td>\n",
              "      <td>[they, do, not]</td>\n",
              "      <td>3</td>\n",
              "    </tr>\n",
              "    <tr>\n",
              "      <th>1</th>\n",
              "      <td>u0</td>\n",
              "      <td>BIANCA</td>\n",
              "      <td>m0</td>\n",
              "      <td>10 things i hate about you</td>\n",
              "      <td>0</td>\n",
              "      <td>4</td>\n",
              "      <td>L985</td>\n",
              "      <td>i hope so</td>\n",
              "      <td>9</td>\n",
              "      <td>3</td>\n",
              "      <td>[i, so]</td>\n",
              "      <td>2</td>\n",
              "    </tr>\n",
              "    <tr>\n",
              "      <th>2</th>\n",
              "      <td>u0</td>\n",
              "      <td>BIANCA</td>\n",
              "      <td>m0</td>\n",
              "      <td>10 things i hate about you</td>\n",
              "      <td>0</td>\n",
              "      <td>4</td>\n",
              "      <td>L925</td>\n",
              "      <td>lets go</td>\n",
              "      <td>7</td>\n",
              "      <td>2</td>\n",
              "      <td>[]</td>\n",
              "      <td>0</td>\n",
              "    </tr>\n",
              "    <tr>\n",
              "      <th>3</th>\n",
              "      <td>u0</td>\n",
              "      <td>BIANCA</td>\n",
              "      <td>m0</td>\n",
              "      <td>10 things i hate about you</td>\n",
              "      <td>0</td>\n",
              "      <td>4</td>\n",
              "      <td>L872</td>\n",
              "      <td>okay youre gonna need to learn how to lie</td>\n",
              "      <td>41</td>\n",
              "      <td>9</td>\n",
              "      <td>[to, how, to]</td>\n",
              "      <td>3</td>\n",
              "    </tr>\n",
              "    <tr>\n",
              "      <th>4</th>\n",
              "      <td>u0</td>\n",
              "      <td>BIANCA</td>\n",
              "      <td>m0</td>\n",
              "      <td>10 things i hate about you</td>\n",
              "      <td>0</td>\n",
              "      <td>4</td>\n",
              "      <td>L869</td>\n",
              "      <td>like my fear of wearing pastels</td>\n",
              "      <td>31</td>\n",
              "      <td>6</td>\n",
              "      <td>[my, of]</td>\n",
              "      <td>2</td>\n",
              "    </tr>\n",
              "  </tbody>\n",
              "</table>\n",
              "</div>"
            ],
            "text/plain": [
              "  CharacterID CharacterName MovieID  ... WordCount        StopWords StopWordsCount\n",
              "0          u0        BIANCA      m0  ...         3  [they, do, not]              3\n",
              "1          u0        BIANCA      m0  ...         3          [i, so]              2\n",
              "2          u0        BIANCA      m0  ...         2               []              0\n",
              "3          u0        BIANCA      m0  ...         9    [to, how, to]              3\n",
              "4          u0        BIANCA      m0  ...         6         [my, of]              2\n",
              "\n",
              "[5 rows x 12 columns]"
            ]
          },
          "metadata": {
            "tags": []
          },
          "execution_count": 52
        }
      ]
    },
    {
      "cell_type": "markdown",
      "metadata": {
        "id": "pU3Px9rULq5g"
      },
      "source": [
        "\n",
        "The function `stopwords_count()` returns the number of stopwords in each text. The same has been added to `merge_df` dataframe."
      ]
    },
    {
      "cell_type": "markdown",
      "metadata": {
        "id": "LX_L-A9RMfJ_"
      },
      "source": [
        "**clean() function:**"
      ]
    },
    {
      "cell_type": "code",
      "metadata": {
        "colab": {
          "base_uri": "https://localhost:8080/",
          "height": 450
        },
        "id": "nqpAzXtsZZYF",
        "outputId": "543e73cf-c4a2-4a5f-f9b6-a81a430fddbb"
      },
      "source": [
        "# # Call the fuction clean()\n",
        "tf.clean(merge_df,\"RawSpeech\",\"CleanedSpeech\")\n",
        "merge_df.head()"
      ],
      "execution_count": null,
      "outputs": [
        {
          "output_type": "execute_result",
          "data": {
            "text/html": [
              "<div>\n",
              "<style scoped>\n",
              "    .dataframe tbody tr th:only-of-type {\n",
              "        vertical-align: middle;\n",
              "    }\n",
              "\n",
              "    .dataframe tbody tr th {\n",
              "        vertical-align: top;\n",
              "    }\n",
              "\n",
              "    .dataframe thead th {\n",
              "        text-align: right;\n",
              "    }\n",
              "</style>\n",
              "<table border=\"1\" class=\"dataframe\">\n",
              "  <thead>\n",
              "    <tr style=\"text-align: right;\">\n",
              "      <th></th>\n",
              "      <th>CharacterID</th>\n",
              "      <th>CharacterName</th>\n",
              "      <th>MovieID</th>\n",
              "      <th>MovieTitle</th>\n",
              "      <th>Gender</th>\n",
              "      <th>PositionInCredits</th>\n",
              "      <th>LineID</th>\n",
              "      <th>RawSpeech</th>\n",
              "      <th>DialogueLength</th>\n",
              "      <th>WordCount</th>\n",
              "      <th>StopWords</th>\n",
              "      <th>StopWordsCount</th>\n",
              "      <th>CleanedSpeech</th>\n",
              "    </tr>\n",
              "  </thead>\n",
              "  <tbody>\n",
              "    <tr>\n",
              "      <th>0</th>\n",
              "      <td>u0</td>\n",
              "      <td>BIANCA</td>\n",
              "      <td>m0</td>\n",
              "      <td>10 things i hate about you</td>\n",
              "      <td>0</td>\n",
              "      <td>4</td>\n",
              "      <td>L1045</td>\n",
              "      <td>they do not</td>\n",
              "      <td>11</td>\n",
              "      <td>3</td>\n",
              "      <td>[they, do, not]</td>\n",
              "      <td>3</td>\n",
              "      <td></td>\n",
              "    </tr>\n",
              "    <tr>\n",
              "      <th>1</th>\n",
              "      <td>u0</td>\n",
              "      <td>BIANCA</td>\n",
              "      <td>m0</td>\n",
              "      <td>10 things i hate about you</td>\n",
              "      <td>0</td>\n",
              "      <td>4</td>\n",
              "      <td>L985</td>\n",
              "      <td>i hope so</td>\n",
              "      <td>9</td>\n",
              "      <td>3</td>\n",
              "      <td>[i, so]</td>\n",
              "      <td>2</td>\n",
              "      <td>hope</td>\n",
              "    </tr>\n",
              "    <tr>\n",
              "      <th>2</th>\n",
              "      <td>u0</td>\n",
              "      <td>BIANCA</td>\n",
              "      <td>m0</td>\n",
              "      <td>10 things i hate about you</td>\n",
              "      <td>0</td>\n",
              "      <td>4</td>\n",
              "      <td>L925</td>\n",
              "      <td>lets go</td>\n",
              "      <td>7</td>\n",
              "      <td>2</td>\n",
              "      <td>[]</td>\n",
              "      <td>0</td>\n",
              "      <td>lets</td>\n",
              "    </tr>\n",
              "    <tr>\n",
              "      <th>3</th>\n",
              "      <td>u0</td>\n",
              "      <td>BIANCA</td>\n",
              "      <td>m0</td>\n",
              "      <td>10 things i hate about you</td>\n",
              "      <td>0</td>\n",
              "      <td>4</td>\n",
              "      <td>L872</td>\n",
              "      <td>okay youre gonna need to learn how to lie</td>\n",
              "      <td>41</td>\n",
              "      <td>9</td>\n",
              "      <td>[to, how, to]</td>\n",
              "      <td>3</td>\n",
              "      <td>okay youre gonna need learn</td>\n",
              "    </tr>\n",
              "    <tr>\n",
              "      <th>4</th>\n",
              "      <td>u0</td>\n",
              "      <td>BIANCA</td>\n",
              "      <td>m0</td>\n",
              "      <td>10 things i hate about you</td>\n",
              "      <td>0</td>\n",
              "      <td>4</td>\n",
              "      <td>L869</td>\n",
              "      <td>like my fear of wearing pastels</td>\n",
              "      <td>31</td>\n",
              "      <td>6</td>\n",
              "      <td>[my, of]</td>\n",
              "      <td>2</td>\n",
              "      <td>like fear wearing pastels</td>\n",
              "    </tr>\n",
              "  </tbody>\n",
              "</table>\n",
              "</div>"
            ],
            "text/plain": [
              "  CharacterID CharacterName  ... StopWordsCount                CleanedSpeech\n",
              "0          u0        BIANCA  ...              3                             \n",
              "1          u0        BIANCA  ...              2                         hope\n",
              "2          u0        BIANCA  ...              0                         lets\n",
              "3          u0        BIANCA  ...              3  okay youre gonna need learn\n",
              "4          u0        BIANCA  ...              2    like fear wearing pastels\n",
              "\n",
              "[5 rows x 13 columns]"
            ]
          },
          "metadata": {
            "tags": []
          },
          "execution_count": 53
        }
      ]
    },
    {
      "cell_type": "markdown",
      "metadata": {
        "id": "l5c6hZrEMkDz"
      },
      "source": [
        "The `clean()` function removes all unwanted information like numerics, stopwords, punctuations and links in a given text. After cleaning `RawSpeech`, a new column `CleanedSpeech` which is the result of `tf.clean()` is added to `merge_df` dataframe."
      ]
    },
    {
      "cell_type": "markdown",
      "metadata": {
        "id": "lhYXk_YdnmOb"
      },
      "source": [
        "##Activity 7: Text Feature Extraction Methods"
      ]
    },
    {
      "cell_type": "markdown",
      "metadata": {
        "id": "TDgS7pvVOKvC"
      },
      "source": [
        "In this activity we design a classification model to identify the gender based on movie dialogue."
      ]
    },
    {
      "cell_type": "code",
      "metadata": {
        "colab": {
          "base_uri": "https://localhost:8080/"
        },
        "id": "VvfQ-k7B_p_U",
        "outputId": "4ee660e5-87bd-47e5-bc4b-e2bd7c24b044"
      },
      "source": [
        "# Find the number of male and female characters\n",
        "merge_df['Gender'].value_counts()"
      ],
      "execution_count": null,
      "outputs": [
        {
          "output_type": "execute_result",
          "data": {
            "text/plain": [
              "1    161244\n",
              "0     67862\n",
              "Name: Gender, dtype: int64"
            ]
          },
          "metadata": {
            "tags": []
          },
          "execution_count": 54
        }
      ]
    },
    {
      "cell_type": "markdown",
      "metadata": {
        "id": "io98yWbXPRXX"
      },
      "source": [
        "Machine learning models cannot process data in the form of text. The input must be of numeric datatype. Thus, we need a method to trasform the available text data into numeric datatype without altering the originality of the information available in text form. The two popular approaches used for this conversion are:\n",
        "1. Bag-of-words (BOW)\n",
        "2. Term Frequency - Invert Document Frequency (TF-IDF) vectorizer\n",
        "\n",
        "In this lesson we use TF-IDF vectorizer approach. Let us a understand this approach.\n",
        "\n",
        "TF-IDF consists of two parts:\n",
        "\n",
        "* Term frequency: specifies how frequently a word is appearing in the entire text data. It is estimated as a ratio of how frequently a term is appearing in the document to the total number of unique words in the same document.\n",
        "\n",
        "* Inverse document frequency: it measures whether a word is rarely or frequently occuring in the entire document. In other words IDF finds the frequency of occurence of each term across the corpus and then assigns it an IDF score. The rare terms have high IDF score. Thus, IDF gives more weightage to less frequently occuring terms and less weightage to often occuring or repeatedly occuring terms.\n",
        "\n"
      ]
    },
    {
      "cell_type": "markdown",
      "metadata": {
        "id": "ZtTwwePQTtCj"
      },
      "source": [
        "To use TF-IDF follow the below steps:\n",
        "\n",
        "1. from `sklearn.feature_extraction.text` import `TfidfVectorizer`\n",
        "\n",
        "2. Create an instance of the class `TfidfVectorizer()` and name it as tf_idf\n",
        "\n",
        "3. Call the `method fit_transform()` on instance `tf_idf`. Into the method pass the text you want to vectorize.\n",
        "\n",
        "Ex: Consider the following text for vectorizing. \n",
        "\n",
        "`[\"very good movie\", \"liked the movie\", \"not a good movie\", \"did not like\", \"ok ok movie\"]`"
      ]
    },
    {
      "cell_type": "code",
      "metadata": {
        "colab": {
          "base_uri": "https://localhost:8080/",
          "height": 205
        },
        "id": "1Tt5s0eUTsIX",
        "outputId": "1621ea10-0f3a-47c4-86ba-1a82e7ed35ec"
      },
      "source": [
        "from sklearn.feature_extraction.text import TfidfVectorizer\n",
        "\n",
        "# Create a variable texts and assign the list of strings for vectorizing \n",
        "texts = [\"very good movie\", \"liked the movie\", \"not a good movie\", \"did not like\", \"ok ok movie\"]\n",
        "  \n",
        "# Call TfidVectorizer(), create an instance tf_idf\n",
        "tf_idf = TfidfVectorizer()\n",
        "\n",
        "# Apply fit_trasform on tf_idf with texts as input into the method\n",
        "features = tf_idf.fit_transform(texts)\n",
        "\n",
        "vectorized_df = pd.DataFrame(features.todense(), columns = tf_idf.get_feature_names())\n",
        "vectorized_df"
      ],
      "execution_count": null,
      "outputs": [
        {
          "output_type": "execute_result",
          "data": {
            "text/html": [
              "<div>\n",
              "<style scoped>\n",
              "    .dataframe tbody tr th:only-of-type {\n",
              "        vertical-align: middle;\n",
              "    }\n",
              "\n",
              "    .dataframe tbody tr th {\n",
              "        vertical-align: top;\n",
              "    }\n",
              "\n",
              "    .dataframe thead th {\n",
              "        text-align: right;\n",
              "    }\n",
              "</style>\n",
              "<table border=\"1\" class=\"dataframe\">\n",
              "  <thead>\n",
              "    <tr style=\"text-align: right;\">\n",
              "      <th></th>\n",
              "      <th>did</th>\n",
              "      <th>good</th>\n",
              "      <th>like</th>\n",
              "      <th>liked</th>\n",
              "      <th>movie</th>\n",
              "      <th>not</th>\n",
              "      <th>ok</th>\n",
              "      <th>the</th>\n",
              "      <th>very</th>\n",
              "    </tr>\n",
              "  </thead>\n",
              "  <tbody>\n",
              "    <tr>\n",
              "      <th>0</th>\n",
              "      <td>0.000000</td>\n",
              "      <td>0.575063</td>\n",
              "      <td>0.000000</td>\n",
              "      <td>0.0000</td>\n",
              "      <td>0.401565</td>\n",
              "      <td>0.000000</td>\n",
              "      <td>0.00000</td>\n",
              "      <td>0.0000</td>\n",
              "      <td>0.712775</td>\n",
              "    </tr>\n",
              "    <tr>\n",
              "      <th>1</th>\n",
              "      <td>0.000000</td>\n",
              "      <td>0.000000</td>\n",
              "      <td>0.000000</td>\n",
              "      <td>0.6569</td>\n",
              "      <td>0.370086</td>\n",
              "      <td>0.000000</td>\n",
              "      <td>0.00000</td>\n",
              "      <td>0.6569</td>\n",
              "      <td>0.000000</td>\n",
              "    </tr>\n",
              "    <tr>\n",
              "      <th>2</th>\n",
              "      <td>0.000000</td>\n",
              "      <td>0.634027</td>\n",
              "      <td>0.000000</td>\n",
              "      <td>0.0000</td>\n",
              "      <td>0.442740</td>\n",
              "      <td>0.634027</td>\n",
              "      <td>0.00000</td>\n",
              "      <td>0.0000</td>\n",
              "      <td>0.000000</td>\n",
              "    </tr>\n",
              "    <tr>\n",
              "      <th>3</th>\n",
              "      <td>0.614189</td>\n",
              "      <td>0.000000</td>\n",
              "      <td>0.614189</td>\n",
              "      <td>0.0000</td>\n",
              "      <td>0.000000</td>\n",
              "      <td>0.495524</td>\n",
              "      <td>0.00000</td>\n",
              "      <td>0.0000</td>\n",
              "      <td>0.000000</td>\n",
              "    </tr>\n",
              "    <tr>\n",
              "      <th>4</th>\n",
              "      <td>0.000000</td>\n",
              "      <td>0.000000</td>\n",
              "      <td>0.000000</td>\n",
              "      <td>0.0000</td>\n",
              "      <td>0.271139</td>\n",
              "      <td>0.000000</td>\n",
              "      <td>0.96254</td>\n",
              "      <td>0.0000</td>\n",
              "      <td>0.000000</td>\n",
              "    </tr>\n",
              "  </tbody>\n",
              "</table>\n",
              "</div>"
            ],
            "text/plain": [
              "        did      good      like   liked  ...       not       ok     the      very\n",
              "0  0.000000  0.575063  0.000000  0.0000  ...  0.000000  0.00000  0.0000  0.712775\n",
              "1  0.000000  0.000000  0.000000  0.6569  ...  0.000000  0.00000  0.6569  0.000000\n",
              "2  0.000000  0.634027  0.000000  0.0000  ...  0.634027  0.00000  0.0000  0.000000\n",
              "3  0.614189  0.000000  0.614189  0.0000  ...  0.495524  0.00000  0.0000  0.000000\n",
              "4  0.000000  0.000000  0.000000  0.0000  ...  0.000000  0.96254  0.0000  0.000000\n",
              "\n",
              "[5 rows x 9 columns]"
            ]
          },
          "metadata": {
            "tags": []
          },
          "execution_count": 55
        }
      ]
    },
    {
      "cell_type": "markdown",
      "metadata": {
        "id": "tpj8SoGyWyri"
      },
      "source": [
        "`features.todense()` returns sparse matrix form of data in an array format.\n",
        "\n",
        "`tf_idf.get_feature_names()` return a list of feature names/tokens that are selected from the text data. Each word in the list acts as a feature into classification model.\n",
        "\n"
      ]
    },
    {
      "cell_type": "markdown",
      "metadata": {
        "id": "nHJQK3RSYVeK"
      },
      "source": [
        "Let us now apply the TF-IDF on the movie dialogues. We have to vectorize the all the dialogues in the dataset before splitting it into train and test. "
      ]
    },
    {
      "cell_type": "code",
      "metadata": {
        "id": "l1wBDGH_PJJk"
      },
      "source": [
        "# Extract the CleanedSpeech as feature and Gender as target\n",
        "X = merge_df['CleanedSpeech']\n",
        "y = merge_df['Gender']"
      ],
      "execution_count": null,
      "outputs": []
    },
    {
      "cell_type": "code",
      "metadata": {
        "id": "TS9oD5xzPSd2"
      },
      "source": [
        "# Call TfidVectorizer(), create an instance tf_idf_vector\n",
        "tf_idf_vector = TfidfVectorizer()\n",
        "\n",
        "# Apply fit_trasform on tf_idf_vector with X as input into the method\n",
        "X = tf_idf_vector.fit_transform(X)"
      ],
      "execution_count": null,
      "outputs": []
    },
    {
      "cell_type": "markdown",
      "metadata": {
        "id": "vtT4-MmDaP_R"
      },
      "source": [
        "As the dataset is too large in size we cannot run to see sparse matrix and chosen tokens because colab crashes. "
      ]
    },
    {
      "cell_type": "markdown",
      "metadata": {
        "id": "fHSUsdrGOYfh"
      },
      "source": [
        "Let us first prepare the training and testing dataset. For this,\n",
        "1. from `sklearn.model_selection` import `train_test_split`\n",
        "\n",
        "2. Use the `train_test_split` to split the features and target into train and test datasets with a test size of 0.30.\n",
        "\n",
        "3. Use of `random_state` generates the same set of samples for training and testing each time the model is run. If `random_state = None` for each run different samples will chosen causing inconsistency. "
      ]
    },
    {
      "cell_type": "code",
      "metadata": {
        "colab": {
          "base_uri": "https://localhost:8080/"
        },
        "id": "nI6WcXn6nIVK",
        "outputId": "5d0d22cf-b8b0-4d37-930b-159e4e84cb3b"
      },
      "source": [
        "from sklearn.model_selection import train_test_split\n",
        "X_train, X_test, y_train, y_test = train_test_split(X, y, test_size = 0.30, random_state = 42)\n",
        "print(X_train.shape)\n",
        "print(y_train.shape)\n",
        "print(X_test.shape)\n",
        "print(y_test.shape)"
      ],
      "execution_count": null,
      "outputs": [
        {
          "output_type": "stream",
          "text": [
            "(160374, 50317)\n",
            "(160374,)\n",
            "(68732, 50317)\n",
            "(68732,)\n"
          ],
          "name": "stdout"
        }
      ]
    },
    {
      "cell_type": "markdown",
      "metadata": {
        "id": "izFwg7gkbRpj"
      },
      "source": [
        "##Activity 8: Classification Model"
      ]
    },
    {
      "cell_type": "markdown",
      "metadata": {
        "id": "v7xqINLybaO4"
      },
      "source": [
        "The taget labels are 2 in count, i.e. 0 or 1. We shall use a binary classification model like Logistic Regression to achieve gender classification using movie dialogues.\n",
        "\n",
        "For Logistic Regression:\n",
        "1. import `LogisticRegression` class from `sklearn.linear_model`\n",
        "\n",
        "2. Create an instance of class `LogisticRegression`. Call it `log_reg`\n",
        "\n",
        "3. Apply the method `fit()` on `log_reg` and provide X_train and y_train as input for fitting the model.\n",
        "\n",
        "4. Use `log_reg.score(X_train, y_train)` to find the accuracy score of the model.\n",
        "\n",
        "5. Apply the method `predict` on `log_reg` and provide X_train and X_test as inputs to test the model on both trained and untrained data. Store the results into `y_pred_train` and `y_pred_test` variables respectively."
      ]
    },
    {
      "cell_type": "code",
      "metadata": {
        "colab": {
          "base_uri": "https://localhost:8080/"
        },
        "id": "zmTh5zOpUYna",
        "outputId": "07d3405b-0422-49c2-f9c0-36fe851bf8c0"
      },
      "source": [
        "# import LogisticRegression class from sklearn.linear_model\n",
        "from sklearn.linear_model import LogisticRegression\n",
        "\n",
        "# Create an object of class LogisticRegression\n",
        "log_reg = LogisticRegression()\n",
        "\n",
        "# Fit the model log_reg\n",
        "log_reg.fit(X_train, y_train)\n",
        "\n",
        "# Find the accuracy score\n",
        "log_reg.score(X_train, y_train)"
      ],
      "execution_count": null,
      "outputs": [
        {
          "output_type": "execute_result",
          "data": {
            "text/plain": [
              "0.7228852557147667"
            ]
          },
          "metadata": {
            "tags": []
          },
          "execution_count": 59
        }
      ]
    },
    {
      "cell_type": "code",
      "metadata": {
        "id": "r_dbIad3eskF"
      },
      "source": [
        "# Make predictions on trained dataset\n",
        "y_pred_train = log_reg.predict(X_train)\n",
        "\n",
        "# Make predictions on test dataset\n",
        "y_pred_test = log_reg.predict(X_test)"
      ],
      "execution_count": null,
      "outputs": []
    },
    {
      "cell_type": "markdown",
      "metadata": {
        "id": "ezuS25hyeqIp"
      },
      "source": [
        "To perform classification model evaluation we use two metrics:\n",
        "* Confusion matrix\n",
        "* Classification report \n",
        "\n",
        "To create confusion matrix, \n",
        "1. First import `plot_confusion_matrix` from `sklearn.metrics`\n",
        "2. It takes three inputs model_name, features, target variables\n",
        "3. `cmap` is used for color coding the matrix\n",
        "4. `display_labels` is used to set the target labels as 'Male and 'Female'\n",
        "5. `values_format` value sets the count of labels for each combination in string format."
      ]
    },
    {
      "cell_type": "code",
      "metadata": {
        "colab": {
          "base_uri": "https://localhost:8080/",
          "height": 297
        },
        "id": "kX_KbWm1e4kW",
        "outputId": "f2bfa7f2-cf8f-463d-a3e5-101fb54cd4f8"
      },
      "source": [
        "# Import the libraries\n",
        "from sklearn.metrics import plot_confusion_matrix, classification_report\n",
        "import matplotlib.pyplot as plt\n",
        "\n",
        "# Plot confusion matrix for trained data\n",
        "print(\"Confusion matrix for trained data\")\n",
        "plot_confusion_matrix(log_reg, X_train, y_train, cmap = 'PuBu', display_labels = ['Female', 'Male'], values_format = 'g')\n",
        "plt.grid(False)"
      ],
      "execution_count": null,
      "outputs": [
        {
          "output_type": "stream",
          "text": [
            "Confusion matrix for trained data\n"
          ],
          "name": "stdout"
        },
        {
          "output_type": "display_data",
          "data": {
            "image/png": "[encoded data removed]",
            "text/plain": [
              "<Figure size 432x288 with 2 Axes>"
            ]
          },
          "metadata": {
            "tags": [],
            "needs_background": "light"
          }
        }
      ]
    },
    {
      "cell_type": "code",
      "metadata": {
        "colab": {
          "base_uri": "https://localhost:8080/",
          "height": 297
        },
        "id": "s-Lz2hQYgg9L",
        "outputId": "e5f37123-67e0-469c-d9c4-d468b1e14fd1"
      },
      "source": [
        "# Plot confusion matrix for test data\n",
        "print(\"Confusion matrix for test data\")\n",
        "plot_confusion_matrix(log_reg, X_test, y_test, cmap = 'PuBu', display_labels = ['Female', 'Male'], values_format = 'g')\n",
        "plt.grid(False)"
      ],
      "execution_count": null,
      "outputs": [
        {
          "output_type": "stream",
          "text": [
            "Confusion matrix for test data\n"
          ],
          "name": "stdout"
        },
        {
          "output_type": "display_data",
          "data": {
            "image/png": "[encoded data removed]",
            "text/plain": [
              "<Figure size 432x288 with 2 Axes>"
            ]
          },
          "metadata": {
            "tags": [],
            "needs_background": "light"
          }
        }
      ]
    },
    {
      "cell_type": "code",
      "metadata": {
        "colab": {
          "base_uri": "https://localhost:8080/"
        },
        "id": "xBYFa-lIlTX8",
        "outputId": "d263fdf7-9921-4ae6-bdd4-9758c159f9ad"
      },
      "source": [
        "pd.Series(y_test).value_counts()"
      ],
      "execution_count": null,
      "outputs": [
        {
          "output_type": "execute_result",
          "data": {
            "text/plain": [
              "1    48258\n",
              "0    20474\n",
              "Name: Gender, dtype: int64"
            ]
          },
          "metadata": {
            "tags": []
          },
          "execution_count": 63
        }
      ]
    },
    {
      "cell_type": "markdown",
      "metadata": {
        "id": "OkOw-qxGllA7"
      },
      "source": [
        "Out of 48258 males model predicts only 47251 labels correctly. Out of 20474 female model classifies only 1418 as female, the remaining as male."
      ]
    },
    {
      "cell_type": "markdown",
      "metadata": {
        "id": "Cs6FVJm1gmuH"
      },
      "source": [
        "To use classification report,\n",
        "1. Import `classification_report` from `sklearn.metrics`\n",
        "2. It needs 2 inputs. Provide actual target labels and predicted target labels "
      ]
    },
    {
      "cell_type": "markdown",
      "metadata": {
        "id": "Z8-gFT8VhjVb"
      },
      "source": [
        "**Precision, Recall and F1-score:**\n",
        "In our dataset let us say prediction as Female is Positive outcome and prediction as male is Negative outcome.\n",
        "From the confusion matrix we get the following values:\n",
        "\n",
        "* **True Positive (TP)**: Actual class is Female, predicted class is also Female\n",
        "\n",
        "* **False Positive (FP)**: Actual class is Male, predicted class is Female\n",
        "\n",
        "* **True Negative (TN)**: Actual class is Male, predicted class is also Male\n",
        "\n",
        "* **False Negative (FN)**: Actual class is Female, predicted class is Male\n",
        "\n",
        "**Precision**: The ratio of correct positive predictions to the total predicted positives. This specifies when the model has predicted a positive outcome how often is it correct ?\n",
        "\n",
        "$$\\text{Precision} = \\frac{\\text{TP}}{\\text{TP + FP}}$$\n",
        "\n",
        "**Recall**: The ratio of correct positive predictions to the total positives examples. This represents out of the total positives, what percentage are actually predicted positive.\n",
        "\n",
        "$$\\text{Recall} = \\frac{\\text{TP}}{\\text{TP + FN}}$$\n",
        "\n",
        "**F1-Score**: is the harmonic mean of Precision and Recall. f1-score eliminates bias between precision and recall by giving same weightage to both false positives and false negatives. \n",
        "\n",
        "$$\\text{F1-score} = \\frac{\\text{2 * Precision * Recall}}{\\text{(Precision + Recall)}}$$\n",
        "\n",
        "All three values precision, recall and f1-score range between 0 to 1. The closer to 1 the better are the values. A f1-score of 1 means 100% prediction."
      ]
    },
    {
      "cell_type": "code",
      "metadata": {
        "colab": {
          "base_uri": "https://localhost:8080/"
        },
        "id": "KyL5N7GTgy-Y",
        "outputId": "b65163f0-b5e0-420e-fc88-3194d9efbe7e"
      },
      "source": [
        "print(\"Classification Report Train Data:\\n\", classification_report(y_train, y_pred_train))\n",
        "\n",
        "print(\"\\nClassification Report Test Data:\\n\", classification_report(y_test, y_pred_test))"
      ],
      "execution_count": null,
      "outputs": [
        {
          "output_type": "stream",
          "text": [
            "Classification Report Train Data:\n",
            "               precision    recall  f1-score   support\n",
            "\n",
            "           0       0.74      0.10      0.17     47388\n",
            "           1       0.72      0.99      0.83    112986\n",
            "\n",
            "    accuracy                           0.72    160374\n",
            "   macro avg       0.73      0.54      0.50    160374\n",
            "weighted avg       0.73      0.72      0.64    160374\n",
            "\n",
            "\n",
            "Classification Report Test Data:\n",
            "               precision    recall  f1-score   support\n",
            "\n",
            "           0       0.58      0.07      0.12     20474\n",
            "           1       0.71      0.98      0.82     48258\n",
            "\n",
            "    accuracy                           0.71     68732\n",
            "   macro avg       0.65      0.52      0.47     68732\n",
            "weighted avg       0.67      0.71      0.62     68732\n",
            "\n"
          ],
          "name": "stdout"
        }
      ]
    },
    {
      "cell_type": "markdown",
      "metadata": {
        "id": "JfHcExYck9Lt"
      },
      "source": [
        "Logistic regression model has an accuracy score of 0.71 on the test data. However model underperforms on class 0 as compared to class 1.\n",
        "\n",
        "This is also because of the imbalance in the dataset. We may now try to resample the dataset and deploy the model for improving the performance. "
      ]
    },
    {
      "cell_type": "code",
      "metadata": {
        "colab": {
          "base_uri": "https://localhost:8080/"
        },
        "id": "4AsVkIOsmR2p",
        "outputId": "abda301c-afac-4a06-d542-302887cec28d"
      },
      "source": [
        "# Find the percentage of 0s and 1s labels in y_train\n",
        "(pd.Series(y_train).value_counts()/ len(pd.Series(y_train))) * 100"
      ],
      "execution_count": null,
      "outputs": [
        {
          "output_type": "execute_result",
          "data": {
            "text/plain": [
              "1    70.451569\n",
              "0    29.548431\n",
              "Name: Gender, dtype: float64"
            ]
          },
          "metadata": {
            "tags": []
          },
          "execution_count": 65
        }
      ]
    },
    {
      "cell_type": "markdown",
      "metadata": {
        "id": "x5D4q2Hmmb1t"
      },
      "source": [
        "We can see 70% of the data used for fitting the model has label 1 (majority class) and only 30% has label 0 (minority class).\n",
        "\n"
      ]
    },
    {
      "cell_type": "markdown",
      "metadata": {
        "id": "6nUwo_jOobRS"
      },
      "source": [
        "##Activity 9: Over Sampling and Under Sampling\n",
        "\n",
        "**Over Smapling**\n",
        "\n",
        "A balanced dataset can be synthesized using an oversampling technique called Synthetic Minority Over Sampling Technique (SMOTE) which aims to increase the number of samples in minority class to create a balanced dataset."
      ]
    },
    {
      "cell_type": "code",
      "metadata": {
        "id": "HgaQTYg5hLqw"
      },
      "source": [
        "# Import the libraries\n",
        "from imblearn.over_sampling import SMOTE\n",
        "\n",
        "# Create an instance of class SMOTE, set ratio = 1. This increases minority class count to match majority class count\n",
        "smote = SMOTE(ratio = 1)\n",
        "\n",
        "# Fit the sample for synthesizing\n",
        "X_train_res, y_train_res = smote.fit_resample(X_train, y_train) \n",
        "\n",
        "# Fit the logistic regression model again with resampled features and target variables.\n",
        "log_reg_ores = LogisticRegression()\n",
        "log_reg_ores.fit(X_train_res, y_train_res)\n",
        "log_reg_ores.score(X_train_res, y_train_res)\n",
        "\n",
        "# Make predictions on train and test dataset\n",
        "y_pred_train = log_reg_ores.predict(X_train_res)\n",
        "y_pred_test = log_reg_ores.predict(X_test)"
      ],
      "execution_count": null,
      "outputs": []
    },
    {
      "cell_type": "code",
      "metadata": {
        "colab": {
          "base_uri": "https://localhost:8080/"
        },
        "id": "DbPl37SFlIxz",
        "outputId": "49f56137-192a-4a87-c655-80cca132e6d1"
      },
      "source": [
        "# Find the number of labels in y_train after resampling\n",
        "pd.Series(y_train_res).value_counts()"
      ],
      "execution_count": null,
      "outputs": [
        {
          "output_type": "execute_result",
          "data": {
            "text/plain": [
              "1    112986\n",
              "0    112986\n",
              "dtype: int64"
            ]
          },
          "metadata": {
            "tags": []
          },
          "execution_count": 67
        }
      ]
    },
    {
      "cell_type": "code",
      "metadata": {
        "colab": {
          "base_uri": "https://localhost:8080/",
          "height": 297
        },
        "id": "PKSRk_xtkeEW",
        "outputId": "32c32c72-8e6b-42fc-9f19-76536c6eac61"
      },
      "source": [
        "# Plot confusion matrix for trained data\n",
        "print(\"Confusion matrix for trained data\")\n",
        "plot_confusion_matrix(log_reg_ores, X_train_res, y_train_res, cmap = 'PuBu', display_labels = ['Female', 'Male'], values_format = 'g')\n",
        "plt.grid(False)"
      ],
      "execution_count": null,
      "outputs": [
        {
          "output_type": "stream",
          "text": [
            "Confusion matrix for trained data\n"
          ],
          "name": "stdout"
        },
        {
          "output_type": "display_data",
          "data": {
            "image/png": "[encoded data removed]",
            "text/plain": [
              "<Figure size 432x288 with 2 Axes>"
            ]
          },
          "metadata": {
            "tags": [],
            "needs_background": "light"
          }
        }
      ]
    },
    {
      "cell_type": "code",
      "metadata": {
        "colab": {
          "base_uri": "https://localhost:8080/",
          "height": 299
        },
        "id": "W3_G59p-oGcL",
        "outputId": "1afd57a9-42d9-4be0-947e-b89f457d1aa6"
      },
      "source": [
        "# Plot confusion matrix for test data\n",
        "print(\"Confusion matrix for test data\")\n",
        "plot_confusion_matrix(log_reg_ores, X_test, y_test, cmap = 'PuBu', display_labels = ['Female', 'Male'], values_format = 'g')\n",
        "plt.grid(False)"
      ],
      "execution_count": null,
      "outputs": [
        {
          "output_type": "stream",
          "text": [
            "Confusion matrix for test data\n"
          ],
          "name": "stdout"
        },
        {
          "output_type": "display_data",
          "data": {
            "image/png": "[encoded data removed]",
            "text/plain": [
              "<Figure size 432x288 with 2 Axes>"
            ]
          },
          "metadata": {
            "tags": [],
            "needs_background": "light"
          }
        }
      ]
    },
    {
      "cell_type": "code",
      "metadata": {
        "colab": {
          "base_uri": "https://localhost:8080/"
        },
        "id": "6k_mSEaMhx7f",
        "outputId": "e1c0f848-83cb-4330-bf27-a66ff71f5296"
      },
      "source": [
        "print(\"Classification Report Train Data:\\n\", classification_report(y_train_res, y_pred_train))"
      ],
      "execution_count": null,
      "outputs": [
        {
          "output_type": "stream",
          "text": [
            "Classification Report Train Data:\n",
            "               precision    recall  f1-score   support\n",
            "\n",
            "           0       0.67      0.74      0.71    112986\n",
            "           1       0.71      0.64      0.67    112986\n",
            "\n",
            "    accuracy                           0.69    225972\n",
            "   macro avg       0.69      0.69      0.69    225972\n",
            "weighted avg       0.69      0.69      0.69    225972\n",
            "\n"
          ],
          "name": "stdout"
        }
      ]
    },
    {
      "cell_type": "code",
      "metadata": {
        "colab": {
          "base_uri": "https://localhost:8080/"
        },
        "id": "dW4Kmuhmt-rF",
        "outputId": "c5b1c95b-3117-4e9d-82c8-35e6eaf5426b"
      },
      "source": [
        "print(\"Classification Report Test Data:\\n\", classification_report(y_test, y_pred_test))"
      ],
      "execution_count": null,
      "outputs": [
        {
          "output_type": "stream",
          "text": [
            "Classification Report Test Data:\n",
            "               precision    recall  f1-score   support\n",
            "\n",
            "           0       0.37      0.58      0.45     20474\n",
            "           1       0.76      0.57      0.66     48258\n",
            "\n",
            "    accuracy                           0.58     68732\n",
            "   macro avg       0.56      0.58      0.55     68732\n",
            "weighted avg       0.64      0.58      0.59     68732\n",
            "\n"
          ],
          "name": "stdout"
        }
      ]
    },
    {
      "cell_type": "markdown",
      "metadata": {
        "id": "ftRA98Wio8Mo"
      },
      "source": [
        "With SMOTE, precision and recall for label 0 has significantly increased, but there is considerable drop in f1-score."
      ]
    },
    {
      "cell_type": "markdown",
      "metadata": {
        "id": "rBFFigZBpPJE"
      },
      "source": [
        "**Under Sampling**\n",
        "\n",
        "Lets us now try to reduce the count of majority class to minority class using RandomUnderSampler sampling strategy."
      ]
    },
    {
      "cell_type": "code",
      "metadata": {
        "colab": {
          "base_uri": "https://localhost:8080/"
        },
        "id": "uD-M4IkylbT0",
        "outputId": "e346f012-fc29-4d35-be6a-c04ac4d65a65"
      },
      "source": [
        "# Value count before under sampling\n",
        "pd.Series(y_train).value_counts()"
      ],
      "execution_count": null,
      "outputs": [
        {
          "output_type": "execute_result",
          "data": {
            "text/plain": [
              "1    112986\n",
              "0     47388\n",
              "Name: Gender, dtype: int64"
            ]
          },
          "metadata": {
            "tags": []
          },
          "execution_count": 72
        }
      ]
    },
    {
      "cell_type": "code",
      "metadata": {
        "id": "Ap-XNBPzh4e_"
      },
      "source": [
        "# Import the libraries\n",
        "from imblearn.under_sampling import RandomUnderSampler\n",
        "\n",
        "# Create an instance of class RandomUnderSampler, set random_state = 0. \n",
        "rus = RandomUnderSampler(random_state=0, sampling_strategy = 'majority')\n",
        "\n",
        "# Fit the sample for synthesizing\n",
        "X_train_ures, y_train_ures = rus.fit_resample(X_train, y_train)\n",
        "\n",
        "# Fit the logistic regression model again with resampled features and target variables.\n",
        "log_reg_ures = LogisticRegression()\n",
        "log_reg_ures.fit(X_train_ures, y_train_ures)\n",
        "log_reg_ures.score(X_train_ures, y_train_ures)\n",
        "\n",
        "\n",
        "# Make predictions on train and test dataset\n",
        "y_pred_train = log_reg_ures.predict(X_train_ures)\n",
        "y_pred_test = log_reg_ures.predict(X_test)"
      ],
      "execution_count": null,
      "outputs": []
    },
    {
      "cell_type": "code",
      "metadata": {
        "colab": {
          "base_uri": "https://localhost:8080/"
        },
        "id": "2bosOZE2k5M7",
        "outputId": "5f8389d3-e2cb-4a30-9f19-0e0ccd3aa406"
      },
      "source": [
        "# Value count after under sampling\n",
        "pd.Series(y_train_ures).value_counts()"
      ],
      "execution_count": null,
      "outputs": [
        {
          "output_type": "execute_result",
          "data": {
            "text/plain": [
              "1    47388\n",
              "0    47388\n",
              "dtype: int64"
            ]
          },
          "metadata": {
            "tags": []
          },
          "execution_count": 74
        }
      ]
    },
    {
      "cell_type": "markdown",
      "metadata": {
        "id": "YDees_j4pszB"
      },
      "source": [
        "As it can be seen both the classes have 47388 samples. This is a balanced dataset."
      ]
    },
    {
      "cell_type": "code",
      "metadata": {
        "colab": {
          "base_uri": "https://localhost:8080/",
          "height": 279
        },
        "id": "KSkRZEYSkVrq",
        "outputId": "292800b4-782b-4508-f3da-1c0fd223a9db"
      },
      "source": [
        "# Plot confusion matrix for train data\n",
        "plot_confusion_matrix(log_reg_ures, X_train_ures, y_train_ures, cmap = 'PuBu', display_labels = ['Female', 'Male'], values_format = 'g')\n",
        "plt.grid(False)"
      ],
      "execution_count": null,
      "outputs": [
        {
          "output_type": "display_data",
          "data": {
            "image/png": "[encoded data removed]",
            "text/plain": [
              "<Figure size 432x288 with 2 Axes>"
            ]
          },
          "metadata": {
            "tags": [],
            "needs_background": "light"
          }
        }
      ]
    },
    {
      "cell_type": "code",
      "metadata": {
        "colab": {
          "base_uri": "https://localhost:8080/",
          "height": 279
        },
        "id": "R5ceEnwPqj5-",
        "outputId": "68da9eb4-e0e4-4a8b-e260-180b3cb7b143"
      },
      "source": [
        "# Plot confusion matrix for test data\n",
        "plot_confusion_matrix(log_reg_ures, X_test, y_test, cmap = 'PuBu', display_labels = ['Female', 'Male'], values_format = 'g')\n",
        "plt.grid(False)"
      ],
      "execution_count": null,
      "outputs": [
        {
          "output_type": "display_data",
          "data": {
            "image/png": "[encoded data removed]",
            "text/plain": [
              "<Figure size 432x288 with 2 Axes>"
            ]
          },
          "metadata": {
            "tags": [],
            "needs_background": "light"
          }
        }
      ]
    },
    {
      "cell_type": "code",
      "metadata": {
        "colab": {
          "base_uri": "https://localhost:8080/"
        },
        "id": "SOSMm1MEkYct",
        "outputId": "a7ffd818-d94d-4fde-adb4-539c92abf273"
      },
      "source": [
        "# Print classification report\n",
        "print(\"Classification Report Train Data:\\n\", classification_report(y_train_ures, y_pred_train))"
      ],
      "execution_count": null,
      "outputs": [
        {
          "output_type": "stream",
          "text": [
            "Classification Report Train Data:\n",
            "               precision    recall  f1-score   support\n",
            "\n",
            "           0       0.69      0.64      0.66     47388\n",
            "           1       0.66      0.71      0.69     47388\n",
            "\n",
            "    accuracy                           0.67     94776\n",
            "   macro avg       0.67      0.67      0.67     94776\n",
            "weighted avg       0.67      0.67      0.67     94776\n",
            "\n"
          ],
          "name": "stdout"
        }
      ]
    },
    {
      "cell_type": "code",
      "metadata": {
        "colab": {
          "base_uri": "https://localhost:8080/"
        },
        "id": "WDOEhwkZt5BJ",
        "outputId": "4cbb57de-3ebb-4e7d-cb8b-20f34bb5a92f"
      },
      "source": [
        "print(\"Classification Report Test Data:\\n\", classification_report(y_test, y_pred_test))"
      ],
      "execution_count": null,
      "outputs": [
        {
          "output_type": "stream",
          "text": [
            "Classification Report Test Data:\n",
            "               precision    recall  f1-score   support\n",
            "\n",
            "           0       0.37      0.54      0.44     20474\n",
            "           1       0.76      0.61      0.68     48258\n",
            "\n",
            "    accuracy                           0.59     68732\n",
            "   macro avg       0.57      0.58      0.56     68732\n",
            "weighted avg       0.64      0.59      0.61     68732\n",
            "\n"
          ],
          "name": "stdout"
        }
      ]
    },
    {
      "cell_type": "markdown",
      "metadata": {
        "id": "6QqIVbBWq4IU"
      },
      "source": [
        "Of the three models, upon under sampling logistic regression has an f1-score of 0.59 which isn't very bad considering the fact that its performing fairly descent on both the classes in contradiction to model with no sampling implemented. "
      ]
    },
    {
      "cell_type": "markdown",
      "metadata": {
        "id": "zFQ5pTMsrSEK"
      },
      "source": [
        "In this lesson a logistic regression classification model is deployed with and without sampling startegies which uses movie dialogues feature alone of the characters to predict the character gender. We may add other numerical featues like dialogue length, word count, character id frequency of occurence for a more robust model. "
      ]
    }
  ]
}